{
 "cells": [
  {
   "cell_type": "markdown",
   "id": "913d317d",
   "metadata": {},
   "source": [
    "# Required Librariers "
   ]
  },
  {
   "cell_type": "markdown",
   "id": "3ac5568c",
   "metadata": {},
   "source": [
    "**install all required librariers but one by one**"
   ]
  },
  {
   "cell_type": "code",
   "execution_count": null,
   "id": "571c94af",
   "metadata": {},
   "outputs": [],
   "source": [
    "#pip install numpy\n",
    "#pip install pandas\n",
    "#pip install pandas_profiling\n",
    "#pip install seaborn\n",
    "#pip install jupyter_scheduler\n",
    "#pip install jupyterlab-scheduler\n",
    "#pip install snowflake-connector-python\n",
    "#pip install snowflake-sqlalchemy\n",
    "#pip install \"snowflake-connector-python[pandas]\""
   ]
  },
  {
   "cell_type": "markdown",
   "id": "1ef55ce1",
   "metadata": {},
   "source": [
    "# Import all required librariers"
   ]
  },
  {
   "cell_type": "code",
   "execution_count": 1,
   "id": "1d19cb55",
   "metadata": {},
   "outputs": [
    {
     "name": "stderr",
     "output_type": "stream",
     "text": [
      "C:\\Users\\gsubh\\AppData\\Local\\Temp\\ipykernel_17296\\3977358398.py:3: DeprecationWarning: `import pandas_profiling` is going to be deprecated by April 1st. Please use `import ydata_profiling` instead.\n",
      "  import pandas_profiling\n"
     ]
    }
   ],
   "source": [
    "import numpy as np\n",
    "import pandas as pd\n",
    "import pandas_profiling \n",
    "import matplotlib.pyplot as plt \n",
    "import getpass\n",
    "import seaborn as sns \n",
    "%matplotlib inline\n",
    "import snowflake.connector"
   ]
  },
  {
   "cell_type": "markdown",
   "id": "100013fd",
   "metadata": {},
   "source": [
    "# Establishing connection to Snowflake"
   ]
  },
  {
   "cell_type": "code",
   "execution_count": 3,
   "id": "239cecdf",
   "metadata": {},
   "outputs": [
    {
     "name": "stdout",
     "output_type": "stream",
     "text": [
      "Your Snowflake Password: ········\n"
     ]
    }
   ],
   "source": [
    "conn = snowflake.connector.connect(\n",
    "        user = 'PROJECT2',\n",
    "        ##password = getpass.getpass('Your Snowflake Password: '),\n",
    "        password='Subhajit@9',\n",
    "        ##  account = https://qdevimk-uf95771.snowflakecomputing.com\n",
    "        account = 'qdevimk-uf95771',\n",
    "        database='RETAILS',\n",
    "        schema='PUBLIC',\n",
    "        warehouse='COMPUTE_WH',\n",
    "  )"
   ]
  },
  {
   "cell_type": "code",
   "execution_count": 4,
   "id": "43f11cf8",
   "metadata": {},
   "outputs": [],
   "source": [
    "cur = conn.cursor()"
   ]
  },
  {
   "cell_type": "markdown",
   "id": "d7aa86d7",
   "metadata": {},
   "source": [
    "# Define SQL queries"
   ]
  },
  {
   "cell_type": "code",
   "execution_count": 5,
   "id": "fa405b8d",
   "metadata": {},
   "outputs": [],
   "source": [
    "select_demographic_RAW = 'SELECT * FROM demographic_RAW'\n",
    "select_CAMPAIGN_DESC_RAW = 'SELECT * FROM CAMPAIGN_DESC_RAW'\n",
    "select_CAMPAIGN_RAW = 'SELECT * FROM CAMPAIGN_RAW'\n",
    "select_PRODUCT_RAW = 'SELECT * FROM PRODUCT_RAW'\n",
    "select_COUPON_RAW = 'SELECT * FROM COUPON_RAW'\n",
    "select_COUPON_REDEMPT_RAW = 'SELECT * FROM COUPON_REDEMPT_RAW'\n",
    "select_TRANSACTION_RAW = 'SELECT * FROM TRANSACTION_RAW'"
   ]
  },
  {
   "cell_type": "markdown",
   "id": "333cf94b",
   "metadata": {},
   "source": [
    "# Execute SQL queries and fetch data into Pandas DataFrames"
   ]
  },
  {
   "cell_type": "code",
   "execution_count": 6,
   "id": "0ba78024",
   "metadata": {},
   "outputs": [],
   "source": [
    "cur.execute(select_demographic_RAW)\n",
    "demographic_RAW = cur.fetch_pandas_all()"
   ]
  },
  {
   "cell_type": "code",
   "execution_count": 7,
   "id": "e4ea3a74",
   "metadata": {},
   "outputs": [],
   "source": [
    "cur.execute(select_CAMPAIGN_DESC_RAW)\n",
    "CAMPAIGN_DESC_RAW = cur.fetch_pandas_all()"
   ]
  },
  {
   "cell_type": "code",
   "execution_count": 8,
   "id": "e2558bbc",
   "metadata": {},
   "outputs": [],
   "source": [
    "cur.execute(select_CAMPAIGN_RAW)\n",
    "CAMPAIGN_RAW = cur.fetch_pandas_all()"
   ]
  },
  {
   "cell_type": "code",
   "execution_count": 9,
   "id": "65b85ab5",
   "metadata": {},
   "outputs": [],
   "source": [
    "cur.execute(select_PRODUCT_RAW)\n",
    "PRODUCT_RAW = cur.fetch_pandas_all()"
   ]
  },
  {
   "cell_type": "code",
   "execution_count": 10,
   "id": "5842357f",
   "metadata": {},
   "outputs": [],
   "source": [
    "cur.execute(select_COUPON_RAW)\n",
    "COUPON_RAW = cur.fetch_pandas_all()"
   ]
  },
  {
   "cell_type": "code",
   "execution_count": 11,
   "id": "42aa598d",
   "metadata": {},
   "outputs": [],
   "source": [
    "cur.execute(select_COUPON_REDEMPT_RAW)\n",
    "COUPON_REDEMPT_RAW = cur.fetch_pandas_all()"
   ]
  },
  {
   "cell_type": "code",
   "execution_count": 12,
   "id": "b8c06db1",
   "metadata": {},
   "outputs": [],
   "source": [
    "cur.execute(select_TRANSACTION_RAW)\n",
    "TRANSACTION_RAW = cur.fetch_pandas_all()"
   ]
  },
  {
   "cell_type": "code",
   "execution_count": 13,
   "id": "5899e9b1",
   "metadata": {},
   "outputs": [],
   "source": [
    "cur.close()\n",
    "conn.close()"
   ]
  },
  {
   "cell_type": "markdown",
   "id": "4c829b57",
   "metadata": {},
   "source": [
    "# Display the first 5 rows of each DataFrame"
   ]
  },
  {
   "cell_type": "code",
   "execution_count": 14,
   "id": "0edaa0cd",
   "metadata": {},
   "outputs": [
    {
     "data": {
      "text/html": [
       "<div>\n",
       "<style scoped>\n",
       "    .dataframe tbody tr th:only-of-type {\n",
       "        vertical-align: middle;\n",
       "    }\n",
       "\n",
       "    .dataframe tbody tr th {\n",
       "        vertical-align: top;\n",
       "    }\n",
       "\n",
       "    .dataframe thead th {\n",
       "        text-align: right;\n",
       "    }\n",
       "</style>\n",
       "<table border=\"1\" class=\"dataframe\">\n",
       "  <thead>\n",
       "    <tr style=\"text-align: right;\">\n",
       "      <th></th>\n",
       "      <th>AGE_DESC</th>\n",
       "      <th>MARITAL_STATUS_CODE</th>\n",
       "      <th>INCOME_DESC</th>\n",
       "      <th>HOMEOWNER_DESC</th>\n",
       "      <th>HH_COMP_DESC</th>\n",
       "      <th>HOUSEHOLD_SIZE_DESC</th>\n",
       "      <th>KID_CATEGORY_DESC</th>\n",
       "      <th>HOUSEHOLD_KEY</th>\n",
       "    </tr>\n",
       "  </thead>\n",
       "  <tbody>\n",
       "    <tr>\n",
       "      <th>0</th>\n",
       "      <td>65+</td>\n",
       "      <td>A</td>\n",
       "      <td>35-49K</td>\n",
       "      <td>Homeowner</td>\n",
       "      <td>2 Adults No Kids</td>\n",
       "      <td>2</td>\n",
       "      <td>None/Unknown</td>\n",
       "      <td>1</td>\n",
       "    </tr>\n",
       "    <tr>\n",
       "      <th>1</th>\n",
       "      <td>45-54</td>\n",
       "      <td>A</td>\n",
       "      <td>50-74K</td>\n",
       "      <td>Homeowner</td>\n",
       "      <td>2 Adults No Kids</td>\n",
       "      <td>2</td>\n",
       "      <td>None/Unknown</td>\n",
       "      <td>7</td>\n",
       "    </tr>\n",
       "    <tr>\n",
       "      <th>2</th>\n",
       "      <td>25-34</td>\n",
       "      <td>U</td>\n",
       "      <td>25-34K</td>\n",
       "      <td>Unknown</td>\n",
       "      <td>2 Adults Kids</td>\n",
       "      <td>3</td>\n",
       "      <td>1</td>\n",
       "      <td>8</td>\n",
       "    </tr>\n",
       "    <tr>\n",
       "      <th>3</th>\n",
       "      <td>25-34</td>\n",
       "      <td>U</td>\n",
       "      <td>75-99K</td>\n",
       "      <td>Homeowner</td>\n",
       "      <td>2 Adults Kids</td>\n",
       "      <td>4</td>\n",
       "      <td>2</td>\n",
       "      <td>13</td>\n",
       "    </tr>\n",
       "    <tr>\n",
       "      <th>4</th>\n",
       "      <td>45-54</td>\n",
       "      <td>B</td>\n",
       "      <td>50-74K</td>\n",
       "      <td>Homeowner</td>\n",
       "      <td>Single Female</td>\n",
       "      <td>1</td>\n",
       "      <td>None/Unknown</td>\n",
       "      <td>16</td>\n",
       "    </tr>\n",
       "  </tbody>\n",
       "</table>\n",
       "</div>"
      ],
      "text/plain": [
       "  AGE_DESC MARITAL_STATUS_CODE INCOME_DESC HOMEOWNER_DESC      HH_COMP_DESC  \\\n",
       "0      65+                   A      35-49K      Homeowner  2 Adults No Kids   \n",
       "1    45-54                   A      50-74K      Homeowner  2 Adults No Kids   \n",
       "2    25-34                   U      25-34K        Unknown     2 Adults Kids   \n",
       "3    25-34                   U      75-99K      Homeowner     2 Adults Kids   \n",
       "4    45-54                   B      50-74K      Homeowner     Single Female   \n",
       "\n",
       "  HOUSEHOLD_SIZE_DESC KID_CATEGORY_DESC  HOUSEHOLD_KEY  \n",
       "0                   2      None/Unknown              1  \n",
       "1                   2      None/Unknown              7  \n",
       "2                   3                 1              8  \n",
       "3                   4                 2             13  \n",
       "4                   1      None/Unknown             16  "
      ]
     },
     "execution_count": 14,
     "metadata": {},
     "output_type": "execute_result"
    }
   ],
   "source": [
    "demographic_RAW.head()"
   ]
  },
  {
   "cell_type": "code",
   "execution_count": 15,
   "id": "0a3ba26a",
   "metadata": {},
   "outputs": [
    {
     "data": {
      "text/html": [
       "<div>\n",
       "<style scoped>\n",
       "    .dataframe tbody tr th:only-of-type {\n",
       "        vertical-align: middle;\n",
       "    }\n",
       "\n",
       "    .dataframe tbody tr th {\n",
       "        vertical-align: top;\n",
       "    }\n",
       "\n",
       "    .dataframe thead th {\n",
       "        text-align: right;\n",
       "    }\n",
       "</style>\n",
       "<table border=\"1\" class=\"dataframe\">\n",
       "  <thead>\n",
       "    <tr style=\"text-align: right;\">\n",
       "      <th></th>\n",
       "      <th>DESCRIPTION</th>\n",
       "      <th>CAMPAIGN</th>\n",
       "      <th>START_DAY</th>\n",
       "      <th>END_DAY</th>\n",
       "    </tr>\n",
       "  </thead>\n",
       "  <tbody>\n",
       "    <tr>\n",
       "      <th>0</th>\n",
       "      <td>TypeB</td>\n",
       "      <td>24</td>\n",
       "      <td>659</td>\n",
       "      <td>719</td>\n",
       "    </tr>\n",
       "    <tr>\n",
       "      <th>1</th>\n",
       "      <td>TypeC</td>\n",
       "      <td>15</td>\n",
       "      <td>547</td>\n",
       "      <td>708</td>\n",
       "    </tr>\n",
       "    <tr>\n",
       "      <th>2</th>\n",
       "      <td>TypeB</td>\n",
       "      <td>25</td>\n",
       "      <td>659</td>\n",
       "      <td>691</td>\n",
       "    </tr>\n",
       "    <tr>\n",
       "      <th>3</th>\n",
       "      <td>TypeC</td>\n",
       "      <td>20</td>\n",
       "      <td>615</td>\n",
       "      <td>685</td>\n",
       "    </tr>\n",
       "    <tr>\n",
       "      <th>4</th>\n",
       "      <td>TypeB</td>\n",
       "      <td>23</td>\n",
       "      <td>646</td>\n",
       "      <td>684</td>\n",
       "    </tr>\n",
       "  </tbody>\n",
       "</table>\n",
       "</div>"
      ],
      "text/plain": [
       "  DESCRIPTION  CAMPAIGN  START_DAY  END_DAY\n",
       "0       TypeB        24        659      719\n",
       "1       TypeC        15        547      708\n",
       "2       TypeB        25        659      691\n",
       "3       TypeC        20        615      685\n",
       "4       TypeB        23        646      684"
      ]
     },
     "execution_count": 15,
     "metadata": {},
     "output_type": "execute_result"
    }
   ],
   "source": [
    "CAMPAIGN_DESC_RAW.head()"
   ]
  },
  {
   "cell_type": "code",
   "execution_count": 16,
   "id": "8531a302",
   "metadata": {},
   "outputs": [
    {
     "data": {
      "text/html": [
       "<div>\n",
       "<style scoped>\n",
       "    .dataframe tbody tr th:only-of-type {\n",
       "        vertical-align: middle;\n",
       "    }\n",
       "\n",
       "    .dataframe tbody tr th {\n",
       "        vertical-align: top;\n",
       "    }\n",
       "\n",
       "    .dataframe thead th {\n",
       "        text-align: right;\n",
       "    }\n",
       "</style>\n",
       "<table border=\"1\" class=\"dataframe\">\n",
       "  <thead>\n",
       "    <tr style=\"text-align: right;\">\n",
       "      <th></th>\n",
       "      <th>DESCRIPTION</th>\n",
       "      <th>HOUSEHOLD_KEY</th>\n",
       "      <th>CAMPAIGN</th>\n",
       "    </tr>\n",
       "  </thead>\n",
       "  <tbody>\n",
       "    <tr>\n",
       "      <th>0</th>\n",
       "      <td>TypeA</td>\n",
       "      <td>17</td>\n",
       "      <td>26</td>\n",
       "    </tr>\n",
       "    <tr>\n",
       "      <th>1</th>\n",
       "      <td>TypeA</td>\n",
       "      <td>27</td>\n",
       "      <td>26</td>\n",
       "    </tr>\n",
       "    <tr>\n",
       "      <th>2</th>\n",
       "      <td>TypeA</td>\n",
       "      <td>212</td>\n",
       "      <td>26</td>\n",
       "    </tr>\n",
       "    <tr>\n",
       "      <th>3</th>\n",
       "      <td>TypeA</td>\n",
       "      <td>208</td>\n",
       "      <td>26</td>\n",
       "    </tr>\n",
       "    <tr>\n",
       "      <th>4</th>\n",
       "      <td>TypeA</td>\n",
       "      <td>192</td>\n",
       "      <td>26</td>\n",
       "    </tr>\n",
       "  </tbody>\n",
       "</table>\n",
       "</div>"
      ],
      "text/plain": [
       "  DESCRIPTION  HOUSEHOLD_KEY  CAMPAIGN\n",
       "0       TypeA             17        26\n",
       "1       TypeA             27        26\n",
       "2       TypeA            212        26\n",
       "3       TypeA            208        26\n",
       "4       TypeA            192        26"
      ]
     },
     "execution_count": 16,
     "metadata": {},
     "output_type": "execute_result"
    }
   ],
   "source": [
    "CAMPAIGN_RAW.head()"
   ]
  },
  {
   "cell_type": "code",
   "execution_count": 17,
   "id": "0fb35238",
   "metadata": {},
   "outputs": [
    {
     "data": {
      "text/html": [
       "<div>\n",
       "<style scoped>\n",
       "    .dataframe tbody tr th:only-of-type {\n",
       "        vertical-align: middle;\n",
       "    }\n",
       "\n",
       "    .dataframe tbody tr th {\n",
       "        vertical-align: top;\n",
       "    }\n",
       "\n",
       "    .dataframe thead th {\n",
       "        text-align: right;\n",
       "    }\n",
       "</style>\n",
       "<table border=\"1\" class=\"dataframe\">\n",
       "  <thead>\n",
       "    <tr style=\"text-align: right;\">\n",
       "      <th></th>\n",
       "      <th>PRODUCT_ID</th>\n",
       "      <th>MANUFACTURER</th>\n",
       "      <th>DEPARTMENT</th>\n",
       "      <th>BRAND</th>\n",
       "      <th>COMMODITY_DESC</th>\n",
       "      <th>SUB_COMMODITY_DESC</th>\n",
       "      <th>CURR_SIZE_OF_PRODUCT</th>\n",
       "    </tr>\n",
       "  </thead>\n",
       "  <tbody>\n",
       "    <tr>\n",
       "      <th>0</th>\n",
       "      <td>25671</td>\n",
       "      <td>2</td>\n",
       "      <td>GROCERY</td>\n",
       "      <td>National</td>\n",
       "      <td>FRZN ICE</td>\n",
       "      <td>ICE - CRUSHED/CUBED</td>\n",
       "      <td>22 LB</td>\n",
       "    </tr>\n",
       "    <tr>\n",
       "      <th>1</th>\n",
       "      <td>26081</td>\n",
       "      <td>2</td>\n",
       "      <td>MISC. TRANS.</td>\n",
       "      <td>National</td>\n",
       "      <td>NO COMMODITY DESCRIPTION</td>\n",
       "      <td>NO SUBCOMMODITY DESCRIPTION</td>\n",
       "      <td></td>\n",
       "    </tr>\n",
       "    <tr>\n",
       "      <th>2</th>\n",
       "      <td>26093</td>\n",
       "      <td>69</td>\n",
       "      <td>PASTRY</td>\n",
       "      <td>Private</td>\n",
       "      <td>BREAD</td>\n",
       "      <td>BREAD:ITALIAN/FRENCH</td>\n",
       "      <td></td>\n",
       "    </tr>\n",
       "    <tr>\n",
       "      <th>3</th>\n",
       "      <td>26190</td>\n",
       "      <td>69</td>\n",
       "      <td>GROCERY</td>\n",
       "      <td>Private</td>\n",
       "      <td>FRUIT - SHELF STABLE</td>\n",
       "      <td>APPLE SAUCE</td>\n",
       "      <td>50 OZ</td>\n",
       "    </tr>\n",
       "    <tr>\n",
       "      <th>4</th>\n",
       "      <td>26355</td>\n",
       "      <td>69</td>\n",
       "      <td>GROCERY</td>\n",
       "      <td>Private</td>\n",
       "      <td>COOKIES/CONES</td>\n",
       "      <td>SPECIALTY COOKIES</td>\n",
       "      <td>14 OZ</td>\n",
       "    </tr>\n",
       "  </tbody>\n",
       "</table>\n",
       "</div>"
      ],
      "text/plain": [
       "   PRODUCT_ID  MANUFACTURER    DEPARTMENT     BRAND            COMMODITY_DESC  \\\n",
       "0       25671             2       GROCERY  National                  FRZN ICE   \n",
       "1       26081             2  MISC. TRANS.  National  NO COMMODITY DESCRIPTION   \n",
       "2       26093            69        PASTRY   Private                     BREAD   \n",
       "3       26190            69       GROCERY   Private      FRUIT - SHELF STABLE   \n",
       "4       26355            69       GROCERY   Private             COOKIES/CONES   \n",
       "\n",
       "            SUB_COMMODITY_DESC CURR_SIZE_OF_PRODUCT  \n",
       "0          ICE - CRUSHED/CUBED                22 LB  \n",
       "1  NO SUBCOMMODITY DESCRIPTION                       \n",
       "2         BREAD:ITALIAN/FRENCH                       \n",
       "3                  APPLE SAUCE                50 OZ  \n",
       "4            SPECIALTY COOKIES                14 OZ  "
      ]
     },
     "execution_count": 17,
     "metadata": {},
     "output_type": "execute_result"
    }
   ],
   "source": [
    "PRODUCT_RAW.head()"
   ]
  },
  {
   "cell_type": "code",
   "execution_count": 18,
   "id": "2b08d401",
   "metadata": {},
   "outputs": [
    {
     "data": {
      "text/html": [
       "<div>\n",
       "<style scoped>\n",
       "    .dataframe tbody tr th:only-of-type {\n",
       "        vertical-align: middle;\n",
       "    }\n",
       "\n",
       "    .dataframe tbody tr th {\n",
       "        vertical-align: top;\n",
       "    }\n",
       "\n",
       "    .dataframe thead th {\n",
       "        text-align: right;\n",
       "    }\n",
       "</style>\n",
       "<table border=\"1\" class=\"dataframe\">\n",
       "  <thead>\n",
       "    <tr style=\"text-align: right;\">\n",
       "      <th></th>\n",
       "      <th>COUPON_UPC</th>\n",
       "      <th>PRODUCT_ID</th>\n",
       "      <th>CAMPAIGN</th>\n",
       "    </tr>\n",
       "  </thead>\n",
       "  <tbody>\n",
       "    <tr>\n",
       "      <th>0</th>\n",
       "      <td>10000089061</td>\n",
       "      <td>27160</td>\n",
       "      <td>4</td>\n",
       "    </tr>\n",
       "    <tr>\n",
       "      <th>1</th>\n",
       "      <td>10000089064</td>\n",
       "      <td>27754</td>\n",
       "      <td>9</td>\n",
       "    </tr>\n",
       "    <tr>\n",
       "      <th>2</th>\n",
       "      <td>10000089073</td>\n",
       "      <td>28897</td>\n",
       "      <td>12</td>\n",
       "    </tr>\n",
       "    <tr>\n",
       "      <th>3</th>\n",
       "      <td>51800009050</td>\n",
       "      <td>28919</td>\n",
       "      <td>28</td>\n",
       "    </tr>\n",
       "    <tr>\n",
       "      <th>4</th>\n",
       "      <td>52100000076</td>\n",
       "      <td>28929</td>\n",
       "      <td>25</td>\n",
       "    </tr>\n",
       "  </tbody>\n",
       "</table>\n",
       "</div>"
      ],
      "text/plain": [
       "    COUPON_UPC  PRODUCT_ID  CAMPAIGN\n",
       "0  10000089061       27160         4\n",
       "1  10000089064       27754         9\n",
       "2  10000089073       28897        12\n",
       "3  51800009050       28919        28\n",
       "4  52100000076       28929        25"
      ]
     },
     "execution_count": 18,
     "metadata": {},
     "output_type": "execute_result"
    }
   ],
   "source": [
    "COUPON_RAW.head()"
   ]
  },
  {
   "cell_type": "code",
   "execution_count": 19,
   "id": "e445c475",
   "metadata": {},
   "outputs": [
    {
     "data": {
      "text/html": [
       "<div>\n",
       "<style scoped>\n",
       "    .dataframe tbody tr th:only-of-type {\n",
       "        vertical-align: middle;\n",
       "    }\n",
       "\n",
       "    .dataframe tbody tr th {\n",
       "        vertical-align: top;\n",
       "    }\n",
       "\n",
       "    .dataframe thead th {\n",
       "        text-align: right;\n",
       "    }\n",
       "</style>\n",
       "<table border=\"1\" class=\"dataframe\">\n",
       "  <thead>\n",
       "    <tr style=\"text-align: right;\">\n",
       "      <th></th>\n",
       "      <th>HOUSEHOLD_KEY</th>\n",
       "      <th>DAY</th>\n",
       "      <th>COUPON_UPC</th>\n",
       "      <th>CAMPAIGN</th>\n",
       "    </tr>\n",
       "  </thead>\n",
       "  <tbody>\n",
       "    <tr>\n",
       "      <th>0</th>\n",
       "      <td>1</td>\n",
       "      <td>421</td>\n",
       "      <td>10000085364</td>\n",
       "      <td>8</td>\n",
       "    </tr>\n",
       "    <tr>\n",
       "      <th>1</th>\n",
       "      <td>1</td>\n",
       "      <td>421</td>\n",
       "      <td>51700010076</td>\n",
       "      <td>8</td>\n",
       "    </tr>\n",
       "    <tr>\n",
       "      <th>2</th>\n",
       "      <td>1</td>\n",
       "      <td>427</td>\n",
       "      <td>54200000033</td>\n",
       "      <td>8</td>\n",
       "    </tr>\n",
       "    <tr>\n",
       "      <th>3</th>\n",
       "      <td>1</td>\n",
       "      <td>597</td>\n",
       "      <td>10000085476</td>\n",
       "      <td>18</td>\n",
       "    </tr>\n",
       "    <tr>\n",
       "      <th>4</th>\n",
       "      <td>1</td>\n",
       "      <td>597</td>\n",
       "      <td>54200029176</td>\n",
       "      <td>18</td>\n",
       "    </tr>\n",
       "  </tbody>\n",
       "</table>\n",
       "</div>"
      ],
      "text/plain": [
       "   HOUSEHOLD_KEY  DAY   COUPON_UPC  CAMPAIGN\n",
       "0              1  421  10000085364         8\n",
       "1              1  421  51700010076         8\n",
       "2              1  427  54200000033         8\n",
       "3              1  597  10000085476        18\n",
       "4              1  597  54200029176        18"
      ]
     },
     "execution_count": 19,
     "metadata": {},
     "output_type": "execute_result"
    }
   ],
   "source": [
    "COUPON_REDEMPT_RAW.head()"
   ]
  },
  {
   "cell_type": "code",
   "execution_count": 20,
   "id": "980eecde",
   "metadata": {},
   "outputs": [
    {
     "data": {
      "text/html": [
       "<div>\n",
       "<style scoped>\n",
       "    .dataframe tbody tr th:only-of-type {\n",
       "        vertical-align: middle;\n",
       "    }\n",
       "\n",
       "    .dataframe tbody tr th {\n",
       "        vertical-align: top;\n",
       "    }\n",
       "\n",
       "    .dataframe thead th {\n",
       "        text-align: right;\n",
       "    }\n",
       "</style>\n",
       "<table border=\"1\" class=\"dataframe\">\n",
       "  <thead>\n",
       "    <tr style=\"text-align: right;\">\n",
       "      <th></th>\n",
       "      <th>HOUSEHOLD_KEY</th>\n",
       "      <th>BASKET_ID</th>\n",
       "      <th>DAY</th>\n",
       "      <th>PRODUCT_ID</th>\n",
       "      <th>QUANTITY</th>\n",
       "      <th>SALES_VALUE</th>\n",
       "      <th>STORE_ID</th>\n",
       "      <th>RETAIL_DISC</th>\n",
       "      <th>TRANS_TIME</th>\n",
       "      <th>WEEK_NO</th>\n",
       "      <th>COUPON_DISC</th>\n",
       "      <th>COUPON_MATCH_DISC</th>\n",
       "    </tr>\n",
       "  </thead>\n",
       "  <tbody>\n",
       "    <tr>\n",
       "      <th>0</th>\n",
       "      <td>2375</td>\n",
       "      <td>26984851472</td>\n",
       "      <td>1</td>\n",
       "      <td>1004906</td>\n",
       "      <td>1</td>\n",
       "      <td>1.39</td>\n",
       "      <td>364</td>\n",
       "      <td>-0.60</td>\n",
       "      <td>1631</td>\n",
       "      <td>1</td>\n",
       "      <td>0</td>\n",
       "      <td>0</td>\n",
       "    </tr>\n",
       "    <tr>\n",
       "      <th>1</th>\n",
       "      <td>2375</td>\n",
       "      <td>26984851472</td>\n",
       "      <td>1</td>\n",
       "      <td>1033142</td>\n",
       "      <td>1</td>\n",
       "      <td>0.82</td>\n",
       "      <td>364</td>\n",
       "      <td>0.00</td>\n",
       "      <td>1631</td>\n",
       "      <td>1</td>\n",
       "      <td>0</td>\n",
       "      <td>0</td>\n",
       "    </tr>\n",
       "    <tr>\n",
       "      <th>2</th>\n",
       "      <td>2375</td>\n",
       "      <td>26984851472</td>\n",
       "      <td>1</td>\n",
       "      <td>1036325</td>\n",
       "      <td>1</td>\n",
       "      <td>0.99</td>\n",
       "      <td>364</td>\n",
       "      <td>-0.30</td>\n",
       "      <td>1631</td>\n",
       "      <td>1</td>\n",
       "      <td>0</td>\n",
       "      <td>0</td>\n",
       "    </tr>\n",
       "    <tr>\n",
       "      <th>3</th>\n",
       "      <td>2375</td>\n",
       "      <td>26984851472</td>\n",
       "      <td>1</td>\n",
       "      <td>1082185</td>\n",
       "      <td>1</td>\n",
       "      <td>1.21</td>\n",
       "      <td>364</td>\n",
       "      <td>0.00</td>\n",
       "      <td>1631</td>\n",
       "      <td>1</td>\n",
       "      <td>0</td>\n",
       "      <td>0</td>\n",
       "    </tr>\n",
       "    <tr>\n",
       "      <th>4</th>\n",
       "      <td>2375</td>\n",
       "      <td>26984851472</td>\n",
       "      <td>1</td>\n",
       "      <td>8160430</td>\n",
       "      <td>1</td>\n",
       "      <td>1.50</td>\n",
       "      <td>364</td>\n",
       "      <td>-0.39</td>\n",
       "      <td>1631</td>\n",
       "      <td>1</td>\n",
       "      <td>0</td>\n",
       "      <td>0</td>\n",
       "    </tr>\n",
       "  </tbody>\n",
       "</table>\n",
       "</div>"
      ],
      "text/plain": [
       "   HOUSEHOLD_KEY    BASKET_ID  DAY  PRODUCT_ID  QUANTITY  SALES_VALUE  \\\n",
       "0           2375  26984851472    1     1004906         1         1.39   \n",
       "1           2375  26984851472    1     1033142         1         0.82   \n",
       "2           2375  26984851472    1     1036325         1         0.99   \n",
       "3           2375  26984851472    1     1082185         1         1.21   \n",
       "4           2375  26984851472    1     8160430         1         1.50   \n",
       "\n",
       "   STORE_ID  RETAIL_DISC  TRANS_TIME  WEEK_NO  COUPON_DISC  COUPON_MATCH_DISC  \n",
       "0       364        -0.60        1631        1            0                  0  \n",
       "1       364         0.00        1631        1            0                  0  \n",
       "2       364        -0.30        1631        1            0                  0  \n",
       "3       364         0.00        1631        1            0                  0  \n",
       "4       364        -0.39        1631        1            0                  0  "
      ]
     },
     "execution_count": 20,
     "metadata": {},
     "output_type": "execute_result"
    }
   ],
   "source": [
    "TRANSACTION_RAW.head()"
   ]
  },
  {
   "cell_type": "markdown",
   "id": "bd1c862e",
   "metadata": {},
   "source": [
    "# Check the shape of each DataFrame"
   ]
  },
  {
   "cell_type": "code",
   "execution_count": 21,
   "id": "134272ef",
   "metadata": {},
   "outputs": [
    {
     "data": {
      "text/plain": [
       "(30, 4)"
      ]
     },
     "execution_count": 21,
     "metadata": {},
     "output_type": "execute_result"
    }
   ],
   "source": [
    "CAMPAIGN_DESC_RAW.shape"
   ]
  },
  {
   "cell_type": "code",
   "execution_count": 22,
   "id": "50cb9365",
   "metadata": {},
   "outputs": [
    {
     "data": {
      "text/plain": [
       "(2318, 4)"
      ]
     },
     "execution_count": 22,
     "metadata": {},
     "output_type": "execute_result"
    }
   ],
   "source": [
    "COUPON_REDEMPT_RAW.shape"
   ]
  },
  {
   "cell_type": "code",
   "execution_count": 23,
   "id": "04e741b3",
   "metadata": {},
   "outputs": [
    {
     "data": {
      "text/plain": [
       "(124548, 3)"
      ]
     },
     "execution_count": 23,
     "metadata": {},
     "output_type": "execute_result"
    }
   ],
   "source": [
    "COUPON_RAW.shape"
   ]
  },
  {
   "cell_type": "code",
   "execution_count": 24,
   "id": "e6ad37da",
   "metadata": {},
   "outputs": [
    {
     "data": {
      "text/plain": [
       "(2500, 8)"
      ]
     },
     "execution_count": 24,
     "metadata": {},
     "output_type": "execute_result"
    }
   ],
   "source": [
    "demographic_RAW.shape"
   ]
  },
  {
   "cell_type": "code",
   "execution_count": 25,
   "id": "7911b67f",
   "metadata": {},
   "outputs": [
    {
     "data": {
      "text/plain": [
       "(92353, 7)"
      ]
     },
     "execution_count": 25,
     "metadata": {},
     "output_type": "execute_result"
    }
   ],
   "source": [
    "PRODUCT_RAW.shape"
   ]
  },
  {
   "cell_type": "code",
   "execution_count": 26,
   "id": "4bdacf3d",
   "metadata": {},
   "outputs": [
    {
     "data": {
      "text/plain": [
       "(450416, 12)"
      ]
     },
     "execution_count": 26,
     "metadata": {},
     "output_type": "execute_result"
    }
   ],
   "source": [
    "TRANSACTION_RAW.shape"
   ]
  },
  {
   "cell_type": "markdown",
   "id": "e972a20d",
   "metadata": {},
   "source": [
    "# Check => Missing values and Descriptive statistics"
   ]
  },
  {
   "cell_type": "code",
   "execution_count": 27,
   "id": "e3e93783",
   "metadata": {},
   "outputs": [
    {
     "data": {
      "text/plain": [
       "DESCRIPTION    0\n",
       "CAMPAIGN       0\n",
       "START_DAY      0\n",
       "END_DAY        0\n",
       "dtype: int64"
      ]
     },
     "execution_count": 27,
     "metadata": {},
     "output_type": "execute_result"
    }
   ],
   "source": [
    "CAMPAIGN_DESC_RAW.isnull().sum()"
   ]
  },
  {
   "cell_type": "code",
   "execution_count": 28,
   "id": "30e8aad6",
   "metadata": {},
   "outputs": [
    {
     "data": {
      "text/html": [
       "<div>\n",
       "<style scoped>\n",
       "    .dataframe tbody tr th:only-of-type {\n",
       "        vertical-align: middle;\n",
       "    }\n",
       "\n",
       "    .dataframe tbody tr th {\n",
       "        vertical-align: top;\n",
       "    }\n",
       "\n",
       "    .dataframe thead th {\n",
       "        text-align: right;\n",
       "    }\n",
       "</style>\n",
       "<table border=\"1\" class=\"dataframe\">\n",
       "  <thead>\n",
       "    <tr style=\"text-align: right;\">\n",
       "      <th></th>\n",
       "      <th>CAMPAIGN</th>\n",
       "      <th>START_DAY</th>\n",
       "      <th>END_DAY</th>\n",
       "    </tr>\n",
       "  </thead>\n",
       "  <tbody>\n",
       "    <tr>\n",
       "      <th>count</th>\n",
       "      <td>30.000000</td>\n",
       "      <td>30.000000</td>\n",
       "      <td>30.000000</td>\n",
       "    </tr>\n",
       "    <tr>\n",
       "      <th>mean</th>\n",
       "      <td>15.500000</td>\n",
       "      <td>463.866667</td>\n",
       "      <td>510.466667</td>\n",
       "    </tr>\n",
       "    <tr>\n",
       "      <th>std</th>\n",
       "      <td>8.803408</td>\n",
       "      <td>134.488490</td>\n",
       "      <td>137.730555</td>\n",
       "    </tr>\n",
       "    <tr>\n",
       "      <th>min</th>\n",
       "      <td>1.000000</td>\n",
       "      <td>224.000000</td>\n",
       "      <td>264.000000</td>\n",
       "    </tr>\n",
       "    <tr>\n",
       "      <th>25%</th>\n",
       "      <td>8.250000</td>\n",
       "      <td>360.000000</td>\n",
       "      <td>405.750000</td>\n",
       "    </tr>\n",
       "    <tr>\n",
       "      <th>50%</th>\n",
       "      <td>15.500000</td>\n",
       "      <td>470.000000</td>\n",
       "      <td>502.000000</td>\n",
       "    </tr>\n",
       "    <tr>\n",
       "      <th>75%</th>\n",
       "      <td>22.750000</td>\n",
       "      <td>584.000000</td>\n",
       "      <td>640.250000</td>\n",
       "    </tr>\n",
       "    <tr>\n",
       "      <th>max</th>\n",
       "      <td>30.000000</td>\n",
       "      <td>659.000000</td>\n",
       "      <td>719.000000</td>\n",
       "    </tr>\n",
       "  </tbody>\n",
       "</table>\n",
       "</div>"
      ],
      "text/plain": [
       "        CAMPAIGN   START_DAY     END_DAY\n",
       "count  30.000000   30.000000   30.000000\n",
       "mean   15.500000  463.866667  510.466667\n",
       "std     8.803408  134.488490  137.730555\n",
       "min     1.000000  224.000000  264.000000\n",
       "25%     8.250000  360.000000  405.750000\n",
       "50%    15.500000  470.000000  502.000000\n",
       "75%    22.750000  584.000000  640.250000\n",
       "max    30.000000  659.000000  719.000000"
      ]
     },
     "execution_count": 28,
     "metadata": {},
     "output_type": "execute_result"
    }
   ],
   "source": [
    "CAMPAIGN_DESC_RAW.describe()"
   ]
  },
  {
   "cell_type": "code",
   "execution_count": 29,
   "id": "cca2e0e6",
   "metadata": {},
   "outputs": [
    {
     "data": {
      "text/plain": [
       "PRODUCT_ID              0\n",
       "MANUFACTURER            0\n",
       "DEPARTMENT              0\n",
       "BRAND                   0\n",
       "COMMODITY_DESC          0\n",
       "SUB_COMMODITY_DESC      0\n",
       "CURR_SIZE_OF_PRODUCT    0\n",
       "dtype: int64"
      ]
     },
     "execution_count": 29,
     "metadata": {},
     "output_type": "execute_result"
    }
   ],
   "source": [
    "PRODUCT_RAW.isnull().sum()"
   ]
  },
  {
   "cell_type": "code",
   "execution_count": 30,
   "id": "b01c0bcc",
   "metadata": {},
   "outputs": [
    {
     "data": {
      "text/html": [
       "<div>\n",
       "<style scoped>\n",
       "    .dataframe tbody tr th:only-of-type {\n",
       "        vertical-align: middle;\n",
       "    }\n",
       "\n",
       "    .dataframe tbody tr th {\n",
       "        vertical-align: top;\n",
       "    }\n",
       "\n",
       "    .dataframe thead th {\n",
       "        text-align: right;\n",
       "    }\n",
       "</style>\n",
       "<table border=\"1\" class=\"dataframe\">\n",
       "  <thead>\n",
       "    <tr style=\"text-align: right;\">\n",
       "      <th></th>\n",
       "      <th>PRODUCT_ID</th>\n",
       "      <th>MANUFACTURER</th>\n",
       "    </tr>\n",
       "  </thead>\n",
       "  <tbody>\n",
       "    <tr>\n",
       "      <th>count</th>\n",
       "      <td>9.235300e+04</td>\n",
       "      <td>92353.00000</td>\n",
       "    </tr>\n",
       "    <tr>\n",
       "      <th>mean</th>\n",
       "      <td>5.328353e+06</td>\n",
       "      <td>1739.22833</td>\n",
       "    </tr>\n",
       "    <tr>\n",
       "      <th>std</th>\n",
       "      <td>5.359937e+06</td>\n",
       "      <td>1818.26957</td>\n",
       "    </tr>\n",
       "    <tr>\n",
       "      <th>min</th>\n",
       "      <td>2.567100e+04</td>\n",
       "      <td>1.00000</td>\n",
       "    </tr>\n",
       "    <tr>\n",
       "      <th>25%</th>\n",
       "      <td>9.706280e+05</td>\n",
       "      <td>328.00000</td>\n",
       "    </tr>\n",
       "    <tr>\n",
       "      <th>50%</th>\n",
       "      <td>1.621091e+06</td>\n",
       "      <td>1094.00000</td>\n",
       "    </tr>\n",
       "    <tr>\n",
       "      <th>75%</th>\n",
       "      <td>9.704770e+06</td>\n",
       "      <td>2264.00000</td>\n",
       "    </tr>\n",
       "    <tr>\n",
       "      <th>max</th>\n",
       "      <td>1.831630e+07</td>\n",
       "      <td>6477.00000</td>\n",
       "    </tr>\n",
       "  </tbody>\n",
       "</table>\n",
       "</div>"
      ],
      "text/plain": [
       "         PRODUCT_ID  MANUFACTURER\n",
       "count  9.235300e+04   92353.00000\n",
       "mean   5.328353e+06    1739.22833\n",
       "std    5.359937e+06    1818.26957\n",
       "min    2.567100e+04       1.00000\n",
       "25%    9.706280e+05     328.00000\n",
       "50%    1.621091e+06    1094.00000\n",
       "75%    9.704770e+06    2264.00000\n",
       "max    1.831630e+07    6477.00000"
      ]
     },
     "execution_count": 30,
     "metadata": {},
     "output_type": "execute_result"
    }
   ],
   "source": [
    "PRODUCT_RAW.describe()"
   ]
  },
  {
   "cell_type": "code",
   "execution_count": 31,
   "id": "57d177f4",
   "metadata": {},
   "outputs": [
    {
     "data": {
      "text/plain": [
       "AGE_DESC               0\n",
       "MARITAL_STATUS_CODE    0\n",
       "INCOME_DESC            0\n",
       "HOMEOWNER_DESC         0\n",
       "HH_COMP_DESC           0\n",
       "HOUSEHOLD_SIZE_DESC    0\n",
       "KID_CATEGORY_DESC      0\n",
       "HOUSEHOLD_KEY          0\n",
       "dtype: int64"
      ]
     },
     "execution_count": 31,
     "metadata": {},
     "output_type": "execute_result"
    }
   ],
   "source": [
    "demographic_RAW.isnull().sum()"
   ]
  },
  {
   "cell_type": "code",
   "execution_count": 32,
   "id": "724a14fa",
   "metadata": {},
   "outputs": [
    {
     "data": {
      "text/html": [
       "<div>\n",
       "<style scoped>\n",
       "    .dataframe tbody tr th:only-of-type {\n",
       "        vertical-align: middle;\n",
       "    }\n",
       "\n",
       "    .dataframe tbody tr th {\n",
       "        vertical-align: top;\n",
       "    }\n",
       "\n",
       "    .dataframe thead th {\n",
       "        text-align: right;\n",
       "    }\n",
       "</style>\n",
       "<table border=\"1\" class=\"dataframe\">\n",
       "  <thead>\n",
       "    <tr style=\"text-align: right;\">\n",
       "      <th></th>\n",
       "      <th>HOUSEHOLD_KEY</th>\n",
       "    </tr>\n",
       "  </thead>\n",
       "  <tbody>\n",
       "    <tr>\n",
       "      <th>count</th>\n",
       "      <td>2500.00000</td>\n",
       "    </tr>\n",
       "    <tr>\n",
       "      <th>mean</th>\n",
       "      <td>1250.50000</td>\n",
       "    </tr>\n",
       "    <tr>\n",
       "      <th>std</th>\n",
       "      <td>721.83216</td>\n",
       "    </tr>\n",
       "    <tr>\n",
       "      <th>min</th>\n",
       "      <td>1.00000</td>\n",
       "    </tr>\n",
       "    <tr>\n",
       "      <th>25%</th>\n",
       "      <td>625.75000</td>\n",
       "    </tr>\n",
       "    <tr>\n",
       "      <th>50%</th>\n",
       "      <td>1250.50000</td>\n",
       "    </tr>\n",
       "    <tr>\n",
       "      <th>75%</th>\n",
       "      <td>1875.25000</td>\n",
       "    </tr>\n",
       "    <tr>\n",
       "      <th>max</th>\n",
       "      <td>2500.00000</td>\n",
       "    </tr>\n",
       "  </tbody>\n",
       "</table>\n",
       "</div>"
      ],
      "text/plain": [
       "       HOUSEHOLD_KEY\n",
       "count     2500.00000\n",
       "mean      1250.50000\n",
       "std        721.83216\n",
       "min          1.00000\n",
       "25%        625.75000\n",
       "50%       1250.50000\n",
       "75%       1875.25000\n",
       "max       2500.00000"
      ]
     },
     "execution_count": 32,
     "metadata": {},
     "output_type": "execute_result"
    }
   ],
   "source": [
    "demographic_RAW.describe()"
   ]
  },
  {
   "cell_type": "code",
   "execution_count": 33,
   "id": "5077783b",
   "metadata": {},
   "outputs": [
    {
     "data": {
      "text/plain": [
       "COUPON_UPC    0\n",
       "PRODUCT_ID    0\n",
       "CAMPAIGN      0\n",
       "dtype: int64"
      ]
     },
     "execution_count": 33,
     "metadata": {},
     "output_type": "execute_result"
    }
   ],
   "source": [
    "COUPON_RAW.isnull().sum()"
   ]
  },
  {
   "cell_type": "code",
   "execution_count": 34,
   "id": "338cd61d",
   "metadata": {},
   "outputs": [
    {
     "data": {
      "text/html": [
       "<div>\n",
       "<style scoped>\n",
       "    .dataframe tbody tr th:only-of-type {\n",
       "        vertical-align: middle;\n",
       "    }\n",
       "\n",
       "    .dataframe tbody tr th {\n",
       "        vertical-align: top;\n",
       "    }\n",
       "\n",
       "    .dataframe thead th {\n",
       "        text-align: right;\n",
       "    }\n",
       "</style>\n",
       "<table border=\"1\" class=\"dataframe\">\n",
       "  <thead>\n",
       "    <tr style=\"text-align: right;\">\n",
       "      <th></th>\n",
       "      <th>HOUSEHOLD_KEY</th>\n",
       "    </tr>\n",
       "  </thead>\n",
       "  <tbody>\n",
       "    <tr>\n",
       "      <th>count</th>\n",
       "      <td>2500.00000</td>\n",
       "    </tr>\n",
       "    <tr>\n",
       "      <th>mean</th>\n",
       "      <td>1250.50000</td>\n",
       "    </tr>\n",
       "    <tr>\n",
       "      <th>std</th>\n",
       "      <td>721.83216</td>\n",
       "    </tr>\n",
       "    <tr>\n",
       "      <th>min</th>\n",
       "      <td>1.00000</td>\n",
       "    </tr>\n",
       "    <tr>\n",
       "      <th>25%</th>\n",
       "      <td>625.75000</td>\n",
       "    </tr>\n",
       "    <tr>\n",
       "      <th>50%</th>\n",
       "      <td>1250.50000</td>\n",
       "    </tr>\n",
       "    <tr>\n",
       "      <th>75%</th>\n",
       "      <td>1875.25000</td>\n",
       "    </tr>\n",
       "    <tr>\n",
       "      <th>max</th>\n",
       "      <td>2500.00000</td>\n",
       "    </tr>\n",
       "  </tbody>\n",
       "</table>\n",
       "</div>"
      ],
      "text/plain": [
       "       HOUSEHOLD_KEY\n",
       "count     2500.00000\n",
       "mean      1250.50000\n",
       "std        721.83216\n",
       "min          1.00000\n",
       "25%        625.75000\n",
       "50%       1250.50000\n",
       "75%       1875.25000\n",
       "max       2500.00000"
      ]
     },
     "execution_count": 34,
     "metadata": {},
     "output_type": "execute_result"
    }
   ],
   "source": [
    "demographic_RAW.describe()"
   ]
  },
  {
   "cell_type": "code",
   "execution_count": 35,
   "id": "c876e0e6",
   "metadata": {},
   "outputs": [
    {
     "data": {
      "text/plain": [
       "HOUSEHOLD_KEY    0\n",
       "DAY              0\n",
       "COUPON_UPC       0\n",
       "CAMPAIGN         0\n",
       "dtype: int64"
      ]
     },
     "execution_count": 35,
     "metadata": {},
     "output_type": "execute_result"
    }
   ],
   "source": [
    "COUPON_REDEMPT_RAW.isnull().sum()"
   ]
  },
  {
   "cell_type": "code",
   "execution_count": 36,
   "id": "15f011f1",
   "metadata": {},
   "outputs": [
    {
     "data": {
      "text/html": [
       "<div>\n",
       "<style scoped>\n",
       "    .dataframe tbody tr th:only-of-type {\n",
       "        vertical-align: middle;\n",
       "    }\n",
       "\n",
       "    .dataframe tbody tr th {\n",
       "        vertical-align: top;\n",
       "    }\n",
       "\n",
       "    .dataframe thead th {\n",
       "        text-align: right;\n",
       "    }\n",
       "</style>\n",
       "<table border=\"1\" class=\"dataframe\">\n",
       "  <thead>\n",
       "    <tr style=\"text-align: right;\">\n",
       "      <th></th>\n",
       "      <th>HOUSEHOLD_KEY</th>\n",
       "      <th>DAY</th>\n",
       "      <th>COUPON_UPC</th>\n",
       "      <th>CAMPAIGN</th>\n",
       "    </tr>\n",
       "  </thead>\n",
       "  <tbody>\n",
       "    <tr>\n",
       "      <th>count</th>\n",
       "      <td>2318.000000</td>\n",
       "      <td>2318.000000</td>\n",
       "      <td>2.318000e+03</td>\n",
       "      <td>2318.000000</td>\n",
       "    </tr>\n",
       "    <tr>\n",
       "      <th>mean</th>\n",
       "      <td>1302.816652</td>\n",
       "      <td>528.217429</td>\n",
       "      <td>4.123049e+10</td>\n",
       "      <td>15.551337</td>\n",
       "    </tr>\n",
       "    <tr>\n",
       "      <th>std</th>\n",
       "      <td>783.002545</td>\n",
       "      <td>100.360985</td>\n",
       "      <td>1.986068e+10</td>\n",
       "      <td>5.716636</td>\n",
       "    </tr>\n",
       "    <tr>\n",
       "      <th>min</th>\n",
       "      <td>1.000000</td>\n",
       "      <td>225.000000</td>\n",
       "      <td>1.000009e+10</td>\n",
       "      <td>1.000000</td>\n",
       "    </tr>\n",
       "    <tr>\n",
       "      <th>25%</th>\n",
       "      <td>588.000000</td>\n",
       "      <td>458.250000</td>\n",
       "      <td>1.000009e+10</td>\n",
       "      <td>13.000000</td>\n",
       "    </tr>\n",
       "    <tr>\n",
       "      <th>50%</th>\n",
       "      <td>1396.500000</td>\n",
       "      <td>532.000000</td>\n",
       "      <td>5.234003e+10</td>\n",
       "      <td>14.000000</td>\n",
       "    </tr>\n",
       "    <tr>\n",
       "      <th>75%</th>\n",
       "      <td>2004.000000</td>\n",
       "      <td>605.000000</td>\n",
       "      <td>5.430002e+10</td>\n",
       "      <td>18.000000</td>\n",
       "    </tr>\n",
       "    <tr>\n",
       "      <th>max</th>\n",
       "      <td>2500.000000</td>\n",
       "      <td>704.000000</td>\n",
       "      <td>5.897850e+10</td>\n",
       "      <td>30.000000</td>\n",
       "    </tr>\n",
       "  </tbody>\n",
       "</table>\n",
       "</div>"
      ],
      "text/plain": [
       "       HOUSEHOLD_KEY          DAY    COUPON_UPC     CAMPAIGN\n",
       "count    2318.000000  2318.000000  2.318000e+03  2318.000000\n",
       "mean     1302.816652   528.217429  4.123049e+10    15.551337\n",
       "std       783.002545   100.360985  1.986068e+10     5.716636\n",
       "min         1.000000   225.000000  1.000009e+10     1.000000\n",
       "25%       588.000000   458.250000  1.000009e+10    13.000000\n",
       "50%      1396.500000   532.000000  5.234003e+10    14.000000\n",
       "75%      2004.000000   605.000000  5.430002e+10    18.000000\n",
       "max      2500.000000   704.000000  5.897850e+10    30.000000"
      ]
     },
     "execution_count": 36,
     "metadata": {},
     "output_type": "execute_result"
    }
   ],
   "source": [
    "COUPON_REDEMPT_RAW.describe()"
   ]
  },
  {
   "cell_type": "code",
   "execution_count": 37,
   "id": "fa401559",
   "metadata": {},
   "outputs": [
    {
     "data": {
      "text/plain": [
       "HOUSEHOLD_KEY        0\n",
       "BASKET_ID            0\n",
       "DAY                  0\n",
       "PRODUCT_ID           0\n",
       "QUANTITY             0\n",
       "SALES_VALUE          0\n",
       "STORE_ID             0\n",
       "RETAIL_DISC          0\n",
       "TRANS_TIME           0\n",
       "WEEK_NO              0\n",
       "COUPON_DISC          0\n",
       "COUPON_MATCH_DISC    0\n",
       "dtype: int64"
      ]
     },
     "execution_count": 37,
     "metadata": {},
     "output_type": "execute_result"
    }
   ],
   "source": [
    "TRANSACTION_RAW.isnull().sum()"
   ]
  },
  {
   "cell_type": "code",
   "execution_count": 38,
   "id": "762bcee7",
   "metadata": {},
   "outputs": [
    {
     "data": {
      "text/html": [
       "<div>\n",
       "<style scoped>\n",
       "    .dataframe tbody tr th:only-of-type {\n",
       "        vertical-align: middle;\n",
       "    }\n",
       "\n",
       "    .dataframe tbody tr th {\n",
       "        vertical-align: top;\n",
       "    }\n",
       "\n",
       "    .dataframe thead th {\n",
       "        text-align: right;\n",
       "    }\n",
       "</style>\n",
       "<table border=\"1\" class=\"dataframe\">\n",
       "  <thead>\n",
       "    <tr style=\"text-align: right;\">\n",
       "      <th></th>\n",
       "      <th>HOUSEHOLD_KEY</th>\n",
       "      <th>BASKET_ID</th>\n",
       "      <th>DAY</th>\n",
       "      <th>PRODUCT_ID</th>\n",
       "      <th>QUANTITY</th>\n",
       "      <th>SALES_VALUE</th>\n",
       "      <th>STORE_ID</th>\n",
       "      <th>RETAIL_DISC</th>\n",
       "      <th>TRANS_TIME</th>\n",
       "      <th>WEEK_NO</th>\n",
       "      <th>COUPON_DISC</th>\n",
       "      <th>COUPON_MATCH_DISC</th>\n",
       "    </tr>\n",
       "  </thead>\n",
       "  <tbody>\n",
       "    <tr>\n",
       "      <th>count</th>\n",
       "      <td>450416.00000</td>\n",
       "      <td>4.504160e+05</td>\n",
       "      <td>450416.000000</td>\n",
       "      <td>4.504160e+05</td>\n",
       "      <td>450416.000000</td>\n",
       "      <td>450416.000000</td>\n",
       "      <td>450416.000000</td>\n",
       "      <td>450416.000000</td>\n",
       "      <td>450416.000000</td>\n",
       "      <td>450416.000000</td>\n",
       "      <td>450416.000000</td>\n",
       "      <td>450416.000000</td>\n",
       "    </tr>\n",
       "    <tr>\n",
       "      <th>mean</th>\n",
       "      <td>1259.55822</td>\n",
       "      <td>2.840143e+10</td>\n",
       "      <td>112.470718</td>\n",
       "      <td>2.209464e+06</td>\n",
       "      <td>86.522561</td>\n",
       "      <td>3.018436</td>\n",
       "      <td>2586.661648</td>\n",
       "      <td>-0.552774</td>\n",
       "      <td>1583.582364</td>\n",
       "      <td>16.754487</td>\n",
       "      <td>-0.014860</td>\n",
       "      <td>-0.001920</td>\n",
       "    </tr>\n",
       "    <tr>\n",
       "      <th>std</th>\n",
       "      <td>728.10869</td>\n",
       "      <td>5.792110e+08</td>\n",
       "      <td>42.064258</td>\n",
       "      <td>2.726512e+06</td>\n",
       "      <td>1058.788785</td>\n",
       "      <td>3.860427</td>\n",
       "      <td>7996.435988</td>\n",
       "      <td>1.186736</td>\n",
       "      <td>415.130098</td>\n",
       "      <td>6.018864</td>\n",
       "      <td>0.195378</td>\n",
       "      <td>0.044335</td>\n",
       "    </tr>\n",
       "    <tr>\n",
       "      <th>min</th>\n",
       "      <td>1.00000</td>\n",
       "      <td>2.698485e+10</td>\n",
       "      <td>1.000000</td>\n",
       "      <td>2.567100e+04</td>\n",
       "      <td>0.000000</td>\n",
       "      <td>0.000000</td>\n",
       "      <td>1.000000</td>\n",
       "      <td>-75.000000</td>\n",
       "      <td>0.000000</td>\n",
       "      <td>1.000000</td>\n",
       "      <td>-17.000000</td>\n",
       "      <td>-3.000000</td>\n",
       "    </tr>\n",
       "    <tr>\n",
       "      <th>25%</th>\n",
       "      <td>641.00000</td>\n",
       "      <td>2.798531e+10</td>\n",
       "      <td>84.000000</td>\n",
       "      <td>9.118780e+05</td>\n",
       "      <td>1.000000</td>\n",
       "      <td>1.250000</td>\n",
       "      <td>330.000000</td>\n",
       "      <td>-0.740000</td>\n",
       "      <td>1317.000000</td>\n",
       "      <td>13.000000</td>\n",
       "      <td>0.000000</td>\n",
       "      <td>0.000000</td>\n",
       "    </tr>\n",
       "    <tr>\n",
       "      <th>50%</th>\n",
       "      <td>1234.00000</td>\n",
       "      <td>2.839168e+10</td>\n",
       "      <td>117.000000</td>\n",
       "      <td>1.016800e+06</td>\n",
       "      <td>1.000000</td>\n",
       "      <td>2.000000</td>\n",
       "      <td>369.000000</td>\n",
       "      <td>-0.090000</td>\n",
       "      <td>1630.000000</td>\n",
       "      <td>17.000000</td>\n",
       "      <td>0.000000</td>\n",
       "      <td>0.000000</td>\n",
       "    </tr>\n",
       "    <tr>\n",
       "      <th>75%</th>\n",
       "      <td>1914.00000</td>\n",
       "      <td>2.886773e+10</td>\n",
       "      <td>147.000000</td>\n",
       "      <td>1.115360e+06</td>\n",
       "      <td>1.000000</td>\n",
       "      <td>3.390000</td>\n",
       "      <td>421.000000</td>\n",
       "      <td>0.000000</td>\n",
       "      <td>1906.000000</td>\n",
       "      <td>22.000000</td>\n",
       "      <td>0.000000</td>\n",
       "      <td>0.000000</td>\n",
       "    </tr>\n",
       "    <tr>\n",
       "      <th>max</th>\n",
       "      <td>2500.00000</td>\n",
       "      <td>2.933965e+10</td>\n",
       "      <td>176.000000</td>\n",
       "      <td>1.260019e+07</td>\n",
       "      <td>51912.000000</td>\n",
       "      <td>400.000000</td>\n",
       "      <td>32124.000000</td>\n",
       "      <td>0.000000</td>\n",
       "      <td>2359.000000</td>\n",
       "      <td>26.000000</td>\n",
       "      <td>0.000000</td>\n",
       "      <td>0.000000</td>\n",
       "    </tr>\n",
       "  </tbody>\n",
       "</table>\n",
       "</div>"
      ],
      "text/plain": [
       "       HOUSEHOLD_KEY     BASKET_ID            DAY    PRODUCT_ID  \\\n",
       "count   450416.00000  4.504160e+05  450416.000000  4.504160e+05   \n",
       "mean      1259.55822  2.840143e+10     112.470718  2.209464e+06   \n",
       "std        728.10869  5.792110e+08      42.064258  2.726512e+06   \n",
       "min          1.00000  2.698485e+10       1.000000  2.567100e+04   \n",
       "25%        641.00000  2.798531e+10      84.000000  9.118780e+05   \n",
       "50%       1234.00000  2.839168e+10     117.000000  1.016800e+06   \n",
       "75%       1914.00000  2.886773e+10     147.000000  1.115360e+06   \n",
       "max       2500.00000  2.933965e+10     176.000000  1.260019e+07   \n",
       "\n",
       "            QUANTITY    SALES_VALUE       STORE_ID    RETAIL_DISC  \\\n",
       "count  450416.000000  450416.000000  450416.000000  450416.000000   \n",
       "mean       86.522561       3.018436    2586.661648      -0.552774   \n",
       "std      1058.788785       3.860427    7996.435988       1.186736   \n",
       "min         0.000000       0.000000       1.000000     -75.000000   \n",
       "25%         1.000000       1.250000     330.000000      -0.740000   \n",
       "50%         1.000000       2.000000     369.000000      -0.090000   \n",
       "75%         1.000000       3.390000     421.000000       0.000000   \n",
       "max     51912.000000     400.000000   32124.000000       0.000000   \n",
       "\n",
       "          TRANS_TIME        WEEK_NO    COUPON_DISC  COUPON_MATCH_DISC  \n",
       "count  450416.000000  450416.000000  450416.000000      450416.000000  \n",
       "mean     1583.582364      16.754487      -0.014860          -0.001920  \n",
       "std       415.130098       6.018864       0.195378           0.044335  \n",
       "min         0.000000       1.000000     -17.000000          -3.000000  \n",
       "25%      1317.000000      13.000000       0.000000           0.000000  \n",
       "50%      1630.000000      17.000000       0.000000           0.000000  \n",
       "75%      1906.000000      22.000000       0.000000           0.000000  \n",
       "max      2359.000000      26.000000       0.000000           0.000000  "
      ]
     },
     "execution_count": 38,
     "metadata": {},
     "output_type": "execute_result"
    }
   ],
   "source": [
    "TRANSACTION_RAW.describe()"
   ]
  },
  {
   "cell_type": "markdown",
   "id": "a2975662",
   "metadata": {},
   "source": [
    "# Data Modifications"
   ]
  },
  {
   "cell_type": "markdown",
   "id": "b424c2d5",
   "metadata": {},
   "source": [
    "### Setting DateTime"
   ]
  },
  {
   "cell_type": "code",
   "execution_count": 39,
   "id": "3a1b262f",
   "metadata": {},
   "outputs": [],
   "source": [
    "from datetime import datetime,timedelta"
   ]
  },
  {
   "cell_type": "code",
   "execution_count": 40,
   "id": "2d1575cd",
   "metadata": {},
   "outputs": [],
   "source": [
    "start_date = pd.to_datetime('2020-01-01')"
   ]
  },
  {
   "cell_type": "code",
   "execution_count": 41,
   "id": "8e84714e",
   "metadata": {},
   "outputs": [
    {
     "data": {
      "text/plain": [
       "Timestamp('2020-01-01 00:00:00')"
      ]
     },
     "execution_count": 41,
     "metadata": {},
     "output_type": "execute_result"
    }
   ],
   "source": [
    "start_date"
   ]
  },
  {
   "cell_type": "markdown",
   "id": "9701d633",
   "metadata": {},
   "source": [
    "**Adding date column into TRANSACTION_RAW**"
   ]
  },
  {
   "cell_type": "code",
   "execution_count": 42,
   "id": "459a1d3e",
   "metadata": {},
   "outputs": [],
   "source": [
    "TRANSACTION_RAW['Date'] = start_date + pd.to_timedelta(TRANSACTION_RAW['DAY'],unit='D')"
   ]
  },
  {
   "cell_type": "code",
   "execution_count": 43,
   "id": "dbdf82f3",
   "metadata": {},
   "outputs": [
    {
     "data": {
      "text/plain": [
       "0    2020-01-02\n",
       "1    2020-01-02\n",
       "2    2020-01-02\n",
       "3    2020-01-02\n",
       "4    2020-01-02\n",
       "5    2020-01-02\n",
       "6    2020-01-02\n",
       "7    2020-01-02\n",
       "8    2020-01-02\n",
       "9    2020-01-02\n",
       "10   2020-01-02\n",
       "11   2020-01-02\n",
       "12   2020-01-02\n",
       "13   2020-01-02\n",
       "14   2020-01-02\n",
       "15   2020-01-02\n",
       "16   2020-01-02\n",
       "17   2020-01-02\n",
       "18   2020-01-02\n",
       "19   2020-01-02\n",
       "Name: Date, dtype: datetime64[ns]"
      ]
     },
     "execution_count": 43,
     "metadata": {},
     "output_type": "execute_result"
    }
   ],
   "source": [
    "TRANSACTION_RAW['Date'].head(20) "
   ]
  },
  {
   "cell_type": "markdown",
   "id": "235cfd49",
   "metadata": {},
   "source": [
    "**Adding Start_date, End_date column into CAMPAIGN_DESC_RAW**"
   ]
  },
  {
   "cell_type": "code",
   "execution_count": 44,
   "id": "1e92ec0a",
   "metadata": {},
   "outputs": [],
   "source": [
    "CAMPAIGN_DESC_RAW['Start_date']= start_date + pd.to_timedelta(CAMPAIGN_DESC_RAW['START_DAY'],unit='D')"
   ]
  },
  {
   "cell_type": "code",
   "execution_count": 45,
   "id": "39495aca",
   "metadata": {},
   "outputs": [],
   "source": [
    "CAMPAIGN_DESC_RAW['End_date']=start_date + pd.to_timedelta(CAMPAIGN_DESC_RAW['END_DAY'],unit='D')"
   ]
  },
  {
   "cell_type": "code",
   "execution_count": 46,
   "id": "99aa4db9",
   "metadata": {},
   "outputs": [
    {
     "data": {
      "text/html": [
       "<div>\n",
       "<style scoped>\n",
       "    .dataframe tbody tr th:only-of-type {\n",
       "        vertical-align: middle;\n",
       "    }\n",
       "\n",
       "    .dataframe tbody tr th {\n",
       "        vertical-align: top;\n",
       "    }\n",
       "\n",
       "    .dataframe thead th {\n",
       "        text-align: right;\n",
       "    }\n",
       "</style>\n",
       "<table border=\"1\" class=\"dataframe\">\n",
       "  <thead>\n",
       "    <tr style=\"text-align: right;\">\n",
       "      <th></th>\n",
       "      <th>DESCRIPTION</th>\n",
       "      <th>CAMPAIGN</th>\n",
       "      <th>START_DAY</th>\n",
       "      <th>END_DAY</th>\n",
       "      <th>Start_date</th>\n",
       "      <th>End_date</th>\n",
       "    </tr>\n",
       "  </thead>\n",
       "  <tbody>\n",
       "    <tr>\n",
       "      <th>0</th>\n",
       "      <td>TypeB</td>\n",
       "      <td>24</td>\n",
       "      <td>659</td>\n",
       "      <td>719</td>\n",
       "      <td>2021-10-21</td>\n",
       "      <td>2021-12-20</td>\n",
       "    </tr>\n",
       "    <tr>\n",
       "      <th>1</th>\n",
       "      <td>TypeC</td>\n",
       "      <td>15</td>\n",
       "      <td>547</td>\n",
       "      <td>708</td>\n",
       "      <td>2021-07-01</td>\n",
       "      <td>2021-12-09</td>\n",
       "    </tr>\n",
       "    <tr>\n",
       "      <th>2</th>\n",
       "      <td>TypeB</td>\n",
       "      <td>25</td>\n",
       "      <td>659</td>\n",
       "      <td>691</td>\n",
       "      <td>2021-10-21</td>\n",
       "      <td>2021-11-22</td>\n",
       "    </tr>\n",
       "    <tr>\n",
       "      <th>3</th>\n",
       "      <td>TypeC</td>\n",
       "      <td>20</td>\n",
       "      <td>615</td>\n",
       "      <td>685</td>\n",
       "      <td>2021-09-07</td>\n",
       "      <td>2021-11-16</td>\n",
       "    </tr>\n",
       "    <tr>\n",
       "      <th>4</th>\n",
       "      <td>TypeB</td>\n",
       "      <td>23</td>\n",
       "      <td>646</td>\n",
       "      <td>684</td>\n",
       "      <td>2021-10-08</td>\n",
       "      <td>2021-11-15</td>\n",
       "    </tr>\n",
       "    <tr>\n",
       "      <th>5</th>\n",
       "      <td>TypeB</td>\n",
       "      <td>21</td>\n",
       "      <td>624</td>\n",
       "      <td>656</td>\n",
       "      <td>2021-09-16</td>\n",
       "      <td>2021-10-18</td>\n",
       "    </tr>\n",
       "    <tr>\n",
       "      <th>6</th>\n",
       "      <td>TypeB</td>\n",
       "      <td>22</td>\n",
       "      <td>624</td>\n",
       "      <td>656</td>\n",
       "      <td>2021-09-16</td>\n",
       "      <td>2021-10-18</td>\n",
       "    </tr>\n",
       "    <tr>\n",
       "      <th>7</th>\n",
       "      <td>TypeA</td>\n",
       "      <td>18</td>\n",
       "      <td>587</td>\n",
       "      <td>642</td>\n",
       "      <td>2021-08-10</td>\n",
       "      <td>2021-10-04</td>\n",
       "    </tr>\n",
       "    <tr>\n",
       "      <th>8</th>\n",
       "      <td>TypeB</td>\n",
       "      <td>19</td>\n",
       "      <td>603</td>\n",
       "      <td>635</td>\n",
       "      <td>2021-08-26</td>\n",
       "      <td>2021-09-27</td>\n",
       "    </tr>\n",
       "    <tr>\n",
       "      <th>9</th>\n",
       "      <td>TypeB</td>\n",
       "      <td>17</td>\n",
       "      <td>575</td>\n",
       "      <td>607</td>\n",
       "      <td>2021-07-29</td>\n",
       "      <td>2021-08-30</td>\n",
       "    </tr>\n",
       "  </tbody>\n",
       "</table>\n",
       "</div>"
      ],
      "text/plain": [
       "  DESCRIPTION  CAMPAIGN  START_DAY  END_DAY Start_date   End_date\n",
       "0       TypeB        24        659      719 2021-10-21 2021-12-20\n",
       "1       TypeC        15        547      708 2021-07-01 2021-12-09\n",
       "2       TypeB        25        659      691 2021-10-21 2021-11-22\n",
       "3       TypeC        20        615      685 2021-09-07 2021-11-16\n",
       "4       TypeB        23        646      684 2021-10-08 2021-11-15\n",
       "5       TypeB        21        624      656 2021-09-16 2021-10-18\n",
       "6       TypeB        22        624      656 2021-09-16 2021-10-18\n",
       "7       TypeA        18        587      642 2021-08-10 2021-10-04\n",
       "8       TypeB        19        603      635 2021-08-26 2021-09-27\n",
       "9       TypeB        17        575      607 2021-07-29 2021-08-30"
      ]
     },
     "execution_count": 46,
     "metadata": {},
     "output_type": "execute_result"
    }
   ],
   "source": [
    "CAMPAIGN_DESC_RAW.head(10)"
   ]
  },
  {
   "cell_type": "markdown",
   "id": "d65cfa18",
   "metadata": {},
   "source": [
    "**Adding Campaign_Duration column into CAMPAIGN_DESC_RAW**"
   ]
  },
  {
   "cell_type": "code",
   "execution_count": 47,
   "id": "d736446d",
   "metadata": {},
   "outputs": [],
   "source": [
    "CAMPAIGN_DESC_RAW['Campaign_Duration'] = CAMPAIGN_DESC_RAW['END_DAY'] - CAMPAIGN_DESC_RAW['START_DAY']"
   ]
  },
  {
   "cell_type": "code",
   "execution_count": 48,
   "id": "b68d5c36",
   "metadata": {},
   "outputs": [
    {
     "data": {
      "text/html": [
       "<div>\n",
       "<style scoped>\n",
       "    .dataframe tbody tr th:only-of-type {\n",
       "        vertical-align: middle;\n",
       "    }\n",
       "\n",
       "    .dataframe tbody tr th {\n",
       "        vertical-align: top;\n",
       "    }\n",
       "\n",
       "    .dataframe thead th {\n",
       "        text-align: right;\n",
       "    }\n",
       "</style>\n",
       "<table border=\"1\" class=\"dataframe\">\n",
       "  <thead>\n",
       "    <tr style=\"text-align: right;\">\n",
       "      <th></th>\n",
       "      <th>DESCRIPTION</th>\n",
       "      <th>CAMPAIGN</th>\n",
       "      <th>START_DAY</th>\n",
       "      <th>END_DAY</th>\n",
       "      <th>Start_date</th>\n",
       "      <th>End_date</th>\n",
       "      <th>Campaign_Duration</th>\n",
       "    </tr>\n",
       "  </thead>\n",
       "  <tbody>\n",
       "    <tr>\n",
       "      <th>0</th>\n",
       "      <td>TypeB</td>\n",
       "      <td>24</td>\n",
       "      <td>659</td>\n",
       "      <td>719</td>\n",
       "      <td>2021-10-21</td>\n",
       "      <td>2021-12-20</td>\n",
       "      <td>60</td>\n",
       "    </tr>\n",
       "    <tr>\n",
       "      <th>1</th>\n",
       "      <td>TypeC</td>\n",
       "      <td>15</td>\n",
       "      <td>547</td>\n",
       "      <td>708</td>\n",
       "      <td>2021-07-01</td>\n",
       "      <td>2021-12-09</td>\n",
       "      <td>161</td>\n",
       "    </tr>\n",
       "    <tr>\n",
       "      <th>2</th>\n",
       "      <td>TypeB</td>\n",
       "      <td>25</td>\n",
       "      <td>659</td>\n",
       "      <td>691</td>\n",
       "      <td>2021-10-21</td>\n",
       "      <td>2021-11-22</td>\n",
       "      <td>32</td>\n",
       "    </tr>\n",
       "    <tr>\n",
       "      <th>3</th>\n",
       "      <td>TypeC</td>\n",
       "      <td>20</td>\n",
       "      <td>615</td>\n",
       "      <td>685</td>\n",
       "      <td>2021-09-07</td>\n",
       "      <td>2021-11-16</td>\n",
       "      <td>70</td>\n",
       "    </tr>\n",
       "    <tr>\n",
       "      <th>4</th>\n",
       "      <td>TypeB</td>\n",
       "      <td>23</td>\n",
       "      <td>646</td>\n",
       "      <td>684</td>\n",
       "      <td>2021-10-08</td>\n",
       "      <td>2021-11-15</td>\n",
       "      <td>38</td>\n",
       "    </tr>\n",
       "    <tr>\n",
       "      <th>5</th>\n",
       "      <td>TypeB</td>\n",
       "      <td>21</td>\n",
       "      <td>624</td>\n",
       "      <td>656</td>\n",
       "      <td>2021-09-16</td>\n",
       "      <td>2021-10-18</td>\n",
       "      <td>32</td>\n",
       "    </tr>\n",
       "    <tr>\n",
       "      <th>6</th>\n",
       "      <td>TypeB</td>\n",
       "      <td>22</td>\n",
       "      <td>624</td>\n",
       "      <td>656</td>\n",
       "      <td>2021-09-16</td>\n",
       "      <td>2021-10-18</td>\n",
       "      <td>32</td>\n",
       "    </tr>\n",
       "    <tr>\n",
       "      <th>7</th>\n",
       "      <td>TypeA</td>\n",
       "      <td>18</td>\n",
       "      <td>587</td>\n",
       "      <td>642</td>\n",
       "      <td>2021-08-10</td>\n",
       "      <td>2021-10-04</td>\n",
       "      <td>55</td>\n",
       "    </tr>\n",
       "    <tr>\n",
       "      <th>8</th>\n",
       "      <td>TypeB</td>\n",
       "      <td>19</td>\n",
       "      <td>603</td>\n",
       "      <td>635</td>\n",
       "      <td>2021-08-26</td>\n",
       "      <td>2021-09-27</td>\n",
       "      <td>32</td>\n",
       "    </tr>\n",
       "    <tr>\n",
       "      <th>9</th>\n",
       "      <td>TypeB</td>\n",
       "      <td>17</td>\n",
       "      <td>575</td>\n",
       "      <td>607</td>\n",
       "      <td>2021-07-29</td>\n",
       "      <td>2021-08-30</td>\n",
       "      <td>32</td>\n",
       "    </tr>\n",
       "    <tr>\n",
       "      <th>10</th>\n",
       "      <td>TypeC</td>\n",
       "      <td>14</td>\n",
       "      <td>531</td>\n",
       "      <td>596</td>\n",
       "      <td>2021-06-15</td>\n",
       "      <td>2021-08-19</td>\n",
       "      <td>65</td>\n",
       "    </tr>\n",
       "    <tr>\n",
       "      <th>11</th>\n",
       "      <td>TypeB</td>\n",
       "      <td>16</td>\n",
       "      <td>561</td>\n",
       "      <td>593</td>\n",
       "      <td>2021-07-15</td>\n",
       "      <td>2021-08-16</td>\n",
       "      <td>32</td>\n",
       "    </tr>\n",
       "    <tr>\n",
       "      <th>12</th>\n",
       "      <td>TypeA</td>\n",
       "      <td>13</td>\n",
       "      <td>504</td>\n",
       "      <td>551</td>\n",
       "      <td>2021-05-19</td>\n",
       "      <td>2021-07-05</td>\n",
       "      <td>47</td>\n",
       "    </tr>\n",
       "    <tr>\n",
       "      <th>13</th>\n",
       "      <td>TypeB</td>\n",
       "      <td>11</td>\n",
       "      <td>477</td>\n",
       "      <td>523</td>\n",
       "      <td>2021-04-22</td>\n",
       "      <td>2021-06-07</td>\n",
       "      <td>46</td>\n",
       "    </tr>\n",
       "    <tr>\n",
       "      <th>14</th>\n",
       "      <td>TypeB</td>\n",
       "      <td>12</td>\n",
       "      <td>477</td>\n",
       "      <td>509</td>\n",
       "      <td>2021-04-22</td>\n",
       "      <td>2021-05-24</td>\n",
       "      <td>32</td>\n",
       "    </tr>\n",
       "    <tr>\n",
       "      <th>15</th>\n",
       "      <td>TypeB</td>\n",
       "      <td>10</td>\n",
       "      <td>463</td>\n",
       "      <td>495</td>\n",
       "      <td>2021-04-08</td>\n",
       "      <td>2021-05-10</td>\n",
       "      <td>32</td>\n",
       "    </tr>\n",
       "    <tr>\n",
       "      <th>16</th>\n",
       "      <td>TypeB</td>\n",
       "      <td>9</td>\n",
       "      <td>435</td>\n",
       "      <td>467</td>\n",
       "      <td>2021-03-11</td>\n",
       "      <td>2021-04-12</td>\n",
       "      <td>32</td>\n",
       "    </tr>\n",
       "    <tr>\n",
       "      <th>17</th>\n",
       "      <td>TypeA</td>\n",
       "      <td>8</td>\n",
       "      <td>412</td>\n",
       "      <td>460</td>\n",
       "      <td>2021-02-16</td>\n",
       "      <td>2021-04-05</td>\n",
       "      <td>48</td>\n",
       "    </tr>\n",
       "    <tr>\n",
       "      <th>18</th>\n",
       "      <td>TypeB</td>\n",
       "      <td>7</td>\n",
       "      <td>398</td>\n",
       "      <td>432</td>\n",
       "      <td>2021-02-02</td>\n",
       "      <td>2021-03-08</td>\n",
       "      <td>34</td>\n",
       "    </tr>\n",
       "    <tr>\n",
       "      <th>19</th>\n",
       "      <td>TypeC</td>\n",
       "      <td>6</td>\n",
       "      <td>393</td>\n",
       "      <td>425</td>\n",
       "      <td>2021-01-28</td>\n",
       "      <td>2021-03-01</td>\n",
       "      <td>32</td>\n",
       "    </tr>\n",
       "  </tbody>\n",
       "</table>\n",
       "</div>"
      ],
      "text/plain": [
       "   DESCRIPTION  CAMPAIGN  START_DAY  END_DAY Start_date   End_date  \\\n",
       "0        TypeB        24        659      719 2021-10-21 2021-12-20   \n",
       "1        TypeC        15        547      708 2021-07-01 2021-12-09   \n",
       "2        TypeB        25        659      691 2021-10-21 2021-11-22   \n",
       "3        TypeC        20        615      685 2021-09-07 2021-11-16   \n",
       "4        TypeB        23        646      684 2021-10-08 2021-11-15   \n",
       "5        TypeB        21        624      656 2021-09-16 2021-10-18   \n",
       "6        TypeB        22        624      656 2021-09-16 2021-10-18   \n",
       "7        TypeA        18        587      642 2021-08-10 2021-10-04   \n",
       "8        TypeB        19        603      635 2021-08-26 2021-09-27   \n",
       "9        TypeB        17        575      607 2021-07-29 2021-08-30   \n",
       "10       TypeC        14        531      596 2021-06-15 2021-08-19   \n",
       "11       TypeB        16        561      593 2021-07-15 2021-08-16   \n",
       "12       TypeA        13        504      551 2021-05-19 2021-07-05   \n",
       "13       TypeB        11        477      523 2021-04-22 2021-06-07   \n",
       "14       TypeB        12        477      509 2021-04-22 2021-05-24   \n",
       "15       TypeB        10        463      495 2021-04-08 2021-05-10   \n",
       "16       TypeB         9        435      467 2021-03-11 2021-04-12   \n",
       "17       TypeA         8        412      460 2021-02-16 2021-04-05   \n",
       "18       TypeB         7        398      432 2021-02-02 2021-03-08   \n",
       "19       TypeC         6        393      425 2021-01-28 2021-03-01   \n",
       "\n",
       "    Campaign_Duration  \n",
       "0                  60  \n",
       "1                 161  \n",
       "2                  32  \n",
       "3                  70  \n",
       "4                  38  \n",
       "5                  32  \n",
       "6                  32  \n",
       "7                  55  \n",
       "8                  32  \n",
       "9                  32  \n",
       "10                 65  \n",
       "11                 32  \n",
       "12                 47  \n",
       "13                 46  \n",
       "14                 32  \n",
       "15                 32  \n",
       "16                 32  \n",
       "17                 48  \n",
       "18                 34  \n",
       "19                 32  "
      ]
     },
     "execution_count": 48,
     "metadata": {},
     "output_type": "execute_result"
    }
   ],
   "source": [
    "CAMPAIGN_DESC_RAW.head(20)"
   ]
  },
  {
   "cell_type": "markdown",
   "id": "167686c4",
   "metadata": {},
   "source": [
    "**Adding Date column into COUPON_REDEMPT_RAW**"
   ]
  },
  {
   "cell_type": "code",
   "execution_count": 49,
   "id": "7d66e23f",
   "metadata": {},
   "outputs": [],
   "source": [
    "COUPON_REDEMPT_RAW['Date'] = start_date + pd.to_timedelta(COUPON_REDEMPT_RAW['DAY'],unit='D')"
   ]
  },
  {
   "cell_type": "code",
   "execution_count": 50,
   "id": "f5195632",
   "metadata": {},
   "outputs": [
    {
     "data": {
      "text/html": [
       "<div>\n",
       "<style scoped>\n",
       "    .dataframe tbody tr th:only-of-type {\n",
       "        vertical-align: middle;\n",
       "    }\n",
       "\n",
       "    .dataframe tbody tr th {\n",
       "        vertical-align: top;\n",
       "    }\n",
       "\n",
       "    .dataframe thead th {\n",
       "        text-align: right;\n",
       "    }\n",
       "</style>\n",
       "<table border=\"1\" class=\"dataframe\">\n",
       "  <thead>\n",
       "    <tr style=\"text-align: right;\">\n",
       "      <th></th>\n",
       "      <th>HOUSEHOLD_KEY</th>\n",
       "      <th>DAY</th>\n",
       "      <th>COUPON_UPC</th>\n",
       "      <th>CAMPAIGN</th>\n",
       "      <th>Date</th>\n",
       "    </tr>\n",
       "  </thead>\n",
       "  <tbody>\n",
       "    <tr>\n",
       "      <th>0</th>\n",
       "      <td>1</td>\n",
       "      <td>421</td>\n",
       "      <td>10000085364</td>\n",
       "      <td>8</td>\n",
       "      <td>2021-02-25</td>\n",
       "    </tr>\n",
       "    <tr>\n",
       "      <th>1</th>\n",
       "      <td>1</td>\n",
       "      <td>421</td>\n",
       "      <td>51700010076</td>\n",
       "      <td>8</td>\n",
       "      <td>2021-02-25</td>\n",
       "    </tr>\n",
       "    <tr>\n",
       "      <th>2</th>\n",
       "      <td>1</td>\n",
       "      <td>427</td>\n",
       "      <td>54200000033</td>\n",
       "      <td>8</td>\n",
       "      <td>2021-03-03</td>\n",
       "    </tr>\n",
       "    <tr>\n",
       "      <th>3</th>\n",
       "      <td>1</td>\n",
       "      <td>597</td>\n",
       "      <td>10000085476</td>\n",
       "      <td>18</td>\n",
       "      <td>2021-08-20</td>\n",
       "    </tr>\n",
       "    <tr>\n",
       "      <th>4</th>\n",
       "      <td>1</td>\n",
       "      <td>597</td>\n",
       "      <td>54200029176</td>\n",
       "      <td>18</td>\n",
       "      <td>2021-08-20</td>\n",
       "    </tr>\n",
       "    <tr>\n",
       "      <th>5</th>\n",
       "      <td>8</td>\n",
       "      <td>422</td>\n",
       "      <td>53600000078</td>\n",
       "      <td>8</td>\n",
       "      <td>2021-02-26</td>\n",
       "    </tr>\n",
       "    <tr>\n",
       "      <th>6</th>\n",
       "      <td>13</td>\n",
       "      <td>396</td>\n",
       "      <td>53700048182</td>\n",
       "      <td>5</td>\n",
       "      <td>2021-01-31</td>\n",
       "    </tr>\n",
       "    <tr>\n",
       "      <th>7</th>\n",
       "      <td>13</td>\n",
       "      <td>424</td>\n",
       "      <td>10000085364</td>\n",
       "      <td>8</td>\n",
       "      <td>2021-02-28</td>\n",
       "    </tr>\n",
       "    <tr>\n",
       "      <th>8</th>\n",
       "      <td>13</td>\n",
       "      <td>434</td>\n",
       "      <td>53600000078</td>\n",
       "      <td>8</td>\n",
       "      <td>2021-03-10</td>\n",
       "    </tr>\n",
       "    <tr>\n",
       "      <th>9</th>\n",
       "      <td>13</td>\n",
       "      <td>447</td>\n",
       "      <td>52370020076</td>\n",
       "      <td>8</td>\n",
       "      <td>2021-03-23</td>\n",
       "    </tr>\n",
       "  </tbody>\n",
       "</table>\n",
       "</div>"
      ],
      "text/plain": [
       "   HOUSEHOLD_KEY  DAY   COUPON_UPC  CAMPAIGN       Date\n",
       "0              1  421  10000085364         8 2021-02-25\n",
       "1              1  421  51700010076         8 2021-02-25\n",
       "2              1  427  54200000033         8 2021-03-03\n",
       "3              1  597  10000085476        18 2021-08-20\n",
       "4              1  597  54200029176        18 2021-08-20\n",
       "5              8  422  53600000078         8 2021-02-26\n",
       "6             13  396  53700048182         5 2021-01-31\n",
       "7             13  424  10000085364         8 2021-02-28\n",
       "8             13  434  53600000078         8 2021-03-10\n",
       "9             13  447  52370020076         8 2021-03-23"
      ]
     },
     "execution_count": 50,
     "metadata": {},
     "output_type": "execute_result"
    }
   ],
   "source": [
    "COUPON_REDEMPT_RAW.head(10)"
   ]
  },
  {
   "cell_type": "code",
   "execution_count": 51,
   "id": "b0cb0add",
   "metadata": {},
   "outputs": [
    {
     "data": {
      "text/plain": [
       "Timestamp('2020-06-25 00:00:00')"
      ]
     },
     "execution_count": 51,
     "metadata": {},
     "output_type": "execute_result"
    }
   ],
   "source": [
    "TRANSACTION_RAW['Date'].max() #last date in TRANSACTION_RAW"
   ]
  },
  {
   "cell_type": "code",
   "execution_count": 52,
   "id": "5f0ebd34",
   "metadata": {},
   "outputs": [
    {
     "data": {
      "text/plain": [
       "Timestamp('2021-12-20 00:00:00')"
      ]
     },
     "execution_count": 52,
     "metadata": {},
     "output_type": "execute_result"
    }
   ],
   "source": [
    "CAMPAIGN_DESC_RAW['End_date'].max() #last date in CAMPAIGN_DESC_RAW"
   ]
  },
  {
   "cell_type": "code",
   "execution_count": 53,
   "id": "b70e1884",
   "metadata": {},
   "outputs": [
    {
     "data": {
      "text/plain": [
       "Timestamp('2021-12-05 00:00:00')"
      ]
     },
     "execution_count": 53,
     "metadata": {},
     "output_type": "execute_result"
    }
   ],
   "source": [
    "COUPON_REDEMPT_RAW['Date'].max() #last date in COUPON_REDEMPT_RAW"
   ]
  },
  {
   "cell_type": "markdown",
   "id": "dc3dd7f1",
   "metadata": {},
   "source": [
    "# Understanding the Datasets"
   ]
  },
  {
   "cell_type": "markdown",
   "id": "726f6b7f",
   "metadata": {},
   "source": [
    "### demographic_RAW"
   ]
  },
  {
   "cell_type": "code",
   "execution_count": 54,
   "id": "a6518993",
   "metadata": {},
   "outputs": [
    {
     "data": {
      "text/plain": [
       "Index(['AGE_DESC', 'MARITAL_STATUS_CODE', 'INCOME_DESC', 'HOMEOWNER_DESC',\n",
       "       'HH_COMP_DESC', 'HOUSEHOLD_SIZE_DESC', 'KID_CATEGORY_DESC',\n",
       "       'HOUSEHOLD_KEY'],\n",
       "      dtype='object')"
      ]
     },
     "execution_count": 54,
     "metadata": {},
     "output_type": "execute_result"
    }
   ],
   "source": [
    "demographic_RAW.columns"
   ]
  },
  {
   "cell_type": "code",
   "execution_count": 55,
   "id": "d2611d91",
   "metadata": {},
   "outputs": [
    {
     "data": {
      "text/plain": [
       "AGE_DESC               object\n",
       "MARITAL_STATUS_CODE    object\n",
       "INCOME_DESC            object\n",
       "HOMEOWNER_DESC         object\n",
       "HH_COMP_DESC           object\n",
       "HOUSEHOLD_SIZE_DESC    object\n",
       "KID_CATEGORY_DESC      object\n",
       "HOUSEHOLD_KEY           int16\n",
       "dtype: object"
      ]
     },
     "execution_count": 55,
     "metadata": {},
     "output_type": "execute_result"
    }
   ],
   "source": [
    "demographic_RAW.dtypes"
   ]
  },
  {
   "cell_type": "code",
   "execution_count": 56,
   "id": "78adf38e",
   "metadata": {},
   "outputs": [
    {
     "data": {
      "text/plain": [
       "45-54    901\n",
       "35-44    594\n",
       "25-34    445\n",
       "65+      230\n",
       "55-64    187\n",
       "19-24    143\n",
       "Name: AGE_DESC, dtype: int64"
      ]
     },
     "execution_count": 56,
     "metadata": {},
     "output_type": "execute_result"
    }
   ],
   "source": [
    "demographic_RAW['AGE_DESC'].value_counts()"
   ]
  },
  {
   "cell_type": "code",
   "execution_count": 57,
   "id": "0c312a16",
   "metadata": {},
   "outputs": [
    {
     "data": {
      "text/plain": [
       "2     1004\n",
       "1      783\n",
       "3      338\n",
       "5+     206\n",
       "4      169\n",
       "Name: HOUSEHOLD_SIZE_DESC, dtype: int64"
      ]
     },
     "execution_count": 57,
     "metadata": {},
     "output_type": "execute_result"
    }
   ],
   "source": [
    "demographic_RAW['HOUSEHOLD_SIZE_DESC'].value_counts()"
   ]
  },
  {
   "cell_type": "markdown",
   "id": "37f00787",
   "metadata": {},
   "source": [
    "### CAMPAIGN_DESC_RAW"
   ]
  },
  {
   "cell_type": "code",
   "execution_count": 58,
   "id": "1bd834ad",
   "metadata": {},
   "outputs": [
    {
     "data": {
      "text/plain": [
       "(30, 7)"
      ]
     },
     "execution_count": 58,
     "metadata": {},
     "output_type": "execute_result"
    }
   ],
   "source": [
    "CAMPAIGN_DESC_RAW.shape"
   ]
  },
  {
   "cell_type": "code",
   "execution_count": 59,
   "id": "919fd88c",
   "metadata": {},
   "outputs": [
    {
     "data": {
      "text/plain": [
       "DESCRIPTION          0\n",
       "CAMPAIGN             0\n",
       "START_DAY            0\n",
       "END_DAY              0\n",
       "Start_date           0\n",
       "End_date             0\n",
       "Campaign_Duration    0\n",
       "dtype: int64"
      ]
     },
     "execution_count": 59,
     "metadata": {},
     "output_type": "execute_result"
    }
   ],
   "source": [
    "CAMPAIGN_DESC_RAW.isnull().sum()"
   ]
  },
  {
   "cell_type": "code",
   "execution_count": 60,
   "id": "d9f72e17",
   "metadata": {},
   "outputs": [
    {
     "data": {
      "text/plain": [
       "DESCRIPTION                  object\n",
       "CAMPAIGN                       int8\n",
       "START_DAY                     int16\n",
       "END_DAY                       int16\n",
       "Start_date           datetime64[ns]\n",
       "End_date             datetime64[ns]\n",
       "Campaign_Duration             int16\n",
       "dtype: object"
      ]
     },
     "execution_count": 60,
     "metadata": {},
     "output_type": "execute_result"
    }
   ],
   "source": [
    "CAMPAIGN_DESC_RAW.dtypes"
   ]
  },
  {
   "cell_type": "code",
   "execution_count": 61,
   "id": "55403ff0",
   "metadata": {},
   "outputs": [],
   "source": [
    "CAMPAIGN_DESC_RAW['durations_days']=CAMPAIGN_DESC_RAW['End_date'] - CAMPAIGN_DESC_RAW['Start_date']"
   ]
  },
  {
   "cell_type": "code",
   "execution_count": 62,
   "id": "920767b4",
   "metadata": {},
   "outputs": [
    {
     "data": {
      "text/html": [
       "<div>\n",
       "<style scoped>\n",
       "    .dataframe tbody tr th:only-of-type {\n",
       "        vertical-align: middle;\n",
       "    }\n",
       "\n",
       "    .dataframe tbody tr th {\n",
       "        vertical-align: top;\n",
       "    }\n",
       "\n",
       "    .dataframe thead th {\n",
       "        text-align: right;\n",
       "    }\n",
       "</style>\n",
       "<table border=\"1\" class=\"dataframe\">\n",
       "  <thead>\n",
       "    <tr style=\"text-align: right;\">\n",
       "      <th></th>\n",
       "      <th>DESCRIPTION</th>\n",
       "      <th>CAMPAIGN</th>\n",
       "      <th>START_DAY</th>\n",
       "      <th>END_DAY</th>\n",
       "      <th>Start_date</th>\n",
       "      <th>End_date</th>\n",
       "      <th>Campaign_Duration</th>\n",
       "      <th>durations_days</th>\n",
       "    </tr>\n",
       "  </thead>\n",
       "  <tbody>\n",
       "    <tr>\n",
       "      <th>0</th>\n",
       "      <td>TypeB</td>\n",
       "      <td>24</td>\n",
       "      <td>659</td>\n",
       "      <td>719</td>\n",
       "      <td>2021-10-21</td>\n",
       "      <td>2021-12-20</td>\n",
       "      <td>60</td>\n",
       "      <td>60 days</td>\n",
       "    </tr>\n",
       "    <tr>\n",
       "      <th>1</th>\n",
       "      <td>TypeC</td>\n",
       "      <td>15</td>\n",
       "      <td>547</td>\n",
       "      <td>708</td>\n",
       "      <td>2021-07-01</td>\n",
       "      <td>2021-12-09</td>\n",
       "      <td>161</td>\n",
       "      <td>161 days</td>\n",
       "    </tr>\n",
       "    <tr>\n",
       "      <th>2</th>\n",
       "      <td>TypeB</td>\n",
       "      <td>25</td>\n",
       "      <td>659</td>\n",
       "      <td>691</td>\n",
       "      <td>2021-10-21</td>\n",
       "      <td>2021-11-22</td>\n",
       "      <td>32</td>\n",
       "      <td>32 days</td>\n",
       "    </tr>\n",
       "    <tr>\n",
       "      <th>3</th>\n",
       "      <td>TypeC</td>\n",
       "      <td>20</td>\n",
       "      <td>615</td>\n",
       "      <td>685</td>\n",
       "      <td>2021-09-07</td>\n",
       "      <td>2021-11-16</td>\n",
       "      <td>70</td>\n",
       "      <td>70 days</td>\n",
       "    </tr>\n",
       "  </tbody>\n",
       "</table>\n",
       "</div>"
      ],
      "text/plain": [
       "  DESCRIPTION  CAMPAIGN  START_DAY  END_DAY Start_date   End_date  \\\n",
       "0       TypeB        24        659      719 2021-10-21 2021-12-20   \n",
       "1       TypeC        15        547      708 2021-07-01 2021-12-09   \n",
       "2       TypeB        25        659      691 2021-10-21 2021-11-22   \n",
       "3       TypeC        20        615      685 2021-09-07 2021-11-16   \n",
       "\n",
       "   Campaign_Duration durations_days  \n",
       "0                 60        60 days  \n",
       "1                161       161 days  \n",
       "2                 32        32 days  \n",
       "3                 70        70 days  "
      ]
     },
     "execution_count": 62,
     "metadata": {},
     "output_type": "execute_result"
    }
   ],
   "source": [
    "CAMPAIGN_DESC_RAW.head(4)"
   ]
  },
  {
   "cell_type": "code",
   "execution_count": 63,
   "id": "24209875",
   "metadata": {},
   "outputs": [
    {
     "data": {
      "text/plain": [
       "46.6"
      ]
     },
     "execution_count": 63,
     "metadata": {},
     "output_type": "execute_result"
    }
   ],
   "source": [
    "CAMPAIGN_DESC_RAW['Campaign_Duration'].mean()"
   ]
  },
  {
   "cell_type": "code",
   "execution_count": 64,
   "id": "755c9aef",
   "metadata": {},
   "outputs": [
    {
     "data": {
      "text/plain": [
       "DESCRIPTION                   object\n",
       "CAMPAIGN                        int8\n",
       "START_DAY                      int16\n",
       "END_DAY                        int16\n",
       "Start_date            datetime64[ns]\n",
       "End_date              datetime64[ns]\n",
       "Campaign_Duration              int16\n",
       "durations_days       timedelta64[ns]\n",
       "dtype: object"
      ]
     },
     "execution_count": 64,
     "metadata": {},
     "output_type": "execute_result"
    }
   ],
   "source": [
    "CAMPAIGN_DESC_RAW.dtypes"
   ]
  },
  {
   "cell_type": "markdown",
   "id": "62ac27a1",
   "metadata": {},
   "source": [
    "**The Average Campaign Duration is 46.6 days**"
   ]
  },
  {
   "cell_type": "code",
   "execution_count": 65,
   "id": "9f569f50",
   "metadata": {},
   "outputs": [
    {
     "data": {
      "text/plain": [
       "<AxesSubplot:xlabel='CAMPAIGN', ylabel='Campaign_Duration'>"
      ]
     },
     "execution_count": 65,
     "metadata": {},
     "output_type": "execute_result"
    },
    {
     "data": {
      "image/png": "[encoded data removed]",
      "text/plain": [
       "<Figure size 1500x500 with 1 Axes>"
      ]
     },
     "metadata": {},
     "output_type": "display_data"
    }
   ],
   "source": [
    "plt.figure(figsize=(15,5))\n",
    "sns.barplot(x='CAMPAIGN',y='Campaign_Duration',data = CAMPAIGN_DESC_RAW)"
   ]
  },
  {
   "cell_type": "markdown",
   "id": "83533e92",
   "metadata": {},
   "source": [
    "**The duration of Campaign 15 exceeded 160 days.**"
   ]
  },
  {
   "cell_type": "code",
   "execution_count": 66,
   "id": "5f3ce3ab",
   "metadata": {},
   "outputs": [
    {
     "data": {
      "text/html": [
       "<div>\n",
       "<style scoped>\n",
       "    .dataframe tbody tr th:only-of-type {\n",
       "        vertical-align: middle;\n",
       "    }\n",
       "\n",
       "    .dataframe tbody tr th {\n",
       "        vertical-align: top;\n",
       "    }\n",
       "\n",
       "    .dataframe thead th {\n",
       "        text-align: right;\n",
       "    }\n",
       "</style>\n",
       "<table border=\"1\" class=\"dataframe\">\n",
       "  <thead>\n",
       "    <tr style=\"text-align: right;\">\n",
       "      <th></th>\n",
       "      <th>CAMPAIGN</th>\n",
       "      <th>Campaign_Duration</th>\n",
       "    </tr>\n",
       "    <tr>\n",
       "      <th>DESCRIPTION</th>\n",
       "      <th></th>\n",
       "      <th></th>\n",
       "    </tr>\n",
       "  </thead>\n",
       "  <tbody>\n",
       "    <tr>\n",
       "      <th>TypeA</th>\n",
       "      <td>5</td>\n",
       "      <td>47.200000</td>\n",
       "    </tr>\n",
       "    <tr>\n",
       "      <th>TypeB</th>\n",
       "      <td>19</td>\n",
       "      <td>37.631579</td>\n",
       "    </tr>\n",
       "    <tr>\n",
       "      <th>TypeC</th>\n",
       "      <td>6</td>\n",
       "      <td>74.500000</td>\n",
       "    </tr>\n",
       "  </tbody>\n",
       "</table>\n",
       "</div>"
      ],
      "text/plain": [
       "             CAMPAIGN  Campaign_Duration\n",
       "DESCRIPTION                             \n",
       "TypeA               5          47.200000\n",
       "TypeB              19          37.631579\n",
       "TypeC               6          74.500000"
      ]
     },
     "execution_count": 66,
     "metadata": {},
     "output_type": "execute_result"
    }
   ],
   "source": [
    "CAMPAIGN_DESC_RAW.groupby('DESCRIPTION').aggregate({'CAMPAIGN':'count','Campaign_Duration':'mean'})"
   ]
  },
  {
   "cell_type": "markdown",
   "id": "3028844b",
   "metadata": {},
   "source": [
    "**There have been 19 Type B campaigns with an average duration of 38 days. In contrast, there have been 6 Type C campaigns, averaging 75 days in length.**"
   ]
  },
  {
   "cell_type": "code",
   "execution_count": 67,
   "id": "bd7a74d7",
   "metadata": {},
   "outputs": [],
   "source": [
    "CAMPAIGN_DESC_RAW['Start_month'] = CAMPAIGN_DESC_RAW['Start_date'].dt.strftime('%m')"
   ]
  },
  {
   "cell_type": "code",
   "execution_count": 68,
   "id": "feeed774",
   "metadata": {},
   "outputs": [],
   "source": [
    "CAMPAIGN_DESC_RAW['End_month'] = CAMPAIGN_DESC_RAW['End_date'].dt.strftime('%m')"
   ]
  },
  {
   "cell_type": "code",
   "execution_count": 69,
   "id": "1ec2e0a1",
   "metadata": {},
   "outputs": [],
   "source": [
    "CAMPAIGN_DESC_RAW['Start_Year'] = CAMPAIGN_DESC_RAW['Start_date'].dt.strftime('%Y')"
   ]
  },
  {
   "cell_type": "code",
   "execution_count": 70,
   "id": "4f1ddf7a",
   "metadata": {},
   "outputs": [],
   "source": [
    "CAMPAIGN_DESC_RAW['End_Year'] = CAMPAIGN_DESC_RAW['End_date'].dt.strftime('%Y')"
   ]
  },
  {
   "cell_type": "code",
   "execution_count": 71,
   "id": "9e7bef89",
   "metadata": {},
   "outputs": [
    {
     "data": {
      "text/html": [
       "<div>\n",
       "<style scoped>\n",
       "    .dataframe tbody tr th:only-of-type {\n",
       "        vertical-align: middle;\n",
       "    }\n",
       "\n",
       "    .dataframe tbody tr th {\n",
       "        vertical-align: top;\n",
       "    }\n",
       "\n",
       "    .dataframe thead th {\n",
       "        text-align: right;\n",
       "    }\n",
       "</style>\n",
       "<table border=\"1\" class=\"dataframe\">\n",
       "  <thead>\n",
       "    <tr style=\"text-align: right;\">\n",
       "      <th></th>\n",
       "      <th>DESCRIPTION</th>\n",
       "      <th>CAMPAIGN</th>\n",
       "      <th>START_DAY</th>\n",
       "      <th>END_DAY</th>\n",
       "      <th>Start_date</th>\n",
       "      <th>End_date</th>\n",
       "      <th>Campaign_Duration</th>\n",
       "      <th>durations_days</th>\n",
       "      <th>Start_month</th>\n",
       "      <th>End_month</th>\n",
       "      <th>Start_Year</th>\n",
       "      <th>End_Year</th>\n",
       "    </tr>\n",
       "  </thead>\n",
       "  <tbody>\n",
       "    <tr>\n",
       "      <th>0</th>\n",
       "      <td>TypeB</td>\n",
       "      <td>24</td>\n",
       "      <td>659</td>\n",
       "      <td>719</td>\n",
       "      <td>2021-10-21</td>\n",
       "      <td>2021-12-20</td>\n",
       "      <td>60</td>\n",
       "      <td>60 days</td>\n",
       "      <td>10</td>\n",
       "      <td>12</td>\n",
       "      <td>2021</td>\n",
       "      <td>2021</td>\n",
       "    </tr>\n",
       "    <tr>\n",
       "      <th>1</th>\n",
       "      <td>TypeC</td>\n",
       "      <td>15</td>\n",
       "      <td>547</td>\n",
       "      <td>708</td>\n",
       "      <td>2021-07-01</td>\n",
       "      <td>2021-12-09</td>\n",
       "      <td>161</td>\n",
       "      <td>161 days</td>\n",
       "      <td>07</td>\n",
       "      <td>12</td>\n",
       "      <td>2021</td>\n",
       "      <td>2021</td>\n",
       "    </tr>\n",
       "    <tr>\n",
       "      <th>2</th>\n",
       "      <td>TypeB</td>\n",
       "      <td>25</td>\n",
       "      <td>659</td>\n",
       "      <td>691</td>\n",
       "      <td>2021-10-21</td>\n",
       "      <td>2021-11-22</td>\n",
       "      <td>32</td>\n",
       "      <td>32 days</td>\n",
       "      <td>10</td>\n",
       "      <td>11</td>\n",
       "      <td>2021</td>\n",
       "      <td>2021</td>\n",
       "    </tr>\n",
       "    <tr>\n",
       "      <th>3</th>\n",
       "      <td>TypeC</td>\n",
       "      <td>20</td>\n",
       "      <td>615</td>\n",
       "      <td>685</td>\n",
       "      <td>2021-09-07</td>\n",
       "      <td>2021-11-16</td>\n",
       "      <td>70</td>\n",
       "      <td>70 days</td>\n",
       "      <td>09</td>\n",
       "      <td>11</td>\n",
       "      <td>2021</td>\n",
       "      <td>2021</td>\n",
       "    </tr>\n",
       "  </tbody>\n",
       "</table>\n",
       "</div>"
      ],
      "text/plain": [
       "  DESCRIPTION  CAMPAIGN  START_DAY  END_DAY Start_date   End_date  \\\n",
       "0       TypeB        24        659      719 2021-10-21 2021-12-20   \n",
       "1       TypeC        15        547      708 2021-07-01 2021-12-09   \n",
       "2       TypeB        25        659      691 2021-10-21 2021-11-22   \n",
       "3       TypeC        20        615      685 2021-09-07 2021-11-16   \n",
       "\n",
       "   Campaign_Duration durations_days Start_month End_month Start_Year End_Year  \n",
       "0                 60        60 days          10        12       2021     2021  \n",
       "1                161       161 days          07        12       2021     2021  \n",
       "2                 32        32 days          10        11       2021     2021  \n",
       "3                 70        70 days          09        11       2021     2021  "
      ]
     },
     "execution_count": 71,
     "metadata": {},
     "output_type": "execute_result"
    }
   ],
   "source": [
    "CAMPAIGN_DESC_RAW.head(4)"
   ]
  },
  {
   "cell_type": "code",
   "execution_count": 72,
   "id": "fb21af7c",
   "metadata": {},
   "outputs": [
    {
     "data": {
      "text/plain": [
       "DESCRIPTION                   object\n",
       "CAMPAIGN                        int8\n",
       "START_DAY                      int16\n",
       "END_DAY                        int16\n",
       "Start_date            datetime64[ns]\n",
       "End_date              datetime64[ns]\n",
       "Campaign_Duration              int16\n",
       "durations_days       timedelta64[ns]\n",
       "Start_month                   object\n",
       "End_month                     object\n",
       "Start_Year                    object\n",
       "End_Year                      object\n",
       "dtype: object"
      ]
     },
     "execution_count": 72,
     "metadata": {},
     "output_type": "execute_result"
    }
   ],
   "source": [
    "CAMPAIGN_DESC_RAW.dtypes"
   ]
  },
  {
   "cell_type": "code",
   "execution_count": 73,
   "id": "fac3dafa",
   "metadata": {},
   "outputs": [
    {
     "data": {
      "text/plain": [
       "(7208, 3)"
      ]
     },
     "execution_count": 73,
     "metadata": {},
     "output_type": "execute_result"
    }
   ],
   "source": [
    "CAMPAIGN_RAW.shape"
   ]
  },
  {
   "cell_type": "code",
   "execution_count": 74,
   "id": "542a1f36",
   "metadata": {},
   "outputs": [
    {
     "data": {
      "text/plain": [
       "Index(['DESCRIPTION', 'HOUSEHOLD_KEY', 'CAMPAIGN'], dtype='object')"
      ]
     },
     "execution_count": 74,
     "metadata": {},
     "output_type": "execute_result"
    }
   ],
   "source": [
    "CAMPAIGN_RAW.columns"
   ]
  },
  {
   "cell_type": "code",
   "execution_count": 75,
   "id": "d401c13b",
   "metadata": {},
   "outputs": [
    {
     "data": {
      "text/plain": [
       "DESCRIPTION      0\n",
       "HOUSEHOLD_KEY    0\n",
       "CAMPAIGN         0\n",
       "dtype: int64"
      ]
     },
     "execution_count": 75,
     "metadata": {},
     "output_type": "execute_result"
    }
   ],
   "source": [
    "CAMPAIGN_RAW.isnull().sum()"
   ]
  },
  {
   "cell_type": "code",
   "execution_count": 76,
   "id": "2d878188",
   "metadata": {},
   "outputs": [
    {
     "data": {
      "text/plain": [
       "1584"
      ]
     },
     "execution_count": 76,
     "metadata": {},
     "output_type": "execute_result"
    }
   ],
   "source": [
    "CAMPAIGN_RAW['HOUSEHOLD_KEY'].nunique()"
   ]
  },
  {
   "cell_type": "code",
   "execution_count": 77,
   "id": "7d5993d9",
   "metadata": {},
   "outputs": [
    {
     "data": {
      "text/plain": [
       "2494"
      ]
     },
     "execution_count": 77,
     "metadata": {},
     "output_type": "execute_result"
    }
   ],
   "source": [
    "TRANSACTION_RAW['HOUSEHOLD_KEY'].nunique()"
   ]
  },
  {
   "cell_type": "markdown",
   "id": "1348722f",
   "metadata": {},
   "source": [
    "**A total of 1,584 households have participated in the campaign, while 916 households have never participated in any campaign.**"
   ]
  },
  {
   "cell_type": "code",
   "execution_count": 78,
   "id": "dc541cd2",
   "metadata": {},
   "outputs": [
    {
     "data": {
      "text/plain": [
       "DESCRIPTION      object\n",
       "HOUSEHOLD_KEY     int16\n",
       "CAMPAIGN           int8\n",
       "dtype: object"
      ]
     },
     "execution_count": 78,
     "metadata": {},
     "output_type": "execute_result"
    }
   ],
   "source": [
    "CAMPAIGN_RAW.dtypes"
   ]
  },
  {
   "cell_type": "code",
   "execution_count": 79,
   "id": "85b2b78a",
   "metadata": {},
   "outputs": [
    {
     "data": {
      "text/plain": [
       "HOUSEHOLD_KEY\n",
       "1       8\n",
       "2       1\n",
       "3       3\n",
       "4       1\n",
       "6       4\n",
       "       ..\n",
       "2496    5\n",
       "2497    3\n",
       "2498    6\n",
       "2499    2\n",
       "2500    8\n",
       "Name: CAMPAIGN, Length: 1584, dtype: int64"
      ]
     },
     "execution_count": 79,
     "metadata": {},
     "output_type": "execute_result"
    }
   ],
   "source": [
    "CAMPAIGN_RAW.groupby('HOUSEHOLD_KEY')['CAMPAIGN'].count()"
   ]
  },
  {
   "cell_type": "code",
   "execution_count": 80,
   "id": "d18abdc8",
   "metadata": {},
   "outputs": [
    {
     "data": {
      "text/plain": [
       "Text(0, 0.5, 'Number of Households Reached To')"
      ]
     },
     "execution_count": 80,
     "metadata": {},
     "output_type": "execute_result"
    },
    {
     "data": {
      "image/png": "[encoded data removed]",
      "text/plain": [
       "<Figure size 1500x500 with 1 Axes>"
      ]
     },
     "metadata": {},
     "output_type": "display_data"
    }
   ],
   "source": [
    "plt.figure(figsize=(15,5))\n",
    "CAMPAIGN_RAW.groupby('CAMPAIGN')['HOUSEHOLD_KEY'].count().plot.bar()\n",
    "plt.ylabel('Number of Households Reached To')"
   ]
  },
  {
   "cell_type": "markdown",
   "id": "6dc24323",
   "metadata": {},
   "source": [
    "**Campaigns 8, 13, and 18 achieved tremendous success, whereas campaigns 1, 3, 15, 27, and 28 were unsuccessful.**"
   ]
  },
  {
   "cell_type": "markdown",
   "id": "b0220c74",
   "metadata": {},
   "source": [
    "### COUPON_RAW"
   ]
  },
  {
   "cell_type": "code",
   "execution_count": 81,
   "id": "d8b0992e",
   "metadata": {},
   "outputs": [
    {
     "data": {
      "text/plain": [
       "(124548, 3)"
      ]
     },
     "execution_count": 81,
     "metadata": {},
     "output_type": "execute_result"
    }
   ],
   "source": [
    "COUPON_RAW.shape"
   ]
  },
  {
   "cell_type": "code",
   "execution_count": 82,
   "id": "592cca8b",
   "metadata": {},
   "outputs": [
    {
     "data": {
      "text/plain": [
       "Index(['COUPON_UPC', 'PRODUCT_ID', 'CAMPAIGN'], dtype='object')"
      ]
     },
     "execution_count": 82,
     "metadata": {},
     "output_type": "execute_result"
    }
   ],
   "source": [
    "COUPON_RAW.columns"
   ]
  },
  {
   "cell_type": "code",
   "execution_count": 83,
   "id": "6a4f2eea",
   "metadata": {},
   "outputs": [
    {
     "data": {
      "text/plain": [
       "1135"
      ]
     },
     "execution_count": 83,
     "metadata": {},
     "output_type": "execute_result"
    }
   ],
   "source": [
    "COUPON_RAW['COUPON_UPC'].nunique()"
   ]
  },
  {
   "cell_type": "code",
   "execution_count": 84,
   "id": "79a624b9",
   "metadata": {},
   "outputs": [
    {
     "data": {
      "text/plain": [
       "COUPON_UPC    0\n",
       "PRODUCT_ID    0\n",
       "CAMPAIGN      0\n",
       "dtype: int64"
      ]
     },
     "execution_count": 84,
     "metadata": {},
     "output_type": "execute_result"
    }
   ],
   "source": [
    "COUPON_RAW.isnull().sum()"
   ]
  },
  {
   "cell_type": "code",
   "execution_count": 85,
   "id": "fe3a1d45",
   "metadata": {},
   "outputs": [
    {
     "data": {
      "text/plain": [
       "COUPON_UPC    int64\n",
       "PRODUCT_ID    int32\n",
       "CAMPAIGN       int8\n",
       "dtype: object"
      ]
     },
     "execution_count": 85,
     "metadata": {},
     "output_type": "execute_result"
    }
   ],
   "source": [
    "COUPON_RAW.dtypes"
   ]
  },
  {
   "cell_type": "markdown",
   "id": "5a863033",
   "metadata": {},
   "source": [
    "### Coupon_Given"
   ]
  },
  {
   "cell_type": "code",
   "execution_count": 86,
   "id": "59a7b569",
   "metadata": {},
   "outputs": [],
   "source": [
    "# Group by \"CAMPAIGN\" and aggregate total unique products and total unique coupons given\n",
    "\n",
    "Coupon_Given=COUPON_RAW.groupby(\"CAMPAIGN\").aggregate(Total_product = ('PRODUCT_ID','nunique'),\n",
    "Total_Coupon_Given = ('COUPON_UPC','nunique')) "
   ]
  },
  {
   "cell_type": "code",
   "execution_count": 87,
   "id": "b9a45f96",
   "metadata": {},
   "outputs": [
    {
     "data": {
      "text/html": [
       "<div>\n",
       "<style scoped>\n",
       "    .dataframe tbody tr th:only-of-type {\n",
       "        vertical-align: middle;\n",
       "    }\n",
       "\n",
       "    .dataframe tbody tr th {\n",
       "        vertical-align: top;\n",
       "    }\n",
       "\n",
       "    .dataframe thead th {\n",
       "        text-align: right;\n",
       "    }\n",
       "</style>\n",
       "<table border=\"1\" class=\"dataframe\">\n",
       "  <thead>\n",
       "    <tr style=\"text-align: right;\">\n",
       "      <th></th>\n",
       "      <th>Total_product</th>\n",
       "      <th>Total_Coupon_Given</th>\n",
       "    </tr>\n",
       "    <tr>\n",
       "      <th>CAMPAIGN</th>\n",
       "      <th></th>\n",
       "      <th></th>\n",
       "    </tr>\n",
       "  </thead>\n",
       "  <tbody>\n",
       "    <tr>\n",
       "      <th>13</th>\n",
       "      <td>35616</td>\n",
       "      <td>207</td>\n",
       "    </tr>\n",
       "    <tr>\n",
       "      <th>18</th>\n",
       "      <td>35513</td>\n",
       "      <td>209</td>\n",
       "    </tr>\n",
       "    <tr>\n",
       "      <th>8</th>\n",
       "      <td>17178</td>\n",
       "      <td>209</td>\n",
       "    </tr>\n",
       "    <tr>\n",
       "      <th>26</th>\n",
       "      <td>3396</td>\n",
       "      <td>181</td>\n",
       "    </tr>\n",
       "    <tr>\n",
       "      <th>30</th>\n",
       "      <td>3205</td>\n",
       "      <td>181</td>\n",
       "    </tr>\n",
       "    <tr>\n",
       "      <th>22</th>\n",
       "      <td>1917</td>\n",
       "      <td>21</td>\n",
       "    </tr>\n",
       "    <tr>\n",
       "      <th>24</th>\n",
       "      <td>1887</td>\n",
       "      <td>2</td>\n",
       "    </tr>\n",
       "    <tr>\n",
       "      <th>16</th>\n",
       "      <td>1025</td>\n",
       "      <td>13</td>\n",
       "    </tr>\n",
       "    <tr>\n",
       "      <th>25</th>\n",
       "      <td>826</td>\n",
       "      <td>17</td>\n",
       "    </tr>\n",
       "    <tr>\n",
       "      <th>9</th>\n",
       "      <td>825</td>\n",
       "      <td>18</td>\n",
       "    </tr>\n",
       "  </tbody>\n",
       "</table>\n",
       "</div>"
      ],
      "text/plain": [
       "          Total_product  Total_Coupon_Given\n",
       "CAMPAIGN                                   \n",
       "13                35616                 207\n",
       "18                35513                 209\n",
       "8                 17178                 209\n",
       "26                 3396                 181\n",
       "30                 3205                 181\n",
       "22                 1917                  21\n",
       "24                 1887                   2\n",
       "16                 1025                  13\n",
       "25                  826                  17\n",
       "9                   825                  18"
      ]
     },
     "execution_count": 87,
     "metadata": {},
     "output_type": "execute_result"
    }
   ],
   "source": [
    "Coupon_Given.sort_values(by='Total_product',ascending=False).head(10)"
   ]
  },
  {
   "cell_type": "code",
   "execution_count": 88,
   "id": "3c12c474",
   "metadata": {},
   "outputs": [
    {
     "data": {
      "text/html": [
       "<div>\n",
       "<style scoped>\n",
       "    .dataframe tbody tr th:only-of-type {\n",
       "        vertical-align: middle;\n",
       "    }\n",
       "\n",
       "    .dataframe tbody tr th {\n",
       "        vertical-align: top;\n",
       "    }\n",
       "\n",
       "    .dataframe thead th {\n",
       "        text-align: right;\n",
       "    }\n",
       "</style>\n",
       "<table border=\"1\" class=\"dataframe\">\n",
       "  <thead>\n",
       "    <tr style=\"text-align: right;\">\n",
       "      <th></th>\n",
       "      <th>Total_product</th>\n",
       "      <th>Total_Coupon_Given</th>\n",
       "    </tr>\n",
       "    <tr>\n",
       "      <th>CAMPAIGN</th>\n",
       "      <th></th>\n",
       "      <th></th>\n",
       "    </tr>\n",
       "  </thead>\n",
       "  <tbody>\n",
       "    <tr>\n",
       "      <th>1</th>\n",
       "      <td>383</td>\n",
       "      <td>11</td>\n",
       "    </tr>\n",
       "    <tr>\n",
       "      <th>2</th>\n",
       "      <td>301</td>\n",
       "      <td>16</td>\n",
       "    </tr>\n",
       "    <tr>\n",
       "      <th>3</th>\n",
       "      <td>506</td>\n",
       "      <td>34</td>\n",
       "    </tr>\n",
       "    <tr>\n",
       "      <th>4</th>\n",
       "      <td>200</td>\n",
       "      <td>12</td>\n",
       "    </tr>\n",
       "    <tr>\n",
       "      <th>5</th>\n",
       "      <td>443</td>\n",
       "      <td>11</td>\n",
       "    </tr>\n",
       "    <tr>\n",
       "      <th>6</th>\n",
       "      <td>18</td>\n",
       "      <td>1</td>\n",
       "    </tr>\n",
       "    <tr>\n",
       "      <th>7</th>\n",
       "      <td>259</td>\n",
       "      <td>8</td>\n",
       "    </tr>\n",
       "    <tr>\n",
       "      <th>8</th>\n",
       "      <td>17178</td>\n",
       "      <td>209</td>\n",
       "    </tr>\n",
       "    <tr>\n",
       "      <th>9</th>\n",
       "      <td>825</td>\n",
       "      <td>18</td>\n",
       "    </tr>\n",
       "    <tr>\n",
       "      <th>10</th>\n",
       "      <td>393</td>\n",
       "      <td>14</td>\n",
       "    </tr>\n",
       "  </tbody>\n",
       "</table>\n",
       "</div>"
      ],
      "text/plain": [
       "          Total_product  Total_Coupon_Given\n",
       "CAMPAIGN                                   \n",
       "1                   383                  11\n",
       "2                   301                  16\n",
       "3                   506                  34\n",
       "4                   200                  12\n",
       "5                   443                  11\n",
       "6                    18                   1\n",
       "7                   259                   8\n",
       "8                 17178                 209\n",
       "9                   825                  18\n",
       "10                  393                  14"
      ]
     },
     "execution_count": 88,
     "metadata": {},
     "output_type": "execute_result"
    }
   ],
   "source": [
    "Coupon_Given.head(10)"
   ]
  },
  {
   "cell_type": "code",
   "execution_count": 89,
   "id": "b7fb92ce",
   "metadata": {},
   "outputs": [],
   "source": [
    "# Merge Coupon_Given DataFrame with CAMPAIGN_DESC_RAW DataFrame based on 'CAMPAIGN' column\n",
    "\n",
    "Coupon_Given = Coupon_Given.merge(right = CAMPAIGN_DESC_RAW,on='CAMPAIGN',how='left')"
   ]
  },
  {
   "cell_type": "code",
   "execution_count": 90,
   "id": "9d319935",
   "metadata": {},
   "outputs": [
    {
     "data": {
      "text/html": [
       "<div>\n",
       "<style scoped>\n",
       "    .dataframe tbody tr th:only-of-type {\n",
       "        vertical-align: middle;\n",
       "    }\n",
       "\n",
       "    .dataframe tbody tr th {\n",
       "        vertical-align: top;\n",
       "    }\n",
       "\n",
       "    .dataframe thead th {\n",
       "        text-align: right;\n",
       "    }\n",
       "</style>\n",
       "<table border=\"1\" class=\"dataframe\">\n",
       "  <thead>\n",
       "    <tr style=\"text-align: right;\">\n",
       "      <th></th>\n",
       "      <th>CAMPAIGN</th>\n",
       "      <th>Total_product</th>\n",
       "      <th>Total_Coupon_Given</th>\n",
       "      <th>DESCRIPTION</th>\n",
       "      <th>START_DAY</th>\n",
       "      <th>END_DAY</th>\n",
       "      <th>Start_date</th>\n",
       "      <th>End_date</th>\n",
       "      <th>Campaign_Duration</th>\n",
       "      <th>durations_days</th>\n",
       "      <th>Start_month</th>\n",
       "      <th>End_month</th>\n",
       "      <th>Start_Year</th>\n",
       "      <th>End_Year</th>\n",
       "    </tr>\n",
       "  </thead>\n",
       "  <tbody>\n",
       "    <tr>\n",
       "      <th>0</th>\n",
       "      <td>1</td>\n",
       "      <td>383</td>\n",
       "      <td>11</td>\n",
       "      <td>TypeB</td>\n",
       "      <td>346</td>\n",
       "      <td>383</td>\n",
       "      <td>2020-12-12</td>\n",
       "      <td>2021-01-18</td>\n",
       "      <td>37</td>\n",
       "      <td>37 days</td>\n",
       "      <td>12</td>\n",
       "      <td>01</td>\n",
       "      <td>2020</td>\n",
       "      <td>2021</td>\n",
       "    </tr>\n",
       "    <tr>\n",
       "      <th>1</th>\n",
       "      <td>2</td>\n",
       "      <td>301</td>\n",
       "      <td>16</td>\n",
       "      <td>TypeB</td>\n",
       "      <td>351</td>\n",
       "      <td>383</td>\n",
       "      <td>2020-12-17</td>\n",
       "      <td>2021-01-18</td>\n",
       "      <td>32</td>\n",
       "      <td>32 days</td>\n",
       "      <td>12</td>\n",
       "      <td>01</td>\n",
       "      <td>2020</td>\n",
       "      <td>2021</td>\n",
       "    </tr>\n",
       "    <tr>\n",
       "      <th>2</th>\n",
       "      <td>3</td>\n",
       "      <td>506</td>\n",
       "      <td>34</td>\n",
       "      <td>TypeC</td>\n",
       "      <td>356</td>\n",
       "      <td>412</td>\n",
       "      <td>2020-12-22</td>\n",
       "      <td>2021-02-16</td>\n",
       "      <td>56</td>\n",
       "      <td>56 days</td>\n",
       "      <td>12</td>\n",
       "      <td>02</td>\n",
       "      <td>2020</td>\n",
       "      <td>2021</td>\n",
       "    </tr>\n",
       "    <tr>\n",
       "      <th>3</th>\n",
       "      <td>4</td>\n",
       "      <td>200</td>\n",
       "      <td>12</td>\n",
       "      <td>TypeB</td>\n",
       "      <td>372</td>\n",
       "      <td>404</td>\n",
       "      <td>2021-01-07</td>\n",
       "      <td>2021-02-08</td>\n",
       "      <td>32</td>\n",
       "      <td>32 days</td>\n",
       "      <td>01</td>\n",
       "      <td>02</td>\n",
       "      <td>2021</td>\n",
       "      <td>2021</td>\n",
       "    </tr>\n",
       "    <tr>\n",
       "      <th>4</th>\n",
       "      <td>5</td>\n",
       "      <td>443</td>\n",
       "      <td>11</td>\n",
       "      <td>TypeB</td>\n",
       "      <td>377</td>\n",
       "      <td>411</td>\n",
       "      <td>2021-01-12</td>\n",
       "      <td>2021-02-15</td>\n",
       "      <td>34</td>\n",
       "      <td>34 days</td>\n",
       "      <td>01</td>\n",
       "      <td>02</td>\n",
       "      <td>2021</td>\n",
       "      <td>2021</td>\n",
       "    </tr>\n",
       "    <tr>\n",
       "      <th>5</th>\n",
       "      <td>6</td>\n",
       "      <td>18</td>\n",
       "      <td>1</td>\n",
       "      <td>TypeC</td>\n",
       "      <td>393</td>\n",
       "      <td>425</td>\n",
       "      <td>2021-01-28</td>\n",
       "      <td>2021-03-01</td>\n",
       "      <td>32</td>\n",
       "      <td>32 days</td>\n",
       "      <td>01</td>\n",
       "      <td>03</td>\n",
       "      <td>2021</td>\n",
       "      <td>2021</td>\n",
       "    </tr>\n",
       "    <tr>\n",
       "      <th>6</th>\n",
       "      <td>7</td>\n",
       "      <td>259</td>\n",
       "      <td>8</td>\n",
       "      <td>TypeB</td>\n",
       "      <td>398</td>\n",
       "      <td>432</td>\n",
       "      <td>2021-02-02</td>\n",
       "      <td>2021-03-08</td>\n",
       "      <td>34</td>\n",
       "      <td>34 days</td>\n",
       "      <td>02</td>\n",
       "      <td>03</td>\n",
       "      <td>2021</td>\n",
       "      <td>2021</td>\n",
       "    </tr>\n",
       "    <tr>\n",
       "      <th>7</th>\n",
       "      <td>8</td>\n",
       "      <td>17178</td>\n",
       "      <td>209</td>\n",
       "      <td>TypeA</td>\n",
       "      <td>412</td>\n",
       "      <td>460</td>\n",
       "      <td>2021-02-16</td>\n",
       "      <td>2021-04-05</td>\n",
       "      <td>48</td>\n",
       "      <td>48 days</td>\n",
       "      <td>02</td>\n",
       "      <td>04</td>\n",
       "      <td>2021</td>\n",
       "      <td>2021</td>\n",
       "    </tr>\n",
       "    <tr>\n",
       "      <th>8</th>\n",
       "      <td>9</td>\n",
       "      <td>825</td>\n",
       "      <td>18</td>\n",
       "      <td>TypeB</td>\n",
       "      <td>435</td>\n",
       "      <td>467</td>\n",
       "      <td>2021-03-11</td>\n",
       "      <td>2021-04-12</td>\n",
       "      <td>32</td>\n",
       "      <td>32 days</td>\n",
       "      <td>03</td>\n",
       "      <td>04</td>\n",
       "      <td>2021</td>\n",
       "      <td>2021</td>\n",
       "    </tr>\n",
       "    <tr>\n",
       "      <th>9</th>\n",
       "      <td>10</td>\n",
       "      <td>393</td>\n",
       "      <td>14</td>\n",
       "      <td>TypeB</td>\n",
       "      <td>463</td>\n",
       "      <td>495</td>\n",
       "      <td>2021-04-08</td>\n",
       "      <td>2021-05-10</td>\n",
       "      <td>32</td>\n",
       "      <td>32 days</td>\n",
       "      <td>04</td>\n",
       "      <td>05</td>\n",
       "      <td>2021</td>\n",
       "      <td>2021</td>\n",
       "    </tr>\n",
       "  </tbody>\n",
       "</table>\n",
       "</div>"
      ],
      "text/plain": [
       "   CAMPAIGN  Total_product  Total_Coupon_Given DESCRIPTION  START_DAY  \\\n",
       "0         1            383                  11       TypeB        346   \n",
       "1         2            301                  16       TypeB        351   \n",
       "2         3            506                  34       TypeC        356   \n",
       "3         4            200                  12       TypeB        372   \n",
       "4         5            443                  11       TypeB        377   \n",
       "5         6             18                   1       TypeC        393   \n",
       "6         7            259                   8       TypeB        398   \n",
       "7         8          17178                 209       TypeA        412   \n",
       "8         9            825                  18       TypeB        435   \n",
       "9        10            393                  14       TypeB        463   \n",
       "\n",
       "   END_DAY Start_date   End_date  Campaign_Duration durations_days  \\\n",
       "0      383 2020-12-12 2021-01-18                 37        37 days   \n",
       "1      383 2020-12-17 2021-01-18                 32        32 days   \n",
       "2      412 2020-12-22 2021-02-16                 56        56 days   \n",
       "3      404 2021-01-07 2021-02-08                 32        32 days   \n",
       "4      411 2021-01-12 2021-02-15                 34        34 days   \n",
       "5      425 2021-01-28 2021-03-01                 32        32 days   \n",
       "6      432 2021-02-02 2021-03-08                 34        34 days   \n",
       "7      460 2021-02-16 2021-04-05                 48        48 days   \n",
       "8      467 2021-03-11 2021-04-12                 32        32 days   \n",
       "9      495 2021-04-08 2021-05-10                 32        32 days   \n",
       "\n",
       "  Start_month End_month Start_Year End_Year  \n",
       "0          12        01       2020     2021  \n",
       "1          12        01       2020     2021  \n",
       "2          12        02       2020     2021  \n",
       "3          01        02       2021     2021  \n",
       "4          01        02       2021     2021  \n",
       "5          01        03       2021     2021  \n",
       "6          02        03       2021     2021  \n",
       "7          02        04       2021     2021  \n",
       "8          03        04       2021     2021  \n",
       "9          04        05       2021     2021  "
      ]
     },
     "execution_count": 90,
     "metadata": {},
     "output_type": "execute_result"
    }
   ],
   "source": [
    "Coupon_Given.head(10)"
   ]
  },
  {
   "cell_type": "code",
   "execution_count": 91,
   "id": "d5c81d5a",
   "metadata": {},
   "outputs": [
    {
     "data": {
      "text/plain": [
       "Index(['CAMPAIGN', 'Total_product', 'Total_Coupon_Given', 'DESCRIPTION',\n",
       "       'START_DAY', 'END_DAY', 'Start_date', 'End_date', 'Campaign_Duration',\n",
       "       'durations_days', 'Start_month', 'End_month', 'Start_Year', 'End_Year'],\n",
       "      dtype='object')"
      ]
     },
     "execution_count": 91,
     "metadata": {},
     "output_type": "execute_result"
    }
   ],
   "source": [
    "Coupon_Given.columns"
   ]
  },
  {
   "cell_type": "code",
   "execution_count": 92,
   "id": "dbdc9096",
   "metadata": {},
   "outputs": [
    {
     "data": {
      "text/html": [
       "<div>\n",
       "<style scoped>\n",
       "    .dataframe tbody tr th:only-of-type {\n",
       "        vertical-align: middle;\n",
       "    }\n",
       "\n",
       "    .dataframe tbody tr th {\n",
       "        vertical-align: top;\n",
       "    }\n",
       "\n",
       "    .dataframe thead th {\n",
       "        text-align: right;\n",
       "    }\n",
       "</style>\n",
       "<table border=\"1\" class=\"dataframe\">\n",
       "  <thead>\n",
       "    <tr style=\"text-align: right;\">\n",
       "      <th></th>\n",
       "      <th>CAMPAIGN</th>\n",
       "      <th>Total_product</th>\n",
       "      <th>Total_Coupon_Given</th>\n",
       "      <th>Start_Year</th>\n",
       "      <th>End_Year</th>\n",
       "      <th>Start_month</th>\n",
       "      <th>End_month</th>\n",
       "      <th>DESCRIPTION</th>\n",
       "      <th>Campaign_Duration</th>\n",
       "    </tr>\n",
       "  </thead>\n",
       "  <tbody>\n",
       "    <tr>\n",
       "      <th>12</th>\n",
       "      <td>13</td>\n",
       "      <td>35616</td>\n",
       "      <td>207</td>\n",
       "      <td>2021</td>\n",
       "      <td>2021</td>\n",
       "      <td>05</td>\n",
       "      <td>07</td>\n",
       "      <td>TypeA</td>\n",
       "      <td>47</td>\n",
       "    </tr>\n",
       "    <tr>\n",
       "      <th>17</th>\n",
       "      <td>18</td>\n",
       "      <td>35513</td>\n",
       "      <td>209</td>\n",
       "      <td>2021</td>\n",
       "      <td>2021</td>\n",
       "      <td>08</td>\n",
       "      <td>10</td>\n",
       "      <td>TypeA</td>\n",
       "      <td>55</td>\n",
       "    </tr>\n",
       "    <tr>\n",
       "      <th>7</th>\n",
       "      <td>8</td>\n",
       "      <td>17178</td>\n",
       "      <td>209</td>\n",
       "      <td>2021</td>\n",
       "      <td>2021</td>\n",
       "      <td>02</td>\n",
       "      <td>04</td>\n",
       "      <td>TypeA</td>\n",
       "      <td>48</td>\n",
       "    </tr>\n",
       "    <tr>\n",
       "      <th>25</th>\n",
       "      <td>26</td>\n",
       "      <td>3396</td>\n",
       "      <td>181</td>\n",
       "      <td>2020</td>\n",
       "      <td>2020</td>\n",
       "      <td>08</td>\n",
       "      <td>09</td>\n",
       "      <td>TypeA</td>\n",
       "      <td>40</td>\n",
       "    </tr>\n",
       "    <tr>\n",
       "      <th>29</th>\n",
       "      <td>30</td>\n",
       "      <td>3205</td>\n",
       "      <td>181</td>\n",
       "      <td>2020</td>\n",
       "      <td>2021</td>\n",
       "      <td>11</td>\n",
       "      <td>01</td>\n",
       "      <td>TypeA</td>\n",
       "      <td>46</td>\n",
       "    </tr>\n",
       "    <tr>\n",
       "      <th>21</th>\n",
       "      <td>22</td>\n",
       "      <td>1917</td>\n",
       "      <td>21</td>\n",
       "      <td>2021</td>\n",
       "      <td>2021</td>\n",
       "      <td>09</td>\n",
       "      <td>10</td>\n",
       "      <td>TypeB</td>\n",
       "      <td>32</td>\n",
       "    </tr>\n",
       "    <tr>\n",
       "      <th>23</th>\n",
       "      <td>24</td>\n",
       "      <td>1887</td>\n",
       "      <td>2</td>\n",
       "      <td>2021</td>\n",
       "      <td>2021</td>\n",
       "      <td>10</td>\n",
       "      <td>12</td>\n",
       "      <td>TypeB</td>\n",
       "      <td>60</td>\n",
       "    </tr>\n",
       "    <tr>\n",
       "      <th>15</th>\n",
       "      <td>16</td>\n",
       "      <td>1025</td>\n",
       "      <td>13</td>\n",
       "      <td>2021</td>\n",
       "      <td>2021</td>\n",
       "      <td>07</td>\n",
       "      <td>08</td>\n",
       "      <td>TypeB</td>\n",
       "      <td>32</td>\n",
       "    </tr>\n",
       "    <tr>\n",
       "      <th>24</th>\n",
       "      <td>25</td>\n",
       "      <td>826</td>\n",
       "      <td>17</td>\n",
       "      <td>2021</td>\n",
       "      <td>2021</td>\n",
       "      <td>10</td>\n",
       "      <td>11</td>\n",
       "      <td>TypeB</td>\n",
       "      <td>32</td>\n",
       "    </tr>\n",
       "    <tr>\n",
       "      <th>8</th>\n",
       "      <td>9</td>\n",
       "      <td>825</td>\n",
       "      <td>18</td>\n",
       "      <td>2021</td>\n",
       "      <td>2021</td>\n",
       "      <td>03</td>\n",
       "      <td>04</td>\n",
       "      <td>TypeB</td>\n",
       "      <td>32</td>\n",
       "    </tr>\n",
       "  </tbody>\n",
       "</table>\n",
       "</div>"
      ],
      "text/plain": [
       "    CAMPAIGN  Total_product  Total_Coupon_Given Start_Year End_Year  \\\n",
       "12        13          35616                 207       2021     2021   \n",
       "17        18          35513                 209       2021     2021   \n",
       "7          8          17178                 209       2021     2021   \n",
       "25        26           3396                 181       2020     2020   \n",
       "29        30           3205                 181       2020     2021   \n",
       "21        22           1917                  21       2021     2021   \n",
       "23        24           1887                   2       2021     2021   \n",
       "15        16           1025                  13       2021     2021   \n",
       "24        25            826                  17       2021     2021   \n",
       "8          9            825                  18       2021     2021   \n",
       "\n",
       "   Start_month End_month DESCRIPTION  Campaign_Duration  \n",
       "12          05        07       TypeA                 47  \n",
       "17          08        10       TypeA                 55  \n",
       "7           02        04       TypeA                 48  \n",
       "25          08        09       TypeA                 40  \n",
       "29          11        01       TypeA                 46  \n",
       "21          09        10       TypeB                 32  \n",
       "23          10        12       TypeB                 60  \n",
       "15          07        08       TypeB                 32  \n",
       "24          10        11       TypeB                 32  \n",
       "8           03        04       TypeB                 32  "
      ]
     },
     "execution_count": 92,
     "metadata": {},
     "output_type": "execute_result"
    }
   ],
   "source": [
    "Coupon_Given.loc[:,('CAMPAIGN','Total_product','Total_Coupon_Given','Start_Year','End_Year','Start_month','End_month','DESCRIPTION','Campaign_Duration')].sort_values(by='Total_product',\n",
    " ascending=False).head(10)"
   ]
  },
  {
   "cell_type": "markdown",
   "id": "1bf0a71a",
   "metadata": {},
   "source": [
    "**Campaigns 13, 18, and 8 are the ones with the most products sold in them.**"
   ]
  },
  {
   "cell_type": "markdown",
   "id": "8733bd4c",
   "metadata": {},
   "source": [
    "### coupon_product"
   ]
  },
  {
   "cell_type": "code",
   "execution_count": 93,
   "id": "82dad816",
   "metadata": {},
   "outputs": [],
   "source": [
    "coupon_product = COUPON_RAW.merge(right=PRODUCT_RAW,on='PRODUCT_ID',how='left')"
   ]
  },
  {
   "cell_type": "code",
   "execution_count": 94,
   "id": "ad4a7583",
   "metadata": {},
   "outputs": [
    {
     "data": {
      "text/html": [
       "<div>\n",
       "<style scoped>\n",
       "    .dataframe tbody tr th:only-of-type {\n",
       "        vertical-align: middle;\n",
       "    }\n",
       "\n",
       "    .dataframe tbody tr th {\n",
       "        vertical-align: top;\n",
       "    }\n",
       "\n",
       "    .dataframe thead th {\n",
       "        text-align: right;\n",
       "    }\n",
       "</style>\n",
       "<table border=\"1\" class=\"dataframe\">\n",
       "  <thead>\n",
       "    <tr style=\"text-align: right;\">\n",
       "      <th></th>\n",
       "      <th>COUPON_UPC</th>\n",
       "      <th>PRODUCT_ID</th>\n",
       "      <th>CAMPAIGN</th>\n",
       "      <th>MANUFACTURER</th>\n",
       "      <th>DEPARTMENT</th>\n",
       "      <th>BRAND</th>\n",
       "      <th>COMMODITY_DESC</th>\n",
       "      <th>SUB_COMMODITY_DESC</th>\n",
       "      <th>CURR_SIZE_OF_PRODUCT</th>\n",
       "    </tr>\n",
       "  </thead>\n",
       "  <tbody>\n",
       "    <tr>\n",
       "      <th>0</th>\n",
       "      <td>10000089061</td>\n",
       "      <td>27160</td>\n",
       "      <td>4</td>\n",
       "      <td>69</td>\n",
       "      <td>GROCERY</td>\n",
       "      <td>Private</td>\n",
       "      <td>SHORTENING/OIL</td>\n",
       "      <td>VEGETABLE/SALAD OIL</td>\n",
       "      <td>48 OZ</td>\n",
       "    </tr>\n",
       "    <tr>\n",
       "      <th>1</th>\n",
       "      <td>10000089064</td>\n",
       "      <td>27754</td>\n",
       "      <td>9</td>\n",
       "      <td>69</td>\n",
       "      <td>GROCERY</td>\n",
       "      <td>Private</td>\n",
       "      <td>FRZN VEGETABLE/VEG DSH</td>\n",
       "      <td>FRZN BAGGED VEGETABLES - PLAIN</td>\n",
       "      <td>16 OZ</td>\n",
       "    </tr>\n",
       "    <tr>\n",
       "      <th>2</th>\n",
       "      <td>10000089073</td>\n",
       "      <td>28897</td>\n",
       "      <td>12</td>\n",
       "      <td>69</td>\n",
       "      <td>GROCERY</td>\n",
       "      <td>Private</td>\n",
       "      <td>EGGS</td>\n",
       "      <td>EGGS - X-LARGE</td>\n",
       "      <td>A D   1 DZ</td>\n",
       "    </tr>\n",
       "    <tr>\n",
       "      <th>3</th>\n",
       "      <td>51800009050</td>\n",
       "      <td>28919</td>\n",
       "      <td>28</td>\n",
       "      <td>236</td>\n",
       "      <td>GROCERY</td>\n",
       "      <td>National</td>\n",
       "      <td>REFRGRATD DOUGH PRODUCTS</td>\n",
       "      <td>REFRIGERATED COOKIES-CHUB</td>\n",
       "      <td>16.5 OZ</td>\n",
       "    </tr>\n",
       "    <tr>\n",
       "      <th>4</th>\n",
       "      <td>52100000076</td>\n",
       "      <td>28929</td>\n",
       "      <td>25</td>\n",
       "      <td>317</td>\n",
       "      <td>GROCERY</td>\n",
       "      <td>National</td>\n",
       "      <td>CHEESE</td>\n",
       "      <td>STRING CHEESE</td>\n",
       "      <td>AB    8 OZ</td>\n",
       "    </tr>\n",
       "  </tbody>\n",
       "</table>\n",
       "</div>"
      ],
      "text/plain": [
       "    COUPON_UPC  PRODUCT_ID  CAMPAIGN  MANUFACTURER DEPARTMENT     BRAND  \\\n",
       "0  10000089061       27160         4            69    GROCERY   Private   \n",
       "1  10000089064       27754         9            69    GROCERY   Private   \n",
       "2  10000089073       28897        12            69    GROCERY   Private   \n",
       "3  51800009050       28919        28           236    GROCERY  National   \n",
       "4  52100000076       28929        25           317    GROCERY  National   \n",
       "\n",
       "             COMMODITY_DESC              SUB_COMMODITY_DESC  \\\n",
       "0            SHORTENING/OIL             VEGETABLE/SALAD OIL   \n",
       "1    FRZN VEGETABLE/VEG DSH  FRZN BAGGED VEGETABLES - PLAIN   \n",
       "2                      EGGS                  EGGS - X-LARGE   \n",
       "3  REFRGRATD DOUGH PRODUCTS       REFRIGERATED COOKIES-CHUB   \n",
       "4                    CHEESE                   STRING CHEESE   \n",
       "\n",
       "  CURR_SIZE_OF_PRODUCT  \n",
       "0                48 OZ  \n",
       "1                16 OZ  \n",
       "2           A D   1 DZ  \n",
       "3              16.5 OZ  \n",
       "4           AB    8 OZ  "
      ]
     },
     "execution_count": 94,
     "metadata": {},
     "output_type": "execute_result"
    }
   ],
   "source": [
    "coupon_product.head(5)"
   ]
  },
  {
   "cell_type": "code",
   "execution_count": 95,
   "id": "0c528311",
   "metadata": {},
   "outputs": [
    {
     "data": {
      "text/plain": [
       "COUPON_UPC              0\n",
       "PRODUCT_ID              0\n",
       "CAMPAIGN                0\n",
       "MANUFACTURER            0\n",
       "DEPARTMENT              0\n",
       "BRAND                   0\n",
       "COMMODITY_DESC          0\n",
       "SUB_COMMODITY_DESC      0\n",
       "CURR_SIZE_OF_PRODUCT    0\n",
       "dtype: int64"
      ]
     },
     "execution_count": 95,
     "metadata": {},
     "output_type": "execute_result"
    }
   ],
   "source": [
    "coupon_product.isnull().sum()"
   ]
  },
  {
   "cell_type": "markdown",
   "id": "5c6d6ad4",
   "metadata": {},
   "source": [
    "**Top 10 product on which the Coupon has been applied**"
   ]
  },
  {
   "cell_type": "code",
   "execution_count": 96,
   "id": "a4797cfc",
   "metadata": {},
   "outputs": [
    {
     "data": {
      "text/plain": [
       "HAIR CARE PRODUCTS        6261\n",
       "MAKEUP AND TREATMENT      5585\n",
       "FRZN MEAT/MEAT DINNERS    4893\n",
       "FROZEN PIZZA              3658\n",
       "BEEF                      3314\n",
       "ICE CREAM/MILK/SHERBTS    3257\n",
       "CHEESE                    3146\n",
       "YOGURT                    2460\n",
       "ORAL HYGIENE PRODUCTS     2437\n",
       "LUNCHMEAT                 2425\n",
       "Name: COMMODITY_DESC, dtype: int64"
      ]
     },
     "execution_count": 96,
     "metadata": {},
     "output_type": "execute_result"
    }
   ],
   "source": [
    "coupon_product['COMMODITY_DESC'].value_counts().head(10)"
   ]
  },
  {
   "cell_type": "markdown",
   "id": "0a43ed13",
   "metadata": {},
   "source": [
    "**Most prominent products among coupons created are bathroom products such as hair care and makeup.**"
   ]
  },
  {
   "cell_type": "markdown",
   "id": "bffdae30",
   "metadata": {},
   "source": [
    "### COUPON_REDEMPT_RAW"
   ]
  },
  {
   "cell_type": "code",
   "execution_count": 97,
   "id": "316df747",
   "metadata": {},
   "outputs": [
    {
     "data": {
      "text/plain": [
       "Index(['HOUSEHOLD_KEY', 'DAY', 'COUPON_UPC', 'CAMPAIGN', 'Date'], dtype='object')"
      ]
     },
     "execution_count": 97,
     "metadata": {},
     "output_type": "execute_result"
    }
   ],
   "source": [
    "COUPON_REDEMPT_RAW.columns"
   ]
  },
  {
   "cell_type": "code",
   "execution_count": 98,
   "id": "bc1b1703",
   "metadata": {},
   "outputs": [
    {
     "data": {
      "text/plain": [
       "556"
      ]
     },
     "execution_count": 98,
     "metadata": {},
     "output_type": "execute_result"
    }
   ],
   "source": [
    "COUPON_REDEMPT_RAW['COUPON_UPC'].nunique()"
   ]
  },
  {
   "cell_type": "markdown",
   "id": "7a37e528",
   "metadata": {},
   "source": [
    "**Only 556 Coupon has been used out of 1135**"
   ]
  },
  {
   "cell_type": "code",
   "execution_count": 99,
   "id": "aeec2e47",
   "metadata": {},
   "outputs": [
    {
     "data": {
      "text/plain": [
       "<AxesSubplot:xlabel='CAMPAIGN'>"
      ]
     },
     "execution_count": 99,
     "metadata": {},
     "output_type": "execute_result"
    },
    {
     "data": {
      "image/png": "[encoded data removed]",
      "text/plain": [
       "<Figure size 640x480 with 1 Axes>"
      ]
     },
     "metadata": {},
     "output_type": "display_data"
    }
   ],
   "source": [
    "COUPON_REDEMPT_RAW.groupby('CAMPAIGN').agg(total_coupon_reedm=('COUPON_UPC','nunique')).sort_values(by='total_coupon_reedm',ascending=False).plot.bar()"
   ]
  },
  {
   "cell_type": "markdown",
   "id": "66d5408d",
   "metadata": {},
   "source": [
    "### Coupon_redeem"
   ]
  },
  {
   "cell_type": "code",
   "execution_count": 100,
   "id": "1c03cdce",
   "metadata": {},
   "outputs": [],
   "source": [
    "Coupon_redeem = COUPON_REDEMPT_RAW.groupby('CAMPAIGN').agg(total_coupon_reedm=('COUPON_UPC','nunique'))"
   ]
  },
  {
   "cell_type": "code",
   "execution_count": 101,
   "id": "0435d7ee",
   "metadata": {
    "scrolled": true
   },
   "outputs": [
    {
     "data": {
      "text/html": [
       "<div>\n",
       "<style scoped>\n",
       "    .dataframe tbody tr th:only-of-type {\n",
       "        vertical-align: middle;\n",
       "    }\n",
       "\n",
       "    .dataframe tbody tr th {\n",
       "        vertical-align: top;\n",
       "    }\n",
       "\n",
       "    .dataframe thead th {\n",
       "        text-align: right;\n",
       "    }\n",
       "</style>\n",
       "<table border=\"1\" class=\"dataframe\">\n",
       "  <thead>\n",
       "    <tr style=\"text-align: right;\">\n",
       "      <th></th>\n",
       "      <th>total_coupon_reedm</th>\n",
       "    </tr>\n",
       "    <tr>\n",
       "      <th>CAMPAIGN</th>\n",
       "      <th></th>\n",
       "    </tr>\n",
       "  </thead>\n",
       "  <tbody>\n",
       "    <tr>\n",
       "      <th>13</th>\n",
       "      <td>129</td>\n",
       "    </tr>\n",
       "    <tr>\n",
       "      <th>18</th>\n",
       "      <td>121</td>\n",
       "    </tr>\n",
       "    <tr>\n",
       "      <th>8</th>\n",
       "      <td>105</td>\n",
       "    </tr>\n",
       "    <tr>\n",
       "      <th>26</th>\n",
       "      <td>53</td>\n",
       "    </tr>\n",
       "    <tr>\n",
       "      <th>30</th>\n",
       "      <td>41</td>\n",
       "    </tr>\n",
       "    <tr>\n",
       "      <th>29</th>\n",
       "      <td>17</td>\n",
       "    </tr>\n",
       "    <tr>\n",
       "      <th>23</th>\n",
       "      <td>16</td>\n",
       "    </tr>\n",
       "    <tr>\n",
       "      <th>25</th>\n",
       "      <td>15</td>\n",
       "    </tr>\n",
       "    <tr>\n",
       "      <th>20</th>\n",
       "      <td>15</td>\n",
       "    </tr>\n",
       "    <tr>\n",
       "      <th>9</th>\n",
       "      <td>14</td>\n",
       "    </tr>\n",
       "    <tr>\n",
       "      <th>14</th>\n",
       "      <td>14</td>\n",
       "    </tr>\n",
       "    <tr>\n",
       "      <th>17</th>\n",
       "      <td>13</td>\n",
       "    </tr>\n",
       "    <tr>\n",
       "      <th>22</th>\n",
       "      <td>12</td>\n",
       "    </tr>\n",
       "    <tr>\n",
       "      <th>12</th>\n",
       "      <td>11</td>\n",
       "    </tr>\n",
       "    <tr>\n",
       "      <th>16</th>\n",
       "      <td>10</td>\n",
       "    </tr>\n",
       "    <tr>\n",
       "      <th>19</th>\n",
       "      <td>9</td>\n",
       "    </tr>\n",
       "    <tr>\n",
       "      <th>10</th>\n",
       "      <td>7</td>\n",
       "    </tr>\n",
       "    <tr>\n",
       "      <th>11</th>\n",
       "      <td>6</td>\n",
       "    </tr>\n",
       "    <tr>\n",
       "      <th>4</th>\n",
       "      <td>6</td>\n",
       "    </tr>\n",
       "    <tr>\n",
       "      <th>21</th>\n",
       "      <td>5</td>\n",
       "    </tr>\n",
       "    <tr>\n",
       "      <th>7</th>\n",
       "      <td>5</td>\n",
       "    </tr>\n",
       "    <tr>\n",
       "      <th>5</th>\n",
       "      <td>5</td>\n",
       "    </tr>\n",
       "    <tr>\n",
       "      <th>2</th>\n",
       "      <td>4</td>\n",
       "    </tr>\n",
       "    <tr>\n",
       "      <th>15</th>\n",
       "      <td>2</td>\n",
       "    </tr>\n",
       "    <tr>\n",
       "      <th>24</th>\n",
       "      <td>2</td>\n",
       "    </tr>\n",
       "    <tr>\n",
       "      <th>3</th>\n",
       "      <td>2</td>\n",
       "    </tr>\n",
       "    <tr>\n",
       "      <th>6</th>\n",
       "      <td>1</td>\n",
       "    </tr>\n",
       "    <tr>\n",
       "      <th>27</th>\n",
       "      <td>1</td>\n",
       "    </tr>\n",
       "    <tr>\n",
       "      <th>28</th>\n",
       "      <td>1</td>\n",
       "    </tr>\n",
       "    <tr>\n",
       "      <th>1</th>\n",
       "      <td>1</td>\n",
       "    </tr>\n",
       "  </tbody>\n",
       "</table>\n",
       "</div>"
      ],
      "text/plain": [
       "          total_coupon_reedm\n",
       "CAMPAIGN                    \n",
       "13                       129\n",
       "18                       121\n",
       "8                        105\n",
       "26                        53\n",
       "30                        41\n",
       "29                        17\n",
       "23                        16\n",
       "25                        15\n",
       "20                        15\n",
       "9                         14\n",
       "14                        14\n",
       "17                        13\n",
       "22                        12\n",
       "12                        11\n",
       "16                        10\n",
       "19                         9\n",
       "10                         7\n",
       "11                         6\n",
       "4                          6\n",
       "21                         5\n",
       "7                          5\n",
       "5                          5\n",
       "2                          4\n",
       "15                         2\n",
       "24                         2\n",
       "3                          2\n",
       "6                          1\n",
       "27                         1\n",
       "28                         1\n",
       "1                          1"
      ]
     },
     "execution_count": 101,
     "metadata": {},
     "output_type": "execute_result"
    }
   ],
   "source": [
    "Coupon_redeem.sort_values(by = 'total_coupon_reedm',ascending=False)"
   ]
  },
  {
   "cell_type": "code",
   "execution_count": 102,
   "id": "696d33dd",
   "metadata": {},
   "outputs": [],
   "source": [
    "# Merge Coupon_redeem DataFrame with Coupon_Given DataFrame based on 'CAMPAIGN' column\n",
    "\n",
    "Coupon_redeem = Coupon_redeem.merge(right = Coupon_Given,on='CAMPAIGN',how='left')"
   ]
  },
  {
   "cell_type": "code",
   "execution_count": 103,
   "id": "73a8772f",
   "metadata": {},
   "outputs": [
    {
     "data": {
      "text/html": [
       "<div>\n",
       "<style scoped>\n",
       "    .dataframe tbody tr th:only-of-type {\n",
       "        vertical-align: middle;\n",
       "    }\n",
       "\n",
       "    .dataframe tbody tr th {\n",
       "        vertical-align: top;\n",
       "    }\n",
       "\n",
       "    .dataframe thead th {\n",
       "        text-align: right;\n",
       "    }\n",
       "</style>\n",
       "<table border=\"1\" class=\"dataframe\">\n",
       "  <thead>\n",
       "    <tr style=\"text-align: right;\">\n",
       "      <th></th>\n",
       "      <th>CAMPAIGN</th>\n",
       "      <th>total_coupon_reedm</th>\n",
       "      <th>Total_product</th>\n",
       "      <th>Total_Coupon_Given</th>\n",
       "      <th>DESCRIPTION</th>\n",
       "      <th>START_DAY</th>\n",
       "      <th>END_DAY</th>\n",
       "      <th>Start_date</th>\n",
       "      <th>End_date</th>\n",
       "      <th>Campaign_Duration</th>\n",
       "      <th>durations_days</th>\n",
       "      <th>Start_month</th>\n",
       "      <th>End_month</th>\n",
       "      <th>Start_Year</th>\n",
       "      <th>End_Year</th>\n",
       "    </tr>\n",
       "  </thead>\n",
       "  <tbody>\n",
       "    <tr>\n",
       "      <th>0</th>\n",
       "      <td>1</td>\n",
       "      <td>1</td>\n",
       "      <td>383</td>\n",
       "      <td>11</td>\n",
       "      <td>TypeB</td>\n",
       "      <td>346</td>\n",
       "      <td>383</td>\n",
       "      <td>2020-12-12</td>\n",
       "      <td>2021-01-18</td>\n",
       "      <td>37</td>\n",
       "      <td>37 days</td>\n",
       "      <td>12</td>\n",
       "      <td>01</td>\n",
       "      <td>2020</td>\n",
       "      <td>2021</td>\n",
       "    </tr>\n",
       "    <tr>\n",
       "      <th>1</th>\n",
       "      <td>2</td>\n",
       "      <td>4</td>\n",
       "      <td>301</td>\n",
       "      <td>16</td>\n",
       "      <td>TypeB</td>\n",
       "      <td>351</td>\n",
       "      <td>383</td>\n",
       "      <td>2020-12-17</td>\n",
       "      <td>2021-01-18</td>\n",
       "      <td>32</td>\n",
       "      <td>32 days</td>\n",
       "      <td>12</td>\n",
       "      <td>01</td>\n",
       "      <td>2020</td>\n",
       "      <td>2021</td>\n",
       "    </tr>\n",
       "    <tr>\n",
       "      <th>2</th>\n",
       "      <td>3</td>\n",
       "      <td>2</td>\n",
       "      <td>506</td>\n",
       "      <td>34</td>\n",
       "      <td>TypeC</td>\n",
       "      <td>356</td>\n",
       "      <td>412</td>\n",
       "      <td>2020-12-22</td>\n",
       "      <td>2021-02-16</td>\n",
       "      <td>56</td>\n",
       "      <td>56 days</td>\n",
       "      <td>12</td>\n",
       "      <td>02</td>\n",
       "      <td>2020</td>\n",
       "      <td>2021</td>\n",
       "    </tr>\n",
       "    <tr>\n",
       "      <th>3</th>\n",
       "      <td>4</td>\n",
       "      <td>6</td>\n",
       "      <td>200</td>\n",
       "      <td>12</td>\n",
       "      <td>TypeB</td>\n",
       "      <td>372</td>\n",
       "      <td>404</td>\n",
       "      <td>2021-01-07</td>\n",
       "      <td>2021-02-08</td>\n",
       "      <td>32</td>\n",
       "      <td>32 days</td>\n",
       "      <td>01</td>\n",
       "      <td>02</td>\n",
       "      <td>2021</td>\n",
       "      <td>2021</td>\n",
       "    </tr>\n",
       "    <tr>\n",
       "      <th>4</th>\n",
       "      <td>5</td>\n",
       "      <td>5</td>\n",
       "      <td>443</td>\n",
       "      <td>11</td>\n",
       "      <td>TypeB</td>\n",
       "      <td>377</td>\n",
       "      <td>411</td>\n",
       "      <td>2021-01-12</td>\n",
       "      <td>2021-02-15</td>\n",
       "      <td>34</td>\n",
       "      <td>34 days</td>\n",
       "      <td>01</td>\n",
       "      <td>02</td>\n",
       "      <td>2021</td>\n",
       "      <td>2021</td>\n",
       "    </tr>\n",
       "  </tbody>\n",
       "</table>\n",
       "</div>"
      ],
      "text/plain": [
       "   CAMPAIGN  total_coupon_reedm  Total_product  Total_Coupon_Given  \\\n",
       "0         1                   1            383                  11   \n",
       "1         2                   4            301                  16   \n",
       "2         3                   2            506                  34   \n",
       "3         4                   6            200                  12   \n",
       "4         5                   5            443                  11   \n",
       "\n",
       "  DESCRIPTION  START_DAY  END_DAY Start_date   End_date  Campaign_Duration  \\\n",
       "0       TypeB        346      383 2020-12-12 2021-01-18                 37   \n",
       "1       TypeB        351      383 2020-12-17 2021-01-18                 32   \n",
       "2       TypeC        356      412 2020-12-22 2021-02-16                 56   \n",
       "3       TypeB        372      404 2021-01-07 2021-02-08                 32   \n",
       "4       TypeB        377      411 2021-01-12 2021-02-15                 34   \n",
       "\n",
       "  durations_days Start_month End_month Start_Year End_Year  \n",
       "0        37 days          12        01       2020     2021  \n",
       "1        32 days          12        01       2020     2021  \n",
       "2        56 days          12        02       2020     2021  \n",
       "3        32 days          01        02       2021     2021  \n",
       "4        34 days          01        02       2021     2021  "
      ]
     },
     "execution_count": 103,
     "metadata": {},
     "output_type": "execute_result"
    }
   ],
   "source": [
    "Coupon_redeem.head()"
   ]
  },
  {
   "cell_type": "code",
   "execution_count": 104,
   "id": "1345b141",
   "metadata": {},
   "outputs": [],
   "source": [
    "#calculate Coupon_redeem_rate\n",
    "\n",
    "Coupon_redeem['Coupon_redeem_rate']=(Coupon_redeem['total_coupon_reedm']/Coupon_redeem['Total_Coupon_Given'])*100"
   ]
  },
  {
   "cell_type": "code",
   "execution_count": 105,
   "id": "473be0e2",
   "metadata": {},
   "outputs": [
    {
     "data": {
      "text/html": [
       "<div>\n",
       "<style scoped>\n",
       "    .dataframe tbody tr th:only-of-type {\n",
       "        vertical-align: middle;\n",
       "    }\n",
       "\n",
       "    .dataframe tbody tr th {\n",
       "        vertical-align: top;\n",
       "    }\n",
       "\n",
       "    .dataframe thead th {\n",
       "        text-align: right;\n",
       "    }\n",
       "</style>\n",
       "<table border=\"1\" class=\"dataframe\">\n",
       "  <thead>\n",
       "    <tr style=\"text-align: right;\">\n",
       "      <th></th>\n",
       "      <th>CAMPAIGN</th>\n",
       "      <th>total_coupon_reedm</th>\n",
       "      <th>Total_product</th>\n",
       "      <th>Total_Coupon_Given</th>\n",
       "      <th>DESCRIPTION</th>\n",
       "      <th>START_DAY</th>\n",
       "      <th>END_DAY</th>\n",
       "      <th>Start_date</th>\n",
       "      <th>End_date</th>\n",
       "      <th>Campaign_Duration</th>\n",
       "      <th>durations_days</th>\n",
       "      <th>Start_month</th>\n",
       "      <th>End_month</th>\n",
       "      <th>Start_Year</th>\n",
       "      <th>End_Year</th>\n",
       "      <th>Coupon_redeem_rate</th>\n",
       "    </tr>\n",
       "  </thead>\n",
       "  <tbody>\n",
       "    <tr>\n",
       "      <th>3</th>\n",
       "      <td>4</td>\n",
       "      <td>6</td>\n",
       "      <td>200</td>\n",
       "      <td>12</td>\n",
       "      <td>TypeB</td>\n",
       "      <td>372</td>\n",
       "      <td>404</td>\n",
       "      <td>2021-01-07</td>\n",
       "      <td>2021-02-08</td>\n",
       "      <td>32</td>\n",
       "      <td>32 days</td>\n",
       "      <td>01</td>\n",
       "      <td>02</td>\n",
       "      <td>2021</td>\n",
       "      <td>2021</td>\n",
       "      <td>50.000000</td>\n",
       "    </tr>\n",
       "    <tr>\n",
       "      <th>4</th>\n",
       "      <td>5</td>\n",
       "      <td>5</td>\n",
       "      <td>443</td>\n",
       "      <td>11</td>\n",
       "      <td>TypeB</td>\n",
       "      <td>377</td>\n",
       "      <td>411</td>\n",
       "      <td>2021-01-12</td>\n",
       "      <td>2021-02-15</td>\n",
       "      <td>34</td>\n",
       "      <td>34 days</td>\n",
       "      <td>01</td>\n",
       "      <td>02</td>\n",
       "      <td>2021</td>\n",
       "      <td>2021</td>\n",
       "      <td>45.454545</td>\n",
       "    </tr>\n",
       "    <tr>\n",
       "      <th>1</th>\n",
       "      <td>2</td>\n",
       "      <td>4</td>\n",
       "      <td>301</td>\n",
       "      <td>16</td>\n",
       "      <td>TypeB</td>\n",
       "      <td>351</td>\n",
       "      <td>383</td>\n",
       "      <td>2020-12-17</td>\n",
       "      <td>2021-01-18</td>\n",
       "      <td>32</td>\n",
       "      <td>32 days</td>\n",
       "      <td>12</td>\n",
       "      <td>01</td>\n",
       "      <td>2020</td>\n",
       "      <td>2021</td>\n",
       "      <td>25.000000</td>\n",
       "    </tr>\n",
       "    <tr>\n",
       "      <th>0</th>\n",
       "      <td>1</td>\n",
       "      <td>1</td>\n",
       "      <td>383</td>\n",
       "      <td>11</td>\n",
       "      <td>TypeB</td>\n",
       "      <td>346</td>\n",
       "      <td>383</td>\n",
       "      <td>2020-12-12</td>\n",
       "      <td>2021-01-18</td>\n",
       "      <td>37</td>\n",
       "      <td>37 days</td>\n",
       "      <td>12</td>\n",
       "      <td>01</td>\n",
       "      <td>2020</td>\n",
       "      <td>2021</td>\n",
       "      <td>9.090909</td>\n",
       "    </tr>\n",
       "    <tr>\n",
       "      <th>2</th>\n",
       "      <td>3</td>\n",
       "      <td>2</td>\n",
       "      <td>506</td>\n",
       "      <td>34</td>\n",
       "      <td>TypeC</td>\n",
       "      <td>356</td>\n",
       "      <td>412</td>\n",
       "      <td>2020-12-22</td>\n",
       "      <td>2021-02-16</td>\n",
       "      <td>56</td>\n",
       "      <td>56 days</td>\n",
       "      <td>12</td>\n",
       "      <td>02</td>\n",
       "      <td>2020</td>\n",
       "      <td>2021</td>\n",
       "      <td>5.882353</td>\n",
       "    </tr>\n",
       "  </tbody>\n",
       "</table>\n",
       "</div>"
      ],
      "text/plain": [
       "   CAMPAIGN  total_coupon_reedm  Total_product  Total_Coupon_Given  \\\n",
       "3         4                   6            200                  12   \n",
       "4         5                   5            443                  11   \n",
       "1         2                   4            301                  16   \n",
       "0         1                   1            383                  11   \n",
       "2         3                   2            506                  34   \n",
       "\n",
       "  DESCRIPTION  START_DAY  END_DAY Start_date   End_date  Campaign_Duration  \\\n",
       "3       TypeB        372      404 2021-01-07 2021-02-08                 32   \n",
       "4       TypeB        377      411 2021-01-12 2021-02-15                 34   \n",
       "1       TypeB        351      383 2020-12-17 2021-01-18                 32   \n",
       "0       TypeB        346      383 2020-12-12 2021-01-18                 37   \n",
       "2       TypeC        356      412 2020-12-22 2021-02-16                 56   \n",
       "\n",
       "  durations_days Start_month End_month Start_Year End_Year  Coupon_redeem_rate  \n",
       "3        32 days          01        02       2021     2021           50.000000  \n",
       "4        34 days          01        02       2021     2021           45.454545  \n",
       "1        32 days          12        01       2020     2021           25.000000  \n",
       "0        37 days          12        01       2020     2021            9.090909  \n",
       "2        56 days          12        02       2020     2021            5.882353  "
      ]
     },
     "execution_count": 105,
     "metadata": {},
     "output_type": "execute_result"
    }
   ],
   "source": [
    "Coupon_redeem.head().sort_values(by = 'Coupon_redeem_rate',ascending = False)"
   ]
  },
  {
   "cell_type": "code",
   "execution_count": 106,
   "id": "38a62a98",
   "metadata": {},
   "outputs": [
    {
     "data": {
      "text/plain": [
       "<AxesSubplot:xlabel='CAMPAIGN', ylabel='Coupon_redeem_rate'>"
      ]
     },
     "execution_count": 106,
     "metadata": {},
     "output_type": "execute_result"
    },
    {
     "data": {
      "image/png": "[encoded data removed]",
      "text/plain": [
       "<Figure size 1500x500 with 1 Axes>"
      ]
     },
     "metadata": {},
     "output_type": "display_data"
    }
   ],
   "source": [
    "plt.figure(figsize=(15,5))\n",
    "sns.barplot(x='CAMPAIGN',y='Coupon_redeem_rate',data=Coupon_redeem)"
   ]
  },
  {
   "cell_type": "markdown",
   "id": "d4e587b2",
   "metadata": {},
   "source": [
    "### TRANSACTION_RAW"
   ]
  },
  {
   "cell_type": "code",
   "execution_count": 107,
   "id": "73c8ad27",
   "metadata": {},
   "outputs": [
    {
     "data": {
      "text/plain": [
       "(450416, 13)"
      ]
     },
     "execution_count": 107,
     "metadata": {},
     "output_type": "execute_result"
    }
   ],
   "source": [
    "TRANSACTION_RAW.shape"
   ]
  },
  {
   "cell_type": "code",
   "execution_count": 108,
   "id": "c87df9c7",
   "metadata": {},
   "outputs": [
    {
     "data": {
      "text/plain": [
       "Index(['HOUSEHOLD_KEY', 'BASKET_ID', 'DAY', 'PRODUCT_ID', 'QUANTITY',\n",
       "       'SALES_VALUE', 'STORE_ID', 'RETAIL_DISC', 'TRANS_TIME', 'WEEK_NO',\n",
       "       'COUPON_DISC', 'COUPON_MATCH_DISC', 'Date'],\n",
       "      dtype='object')"
      ]
     },
     "execution_count": 108,
     "metadata": {},
     "output_type": "execute_result"
    }
   ],
   "source": [
    "TRANSACTION_RAW.columns"
   ]
  },
  {
   "cell_type": "code",
   "execution_count": 109,
   "id": "b23f6846",
   "metadata": {},
   "outputs": [
    {
     "data": {
      "text/plain": [
       "HOUSEHOLD_KEY        0\n",
       "BASKET_ID            0\n",
       "DAY                  0\n",
       "PRODUCT_ID           0\n",
       "QUANTITY             0\n",
       "SALES_VALUE          0\n",
       "STORE_ID             0\n",
       "RETAIL_DISC          0\n",
       "TRANS_TIME           0\n",
       "WEEK_NO              0\n",
       "COUPON_DISC          0\n",
       "COUPON_MATCH_DISC    0\n",
       "Date                 0\n",
       "dtype: int64"
      ]
     },
     "execution_count": 109,
     "metadata": {},
     "output_type": "execute_result"
    }
   ],
   "source": [
    "TRANSACTION_RAW.isnull().sum()"
   ]
  },
  {
   "cell_type": "code",
   "execution_count": 110,
   "id": "049f5ad2",
   "metadata": {},
   "outputs": [
    {
     "data": {
      "text/plain": [
       "450416"
      ]
     },
     "execution_count": 110,
     "metadata": {},
     "output_type": "execute_result"
    }
   ],
   "source": [
    "TRANSACTION_RAW['BASKET_ID'].count()"
   ]
  },
  {
   "cell_type": "code",
   "execution_count": 111,
   "id": "f7d7abc0",
   "metadata": {},
   "outputs": [
    {
     "data": {
      "text/plain": [
       "50479"
      ]
     },
     "execution_count": 111,
     "metadata": {},
     "output_type": "execute_result"
    }
   ],
   "source": [
    "TRANSACTION_RAW['BASKET_ID'].nunique()"
   ]
  },
  {
   "cell_type": "code",
   "execution_count": 112,
   "id": "6220e610",
   "metadata": {},
   "outputs": [
    {
     "data": {
      "text/plain": [
       "2494"
      ]
     },
     "execution_count": 112,
     "metadata": {},
     "output_type": "execute_result"
    }
   ],
   "source": [
    "TRANSACTION_RAW['HOUSEHOLD_KEY'].nunique()"
   ]
  },
  {
   "cell_type": "markdown",
   "id": "4df7157d",
   "metadata": {},
   "source": [
    "### trnx_bucket "
   ]
  },
  {
   "cell_type": "code",
   "execution_count": 113,
   "id": "d54764a9",
   "metadata": {},
   "outputs": [],
   "source": [
    "trnx_bucket =TRANSACTION_RAW.groupby('BASKET_ID').aggregate({'SALES_VALUE':'sum','COUPON_DISC':'sum','COUPON_MATCH_DISC':'sum'})"
   ]
  },
  {
   "cell_type": "code",
   "execution_count": 114,
   "id": "26b3f359",
   "metadata": {},
   "outputs": [
    {
     "data": {
      "text/html": [
       "<div>\n",
       "<style scoped>\n",
       "    .dataframe tbody tr th:only-of-type {\n",
       "        vertical-align: middle;\n",
       "    }\n",
       "\n",
       "    .dataframe tbody tr th {\n",
       "        vertical-align: top;\n",
       "    }\n",
       "\n",
       "    .dataframe thead th {\n",
       "        text-align: right;\n",
       "    }\n",
       "</style>\n",
       "<table border=\"1\" class=\"dataframe\">\n",
       "  <thead>\n",
       "    <tr style=\"text-align: right;\">\n",
       "      <th></th>\n",
       "      <th>SALES_VALUE</th>\n",
       "      <th>COUPON_DISC</th>\n",
       "      <th>COUPON_MATCH_DISC</th>\n",
       "    </tr>\n",
       "    <tr>\n",
       "      <th>BASKET_ID</th>\n",
       "      <th></th>\n",
       "      <th></th>\n",
       "      <th></th>\n",
       "    </tr>\n",
       "  </thead>\n",
       "  <tbody>\n",
       "    <tr>\n",
       "      <th>26984851472</th>\n",
       "      <td>5.91</td>\n",
       "      <td>0</td>\n",
       "      <td>0</td>\n",
       "    </tr>\n",
       "    <tr>\n",
       "      <th>26984851516</th>\n",
       "      <td>12.43</td>\n",
       "      <td>0</td>\n",
       "      <td>0</td>\n",
       "    </tr>\n",
       "    <tr>\n",
       "      <th>26984896261</th>\n",
       "      <td>11.37</td>\n",
       "      <td>0</td>\n",
       "      <td>0</td>\n",
       "    </tr>\n",
       "    <tr>\n",
       "      <th>26984905972</th>\n",
       "      <td>2.55</td>\n",
       "      <td>0</td>\n",
       "      <td>0</td>\n",
       "    </tr>\n",
       "    <tr>\n",
       "      <th>26984945254</th>\n",
       "      <td>3.53</td>\n",
       "      <td>0</td>\n",
       "      <td>0</td>\n",
       "    </tr>\n",
       "  </tbody>\n",
       "</table>\n",
       "</div>"
      ],
      "text/plain": [
       "             SALES_VALUE  COUPON_DISC  COUPON_MATCH_DISC\n",
       "BASKET_ID                                               \n",
       "26984851472         5.91            0                  0\n",
       "26984851516        12.43            0                  0\n",
       "26984896261        11.37            0                  0\n",
       "26984905972         2.55            0                  0\n",
       "26984945254         3.53            0                  0"
      ]
     },
     "execution_count": 114,
     "metadata": {},
     "output_type": "execute_result"
    }
   ],
   "source": [
    "trnx_bucket.head()"
   ]
  },
  {
   "cell_type": "code",
   "execution_count": 115,
   "id": "8d160c63",
   "metadata": {},
   "outputs": [],
   "source": [
    "trnx_bucket['Use_coupon'] = trnx_bucket['COUPON_DISC']!=0"
   ]
  },
  {
   "cell_type": "code",
   "execution_count": 116,
   "id": "8d8d7791",
   "metadata": {},
   "outputs": [
    {
     "data": {
      "text/plain": [
       "False    47892\n",
       "True      2587\n",
       "Name: Use_coupon, dtype: int64"
      ]
     },
     "execution_count": 116,
     "metadata": {},
     "output_type": "execute_result"
    }
   ],
   "source": [
    "trnx_bucket['Use_coupon'].value_counts()"
   ]
  },
  {
   "cell_type": "code",
   "execution_count": 117,
   "id": "5ddc527b",
   "metadata": {},
   "outputs": [
    {
     "data": {
      "text/html": [
       "<div>\n",
       "<style scoped>\n",
       "    .dataframe tbody tr th:only-of-type {\n",
       "        vertical-align: middle;\n",
       "    }\n",
       "\n",
       "    .dataframe tbody tr th {\n",
       "        vertical-align: top;\n",
       "    }\n",
       "\n",
       "    .dataframe thead th {\n",
       "        text-align: right;\n",
       "    }\n",
       "</style>\n",
       "<table border=\"1\" class=\"dataframe\">\n",
       "  <thead>\n",
       "    <tr style=\"text-align: right;\">\n",
       "      <th></th>\n",
       "      <th>SALES_VALUE</th>\n",
       "      <th>COUPON_DISC</th>\n",
       "      <th>COUPON_MATCH_DISC</th>\n",
       "      <th>Use_coupon</th>\n",
       "    </tr>\n",
       "    <tr>\n",
       "      <th>BASKET_ID</th>\n",
       "      <th></th>\n",
       "      <th></th>\n",
       "      <th></th>\n",
       "      <th></th>\n",
       "    </tr>\n",
       "  </thead>\n",
       "  <tbody>\n",
       "    <tr>\n",
       "      <th>27534431747</th>\n",
       "      <td>465.70</td>\n",
       "      <td>-3</td>\n",
       "      <td>-1</td>\n",
       "      <td>True</td>\n",
       "    </tr>\n",
       "    <tr>\n",
       "      <th>27798435271</th>\n",
       "      <td>463.17</td>\n",
       "      <td>-2</td>\n",
       "      <td>-2</td>\n",
       "      <td>True</td>\n",
       "    </tr>\n",
       "    <tr>\n",
       "      <th>27093315740</th>\n",
       "      <td>400.79</td>\n",
       "      <td>0</td>\n",
       "      <td>0</td>\n",
       "      <td>False</td>\n",
       "    </tr>\n",
       "    <tr>\n",
       "      <th>28941937397</th>\n",
       "      <td>400.56</td>\n",
       "      <td>-1</td>\n",
       "      <td>0</td>\n",
       "      <td>True</td>\n",
       "    </tr>\n",
       "    <tr>\n",
       "      <th>28210676830</th>\n",
       "      <td>391.05</td>\n",
       "      <td>0</td>\n",
       "      <td>0</td>\n",
       "      <td>False</td>\n",
       "    </tr>\n",
       "    <tr>\n",
       "      <th>27950470466</th>\n",
       "      <td>376.38</td>\n",
       "      <td>-2</td>\n",
       "      <td>0</td>\n",
       "      <td>True</td>\n",
       "    </tr>\n",
       "    <tr>\n",
       "      <th>29034966796</th>\n",
       "      <td>369.48</td>\n",
       "      <td>0</td>\n",
       "      <td>0</td>\n",
       "      <td>False</td>\n",
       "    </tr>\n",
       "    <tr>\n",
       "      <th>28919755135</th>\n",
       "      <td>368.95</td>\n",
       "      <td>0</td>\n",
       "      <td>0</td>\n",
       "      <td>False</td>\n",
       "    </tr>\n",
       "    <tr>\n",
       "      <th>28675556859</th>\n",
       "      <td>365.86</td>\n",
       "      <td>-3</td>\n",
       "      <td>0</td>\n",
       "      <td>True</td>\n",
       "    </tr>\n",
       "    <tr>\n",
       "      <th>29221810662</th>\n",
       "      <td>358.98</td>\n",
       "      <td>0</td>\n",
       "      <td>0</td>\n",
       "      <td>False</td>\n",
       "    </tr>\n",
       "  </tbody>\n",
       "</table>\n",
       "</div>"
      ],
      "text/plain": [
       "             SALES_VALUE  COUPON_DISC  COUPON_MATCH_DISC  Use_coupon\n",
       "BASKET_ID                                                           \n",
       "27534431747       465.70           -3                 -1        True\n",
       "27798435271       463.17           -2                 -2        True\n",
       "27093315740       400.79            0                  0       False\n",
       "28941937397       400.56           -1                  0        True\n",
       "28210676830       391.05            0                  0       False\n",
       "27950470466       376.38           -2                  0        True\n",
       "29034966796       369.48            0                  0       False\n",
       "28919755135       368.95            0                  0       False\n",
       "28675556859       365.86           -3                  0        True\n",
       "29221810662       358.98            0                  0       False"
      ]
     },
     "execution_count": 117,
     "metadata": {},
     "output_type": "execute_result"
    }
   ],
   "source": [
    "trnx_bucket.sort_values('SALES_VALUE',ascending=False).head(10)"
   ]
  },
  {
   "cell_type": "code",
   "execution_count": 118,
   "id": "e549df93",
   "metadata": {},
   "outputs": [
    {
     "data": {
      "text/plain": [
       "26.93"
      ]
     },
     "execution_count": 118,
     "metadata": {},
     "output_type": "execute_result"
    }
   ],
   "source": [
    "round(trnx_bucket['SALES_VALUE'].mean(),2)"
   ]
  },
  {
   "cell_type": "markdown",
   "id": "b79ed939",
   "metadata": {},
   "source": [
    "**The average basket value is dollar 26.93**"
   ]
  },
  {
   "cell_type": "code",
   "execution_count": 119,
   "id": "51c12961",
   "metadata": {},
   "outputs": [
    {
     "data": {
      "text/plain": [
       "Text(0.5, 1.0, 'Basket value boxplot')"
      ]
     },
     "execution_count": 119,
     "metadata": {},
     "output_type": "execute_result"
    },
    {
     "data": {
      "image/png": "[encoded data removed]",
      "text/plain": [
       "<Figure size 2500x500 with 1 Axes>"
      ]
     },
     "metadata": {},
     "output_type": "display_data"
    }
   ],
   "source": [
    "plt.figure(figsize=(25,5))\n",
    "sns.boxplot(x=trnx_bucket['SALES_VALUE'])\n",
    "plt.title('Basket value boxplot', fontsize = 20)"
   ]
  },
  {
   "cell_type": "code",
   "execution_count": 120,
   "id": "3ccc3113",
   "metadata": {},
   "outputs": [
    {
     "data": {
      "text/html": [
       "<div>\n",
       "<style scoped>\n",
       "    .dataframe tbody tr th:only-of-type {\n",
       "        vertical-align: middle;\n",
       "    }\n",
       "\n",
       "    .dataframe tbody tr th {\n",
       "        vertical-align: top;\n",
       "    }\n",
       "\n",
       "    .dataframe thead th {\n",
       "        text-align: right;\n",
       "    }\n",
       "</style>\n",
       "<table border=\"1\" class=\"dataframe\">\n",
       "  <thead>\n",
       "    <tr style=\"text-align: right;\">\n",
       "      <th></th>\n",
       "      <th>sales_mean</th>\n",
       "      <th>COUPON_DISC_mean</th>\n",
       "      <th>COUPON_MATCH_DISC</th>\n",
       "      <th>No_coupon</th>\n",
       "    </tr>\n",
       "    <tr>\n",
       "      <th>Use_coupon</th>\n",
       "      <th></th>\n",
       "      <th></th>\n",
       "      <th></th>\n",
       "      <th></th>\n",
       "    </tr>\n",
       "  </thead>\n",
       "  <tbody>\n",
       "    <tr>\n",
       "      <th>False</th>\n",
       "      <td>25.009980</td>\n",
       "      <td>0.000000</td>\n",
       "      <td>0.000000</td>\n",
       "      <td>47892</td>\n",
       "    </tr>\n",
       "    <tr>\n",
       "      <th>True</th>\n",
       "      <td>62.533348</td>\n",
       "      <td>-2.587167</td>\n",
       "      <td>-0.334364</td>\n",
       "      <td>2587</td>\n",
       "    </tr>\n",
       "  </tbody>\n",
       "</table>\n",
       "</div>"
      ],
      "text/plain": [
       "            sales_mean  COUPON_DISC_mean  COUPON_MATCH_DISC  No_coupon\n",
       "Use_coupon                                                            \n",
       "False        25.009980          0.000000           0.000000      47892\n",
       "True         62.533348         -2.587167          -0.334364       2587"
      ]
     },
     "execution_count": 120,
     "metadata": {},
     "output_type": "execute_result"
    }
   ],
   "source": [
    "trnx_bucket.groupby('Use_coupon').aggregate( \n",
    "    sales_mean=('SALES_VALUE','mean'),\n",
    "    COUPON_DISC_mean =('COUPON_DISC','mean'),\n",
    "    COUPON_MATCH_DISC=('COUPON_MATCH_DISC','mean'),\n",
    "    No_coupon  =('SALES_VALUE','count'))"
   ]
  },
  {
   "cell_type": "markdown",
   "id": "17918eba",
   "metadata": {},
   "source": [
    "The average basket value without coupon is $26.79.\n",
    "\n",
    "The average basket value with coupon is $68.21.\n",
    "\n",
    "The average discount generated by coupons is $2.98."
   ]
  },
  {
   "cell_type": "markdown",
   "id": "3cdc123d",
   "metadata": {},
   "source": [
    "**It shows that customers tend to purchase more products when coupons are given to them.**"
   ]
  },
  {
   "cell_type": "markdown",
   "id": "78ec02ef",
   "metadata": {},
   "source": [
    "### trnx_desc "
   ]
  },
  {
   "cell_type": "code",
   "execution_count": 121,
   "id": "ee6dde31",
   "metadata": {},
   "outputs": [],
   "source": [
    "trnx_desc = TRANSACTION_RAW.merge(right= trnx_bucket,on='BASKET_ID',how='left')"
   ]
  },
  {
   "cell_type": "code",
   "execution_count": 122,
   "id": "6a1daf51",
   "metadata": {},
   "outputs": [
    {
     "data": {
      "text/html": [
       "<div>\n",
       "<style scoped>\n",
       "    .dataframe tbody tr th:only-of-type {\n",
       "        vertical-align: middle;\n",
       "    }\n",
       "\n",
       "    .dataframe tbody tr th {\n",
       "        vertical-align: top;\n",
       "    }\n",
       "\n",
       "    .dataframe thead th {\n",
       "        text-align: right;\n",
       "    }\n",
       "</style>\n",
       "<table border=\"1\" class=\"dataframe\">\n",
       "  <thead>\n",
       "    <tr style=\"text-align: right;\">\n",
       "      <th></th>\n",
       "      <th>HOUSEHOLD_KEY</th>\n",
       "      <th>BASKET_ID</th>\n",
       "      <th>DAY</th>\n",
       "      <th>PRODUCT_ID</th>\n",
       "      <th>QUANTITY</th>\n",
       "      <th>SALES_VALUE_x</th>\n",
       "      <th>STORE_ID</th>\n",
       "      <th>RETAIL_DISC</th>\n",
       "      <th>TRANS_TIME</th>\n",
       "      <th>WEEK_NO</th>\n",
       "      <th>COUPON_DISC_x</th>\n",
       "      <th>COUPON_MATCH_DISC_x</th>\n",
       "      <th>Date</th>\n",
       "      <th>SALES_VALUE_y</th>\n",
       "      <th>COUPON_DISC_y</th>\n",
       "      <th>COUPON_MATCH_DISC_y</th>\n",
       "      <th>Use_coupon</th>\n",
       "    </tr>\n",
       "  </thead>\n",
       "  <tbody>\n",
       "    <tr>\n",
       "      <th>0</th>\n",
       "      <td>2375</td>\n",
       "      <td>26984851472</td>\n",
       "      <td>1</td>\n",
       "      <td>1004906</td>\n",
       "      <td>1</td>\n",
       "      <td>1.39</td>\n",
       "      <td>364</td>\n",
       "      <td>-0.60</td>\n",
       "      <td>1631</td>\n",
       "      <td>1</td>\n",
       "      <td>0</td>\n",
       "      <td>0</td>\n",
       "      <td>2020-01-02</td>\n",
       "      <td>5.91</td>\n",
       "      <td>0</td>\n",
       "      <td>0</td>\n",
       "      <td>False</td>\n",
       "    </tr>\n",
       "    <tr>\n",
       "      <th>1</th>\n",
       "      <td>2375</td>\n",
       "      <td>26984851472</td>\n",
       "      <td>1</td>\n",
       "      <td>1033142</td>\n",
       "      <td>1</td>\n",
       "      <td>0.82</td>\n",
       "      <td>364</td>\n",
       "      <td>0.00</td>\n",
       "      <td>1631</td>\n",
       "      <td>1</td>\n",
       "      <td>0</td>\n",
       "      <td>0</td>\n",
       "      <td>2020-01-02</td>\n",
       "      <td>5.91</td>\n",
       "      <td>0</td>\n",
       "      <td>0</td>\n",
       "      <td>False</td>\n",
       "    </tr>\n",
       "    <tr>\n",
       "      <th>2</th>\n",
       "      <td>2375</td>\n",
       "      <td>26984851472</td>\n",
       "      <td>1</td>\n",
       "      <td>1036325</td>\n",
       "      <td>1</td>\n",
       "      <td>0.99</td>\n",
       "      <td>364</td>\n",
       "      <td>-0.30</td>\n",
       "      <td>1631</td>\n",
       "      <td>1</td>\n",
       "      <td>0</td>\n",
       "      <td>0</td>\n",
       "      <td>2020-01-02</td>\n",
       "      <td>5.91</td>\n",
       "      <td>0</td>\n",
       "      <td>0</td>\n",
       "      <td>False</td>\n",
       "    </tr>\n",
       "    <tr>\n",
       "      <th>3</th>\n",
       "      <td>2375</td>\n",
       "      <td>26984851472</td>\n",
       "      <td>1</td>\n",
       "      <td>1082185</td>\n",
       "      <td>1</td>\n",
       "      <td>1.21</td>\n",
       "      <td>364</td>\n",
       "      <td>0.00</td>\n",
       "      <td>1631</td>\n",
       "      <td>1</td>\n",
       "      <td>0</td>\n",
       "      <td>0</td>\n",
       "      <td>2020-01-02</td>\n",
       "      <td>5.91</td>\n",
       "      <td>0</td>\n",
       "      <td>0</td>\n",
       "      <td>False</td>\n",
       "    </tr>\n",
       "    <tr>\n",
       "      <th>4</th>\n",
       "      <td>2375</td>\n",
       "      <td>26984851472</td>\n",
       "      <td>1</td>\n",
       "      <td>8160430</td>\n",
       "      <td>1</td>\n",
       "      <td>1.50</td>\n",
       "      <td>364</td>\n",
       "      <td>-0.39</td>\n",
       "      <td>1631</td>\n",
       "      <td>1</td>\n",
       "      <td>0</td>\n",
       "      <td>0</td>\n",
       "      <td>2020-01-02</td>\n",
       "      <td>5.91</td>\n",
       "      <td>0</td>\n",
       "      <td>0</td>\n",
       "      <td>False</td>\n",
       "    </tr>\n",
       "  </tbody>\n",
       "</table>\n",
       "</div>"
      ],
      "text/plain": [
       "   HOUSEHOLD_KEY    BASKET_ID  DAY  PRODUCT_ID  QUANTITY  SALES_VALUE_x  \\\n",
       "0           2375  26984851472    1     1004906         1           1.39   \n",
       "1           2375  26984851472    1     1033142         1           0.82   \n",
       "2           2375  26984851472    1     1036325         1           0.99   \n",
       "3           2375  26984851472    1     1082185         1           1.21   \n",
       "4           2375  26984851472    1     8160430         1           1.50   \n",
       "\n",
       "   STORE_ID  RETAIL_DISC  TRANS_TIME  WEEK_NO  COUPON_DISC_x  \\\n",
       "0       364        -0.60        1631        1              0   \n",
       "1       364         0.00        1631        1              0   \n",
       "2       364        -0.30        1631        1              0   \n",
       "3       364         0.00        1631        1              0   \n",
       "4       364        -0.39        1631        1              0   \n",
       "\n",
       "   COUPON_MATCH_DISC_x       Date  SALES_VALUE_y  COUPON_DISC_y  \\\n",
       "0                    0 2020-01-02           5.91              0   \n",
       "1                    0 2020-01-02           5.91              0   \n",
       "2                    0 2020-01-02           5.91              0   \n",
       "3                    0 2020-01-02           5.91              0   \n",
       "4                    0 2020-01-02           5.91              0   \n",
       "\n",
       "   COUPON_MATCH_DISC_y  Use_coupon  \n",
       "0                    0       False  \n",
       "1                    0       False  \n",
       "2                    0       False  \n",
       "3                    0       False  \n",
       "4                    0       False  "
      ]
     },
     "execution_count": 122,
     "metadata": {},
     "output_type": "execute_result"
    }
   ],
   "source": [
    "trnx_desc.head()"
   ]
  },
  {
   "cell_type": "code",
   "execution_count": 123,
   "id": "19031c93",
   "metadata": {},
   "outputs": [],
   "source": [
    "trnx_desc= trnx_desc.merge(right=PRODUCT_RAW,on='PRODUCT_ID',how='left')"
   ]
  },
  {
   "cell_type": "code",
   "execution_count": 124,
   "id": "6e70dfe2",
   "metadata": {},
   "outputs": [
    {
     "data": {
      "text/html": [
       "<div>\n",
       "<style scoped>\n",
       "    .dataframe tbody tr th:only-of-type {\n",
       "        vertical-align: middle;\n",
       "    }\n",
       "\n",
       "    .dataframe tbody tr th {\n",
       "        vertical-align: top;\n",
       "    }\n",
       "\n",
       "    .dataframe thead th {\n",
       "        text-align: right;\n",
       "    }\n",
       "</style>\n",
       "<table border=\"1\" class=\"dataframe\">\n",
       "  <thead>\n",
       "    <tr style=\"text-align: right;\">\n",
       "      <th></th>\n",
       "      <th>HOUSEHOLD_KEY</th>\n",
       "      <th>BASKET_ID</th>\n",
       "      <th>DAY</th>\n",
       "      <th>PRODUCT_ID</th>\n",
       "      <th>QUANTITY</th>\n",
       "      <th>SALES_VALUE_x</th>\n",
       "      <th>STORE_ID</th>\n",
       "      <th>RETAIL_DISC</th>\n",
       "      <th>TRANS_TIME</th>\n",
       "      <th>WEEK_NO</th>\n",
       "      <th>...</th>\n",
       "      <th>SALES_VALUE_y</th>\n",
       "      <th>COUPON_DISC_y</th>\n",
       "      <th>COUPON_MATCH_DISC_y</th>\n",
       "      <th>Use_coupon</th>\n",
       "      <th>MANUFACTURER</th>\n",
       "      <th>DEPARTMENT</th>\n",
       "      <th>BRAND</th>\n",
       "      <th>COMMODITY_DESC</th>\n",
       "      <th>SUB_COMMODITY_DESC</th>\n",
       "      <th>CURR_SIZE_OF_PRODUCT</th>\n",
       "    </tr>\n",
       "  </thead>\n",
       "  <tbody>\n",
       "    <tr>\n",
       "      <th>0</th>\n",
       "      <td>2375</td>\n",
       "      <td>26984851472</td>\n",
       "      <td>1</td>\n",
       "      <td>1004906</td>\n",
       "      <td>1</td>\n",
       "      <td>1.39</td>\n",
       "      <td>364</td>\n",
       "      <td>-0.6</td>\n",
       "      <td>1631</td>\n",
       "      <td>1</td>\n",
       "      <td>...</td>\n",
       "      <td>5.91</td>\n",
       "      <td>0</td>\n",
       "      <td>0</td>\n",
       "      <td>False</td>\n",
       "      <td>69</td>\n",
       "      <td>PRODUCE</td>\n",
       "      <td>Private</td>\n",
       "      <td>POTATOES</td>\n",
       "      <td>POTATOES RUSSET (BULK&amp;BAG)</td>\n",
       "      <td>5 LB</td>\n",
       "    </tr>\n",
       "    <tr>\n",
       "      <th>1</th>\n",
       "      <td>2375</td>\n",
       "      <td>26984851472</td>\n",
       "      <td>1</td>\n",
       "      <td>1033142</td>\n",
       "      <td>1</td>\n",
       "      <td>0.82</td>\n",
       "      <td>364</td>\n",
       "      <td>0.0</td>\n",
       "      <td>1631</td>\n",
       "      <td>1</td>\n",
       "      <td>...</td>\n",
       "      <td>5.91</td>\n",
       "      <td>0</td>\n",
       "      <td>0</td>\n",
       "      <td>False</td>\n",
       "      <td>2</td>\n",
       "      <td>PRODUCE</td>\n",
       "      <td>National</td>\n",
       "      <td>ONIONS</td>\n",
       "      <td>ONIONS SWEET (BULK&amp;BAG)</td>\n",
       "      <td>40 LB</td>\n",
       "    </tr>\n",
       "    <tr>\n",
       "      <th>2</th>\n",
       "      <td>2375</td>\n",
       "      <td>26984851472</td>\n",
       "      <td>1</td>\n",
       "      <td>1036325</td>\n",
       "      <td>1</td>\n",
       "      <td>0.99</td>\n",
       "      <td>364</td>\n",
       "      <td>-0.3</td>\n",
       "      <td>1631</td>\n",
       "      <td>1</td>\n",
       "      <td>...</td>\n",
       "      <td>5.91</td>\n",
       "      <td>0</td>\n",
       "      <td>0</td>\n",
       "      <td>False</td>\n",
       "      <td>69</td>\n",
       "      <td>PRODUCE</td>\n",
       "      <td>Private</td>\n",
       "      <td>VEGETABLES - ALL OTHERS</td>\n",
       "      <td>CELERY</td>\n",
       "      <td></td>\n",
       "    </tr>\n",
       "  </tbody>\n",
       "</table>\n",
       "<p>3 rows × 23 columns</p>\n",
       "</div>"
      ],
      "text/plain": [
       "   HOUSEHOLD_KEY    BASKET_ID  DAY  PRODUCT_ID  QUANTITY  SALES_VALUE_x  \\\n",
       "0           2375  26984851472    1     1004906         1           1.39   \n",
       "1           2375  26984851472    1     1033142         1           0.82   \n",
       "2           2375  26984851472    1     1036325         1           0.99   \n",
       "\n",
       "   STORE_ID  RETAIL_DISC  TRANS_TIME  WEEK_NO  ...  SALES_VALUE_y  \\\n",
       "0       364         -0.6        1631        1  ...           5.91   \n",
       "1       364          0.0        1631        1  ...           5.91   \n",
       "2       364         -0.3        1631        1  ...           5.91   \n",
       "\n",
       "   COUPON_DISC_y COUPON_MATCH_DISC_y  Use_coupon  MANUFACTURER  DEPARTMENT  \\\n",
       "0              0                   0       False            69     PRODUCE   \n",
       "1              0                   0       False             2     PRODUCE   \n",
       "2              0                   0       False            69     PRODUCE   \n",
       "\n",
       "      BRAND           COMMODITY_DESC          SUB_COMMODITY_DESC  \\\n",
       "0   Private                 POTATOES  POTATOES RUSSET (BULK&BAG)   \n",
       "1  National                   ONIONS     ONIONS SWEET (BULK&BAG)   \n",
       "2   Private  VEGETABLES - ALL OTHERS                      CELERY   \n",
       "\n",
       "  CURR_SIZE_OF_PRODUCT  \n",
       "0                 5 LB  \n",
       "1                40 LB  \n",
       "2                       \n",
       "\n",
       "[3 rows x 23 columns]"
      ]
     },
     "execution_count": 124,
     "metadata": {},
     "output_type": "execute_result"
    }
   ],
   "source": [
    "trnx_desc.head(3)"
   ]
  },
  {
   "cell_type": "code",
   "execution_count": 125,
   "id": "715b0542",
   "metadata": {},
   "outputs": [],
   "source": [
    "trnx_desc.drop(['SALES_VALUE_y','COUPON_DISC_y','COUPON_MATCH_DISC_y'],axis=1,inplace=True)"
   ]
  },
  {
   "cell_type": "code",
   "execution_count": 126,
   "id": "6be17534",
   "metadata": {},
   "outputs": [
    {
     "data": {
      "text/html": [
       "<div>\n",
       "<style scoped>\n",
       "    .dataframe tbody tr th:only-of-type {\n",
       "        vertical-align: middle;\n",
       "    }\n",
       "\n",
       "    .dataframe tbody tr th {\n",
       "        vertical-align: top;\n",
       "    }\n",
       "\n",
       "    .dataframe thead th {\n",
       "        text-align: right;\n",
       "    }\n",
       "</style>\n",
       "<table border=\"1\" class=\"dataframe\">\n",
       "  <thead>\n",
       "    <tr style=\"text-align: right;\">\n",
       "      <th></th>\n",
       "      <th>HOUSEHOLD_KEY</th>\n",
       "      <th>BASKET_ID</th>\n",
       "      <th>DAY</th>\n",
       "      <th>PRODUCT_ID</th>\n",
       "      <th>QUANTITY</th>\n",
       "      <th>SALES_VALUE_x</th>\n",
       "      <th>STORE_ID</th>\n",
       "      <th>RETAIL_DISC</th>\n",
       "      <th>TRANS_TIME</th>\n",
       "      <th>WEEK_NO</th>\n",
       "      <th>COUPON_DISC_x</th>\n",
       "      <th>COUPON_MATCH_DISC_x</th>\n",
       "      <th>Date</th>\n",
       "      <th>Use_coupon</th>\n",
       "      <th>MANUFACTURER</th>\n",
       "      <th>DEPARTMENT</th>\n",
       "      <th>BRAND</th>\n",
       "      <th>COMMODITY_DESC</th>\n",
       "      <th>SUB_COMMODITY_DESC</th>\n",
       "      <th>CURR_SIZE_OF_PRODUCT</th>\n",
       "    </tr>\n",
       "  </thead>\n",
       "  <tbody>\n",
       "    <tr>\n",
       "      <th>0</th>\n",
       "      <td>2375</td>\n",
       "      <td>26984851472</td>\n",
       "      <td>1</td>\n",
       "      <td>1004906</td>\n",
       "      <td>1</td>\n",
       "      <td>1.39</td>\n",
       "      <td>364</td>\n",
       "      <td>-0.60</td>\n",
       "      <td>1631</td>\n",
       "      <td>1</td>\n",
       "      <td>0</td>\n",
       "      <td>0</td>\n",
       "      <td>2020-01-02</td>\n",
       "      <td>False</td>\n",
       "      <td>69</td>\n",
       "      <td>PRODUCE</td>\n",
       "      <td>Private</td>\n",
       "      <td>POTATOES</td>\n",
       "      <td>POTATOES RUSSET (BULK&amp;BAG)</td>\n",
       "      <td>5 LB</td>\n",
       "    </tr>\n",
       "    <tr>\n",
       "      <th>1</th>\n",
       "      <td>2375</td>\n",
       "      <td>26984851472</td>\n",
       "      <td>1</td>\n",
       "      <td>1033142</td>\n",
       "      <td>1</td>\n",
       "      <td>0.82</td>\n",
       "      <td>364</td>\n",
       "      <td>0.00</td>\n",
       "      <td>1631</td>\n",
       "      <td>1</td>\n",
       "      <td>0</td>\n",
       "      <td>0</td>\n",
       "      <td>2020-01-02</td>\n",
       "      <td>False</td>\n",
       "      <td>2</td>\n",
       "      <td>PRODUCE</td>\n",
       "      <td>National</td>\n",
       "      <td>ONIONS</td>\n",
       "      <td>ONIONS SWEET (BULK&amp;BAG)</td>\n",
       "      <td>40 LB</td>\n",
       "    </tr>\n",
       "    <tr>\n",
       "      <th>2</th>\n",
       "      <td>2375</td>\n",
       "      <td>26984851472</td>\n",
       "      <td>1</td>\n",
       "      <td>1036325</td>\n",
       "      <td>1</td>\n",
       "      <td>0.99</td>\n",
       "      <td>364</td>\n",
       "      <td>-0.30</td>\n",
       "      <td>1631</td>\n",
       "      <td>1</td>\n",
       "      <td>0</td>\n",
       "      <td>0</td>\n",
       "      <td>2020-01-02</td>\n",
       "      <td>False</td>\n",
       "      <td>69</td>\n",
       "      <td>PRODUCE</td>\n",
       "      <td>Private</td>\n",
       "      <td>VEGETABLES - ALL OTHERS</td>\n",
       "      <td>CELERY</td>\n",
       "      <td></td>\n",
       "    </tr>\n",
       "    <tr>\n",
       "      <th>3</th>\n",
       "      <td>2375</td>\n",
       "      <td>26984851472</td>\n",
       "      <td>1</td>\n",
       "      <td>1082185</td>\n",
       "      <td>1</td>\n",
       "      <td>1.21</td>\n",
       "      <td>364</td>\n",
       "      <td>0.00</td>\n",
       "      <td>1631</td>\n",
       "      <td>1</td>\n",
       "      <td>0</td>\n",
       "      <td>0</td>\n",
       "      <td>2020-01-02</td>\n",
       "      <td>False</td>\n",
       "      <td>2</td>\n",
       "      <td>PRODUCE</td>\n",
       "      <td>National</td>\n",
       "      <td>TROPICAL FRUIT</td>\n",
       "      <td>BANANAS</td>\n",
       "      <td>40 LB</td>\n",
       "    </tr>\n",
       "    <tr>\n",
       "      <th>4</th>\n",
       "      <td>2375</td>\n",
       "      <td>26984851472</td>\n",
       "      <td>1</td>\n",
       "      <td>8160430</td>\n",
       "      <td>1</td>\n",
       "      <td>1.50</td>\n",
       "      <td>364</td>\n",
       "      <td>-0.39</td>\n",
       "      <td>1631</td>\n",
       "      <td>1</td>\n",
       "      <td>0</td>\n",
       "      <td>0</td>\n",
       "      <td>2020-01-02</td>\n",
       "      <td>False</td>\n",
       "      <td>69</td>\n",
       "      <td>PRODUCE</td>\n",
       "      <td>Private</td>\n",
       "      <td>ORGANICS FRUIT &amp; VEGETABLES</td>\n",
       "      <td>ORGANIC CARROTS</td>\n",
       "      <td>1 LB</td>\n",
       "    </tr>\n",
       "    <tr>\n",
       "      <th>5</th>\n",
       "      <td>2375</td>\n",
       "      <td>26984851516</td>\n",
       "      <td>1</td>\n",
       "      <td>826249</td>\n",
       "      <td>2</td>\n",
       "      <td>1.98</td>\n",
       "      <td>364</td>\n",
       "      <td>-0.60</td>\n",
       "      <td>1642</td>\n",
       "      <td>1</td>\n",
       "      <td>0</td>\n",
       "      <td>0</td>\n",
       "      <td>2020-01-02</td>\n",
       "      <td>False</td>\n",
       "      <td>69</td>\n",
       "      <td>GROCERY</td>\n",
       "      <td>Private</td>\n",
       "      <td>BAKED BREAD/BUNS/ROLLS</td>\n",
       "      <td>HAMBURGER BUNS</td>\n",
       "      <td>12 OZ</td>\n",
       "    </tr>\n",
       "    <tr>\n",
       "      <th>6</th>\n",
       "      <td>2375</td>\n",
       "      <td>26984851516</td>\n",
       "      <td>1</td>\n",
       "      <td>1043142</td>\n",
       "      <td>1</td>\n",
       "      <td>1.57</td>\n",
       "      <td>364</td>\n",
       "      <td>-0.68</td>\n",
       "      <td>1642</td>\n",
       "      <td>1</td>\n",
       "      <td>0</td>\n",
       "      <td>0</td>\n",
       "      <td>2020-01-02</td>\n",
       "      <td>False</td>\n",
       "      <td>321</td>\n",
       "      <td>DRUG GM</td>\n",
       "      <td>National</td>\n",
       "      <td>BROOMS AND MOPS</td>\n",
       "      <td>SPONGES: BATH HOUSEHOLD</td>\n",
       "      <td></td>\n",
       "    </tr>\n",
       "    <tr>\n",
       "      <th>7</th>\n",
       "      <td>2375</td>\n",
       "      <td>26984851516</td>\n",
       "      <td>1</td>\n",
       "      <td>1085983</td>\n",
       "      <td>1</td>\n",
       "      <td>2.99</td>\n",
       "      <td>364</td>\n",
       "      <td>-0.40</td>\n",
       "      <td>1642</td>\n",
       "      <td>1</td>\n",
       "      <td>0</td>\n",
       "      <td>0</td>\n",
       "      <td>2020-01-02</td>\n",
       "      <td>False</td>\n",
       "      <td>586</td>\n",
       "      <td>GROCERY</td>\n",
       "      <td>National</td>\n",
       "      <td>COOKIES/CONES</td>\n",
       "      <td>TRAY PACK/CHOC CHIP COOKIES</td>\n",
       "      <td>18 OZ</td>\n",
       "    </tr>\n",
       "    <tr>\n",
       "      <th>8</th>\n",
       "      <td>2375</td>\n",
       "      <td>26984851516</td>\n",
       "      <td>1</td>\n",
       "      <td>1102651</td>\n",
       "      <td>1</td>\n",
       "      <td>1.89</td>\n",
       "      <td>364</td>\n",
       "      <td>0.00</td>\n",
       "      <td>1642</td>\n",
       "      <td>1</td>\n",
       "      <td>0</td>\n",
       "      <td>0</td>\n",
       "      <td>2020-01-02</td>\n",
       "      <td>False</td>\n",
       "      <td>1266</td>\n",
       "      <td>GROCERY</td>\n",
       "      <td>National</td>\n",
       "      <td>PNT BTR/JELLY/JAMS</td>\n",
       "      <td>PEANUT BUTTER</td>\n",
       "      <td>12 OZ</td>\n",
       "    </tr>\n",
       "    <tr>\n",
       "      <th>9</th>\n",
       "      <td>2375</td>\n",
       "      <td>26984851516</td>\n",
       "      <td>1</td>\n",
       "      <td>6423775</td>\n",
       "      <td>1</td>\n",
       "      <td>2.00</td>\n",
       "      <td>364</td>\n",
       "      <td>-0.79</td>\n",
       "      <td>1642</td>\n",
       "      <td>1</td>\n",
       "      <td>0</td>\n",
       "      <td>0</td>\n",
       "      <td>2020-01-02</td>\n",
       "      <td>False</td>\n",
       "      <td>586</td>\n",
       "      <td>GROCERY</td>\n",
       "      <td>National</td>\n",
       "      <td>COOKIES/CONES</td>\n",
       "      <td>GRAHAM CRACKERS</td>\n",
       "      <td>11 OZ</td>\n",
       "    </tr>\n",
       "  </tbody>\n",
       "</table>\n",
       "</div>"
      ],
      "text/plain": [
       "   HOUSEHOLD_KEY    BASKET_ID  DAY  PRODUCT_ID  QUANTITY  SALES_VALUE_x  \\\n",
       "0           2375  26984851472    1     1004906         1           1.39   \n",
       "1           2375  26984851472    1     1033142         1           0.82   \n",
       "2           2375  26984851472    1     1036325         1           0.99   \n",
       "3           2375  26984851472    1     1082185         1           1.21   \n",
       "4           2375  26984851472    1     8160430         1           1.50   \n",
       "5           2375  26984851516    1      826249         2           1.98   \n",
       "6           2375  26984851516    1     1043142         1           1.57   \n",
       "7           2375  26984851516    1     1085983         1           2.99   \n",
       "8           2375  26984851516    1     1102651         1           1.89   \n",
       "9           2375  26984851516    1     6423775         1           2.00   \n",
       "\n",
       "   STORE_ID  RETAIL_DISC  TRANS_TIME  WEEK_NO  COUPON_DISC_x  \\\n",
       "0       364        -0.60        1631        1              0   \n",
       "1       364         0.00        1631        1              0   \n",
       "2       364        -0.30        1631        1              0   \n",
       "3       364         0.00        1631        1              0   \n",
       "4       364        -0.39        1631        1              0   \n",
       "5       364        -0.60        1642        1              0   \n",
       "6       364        -0.68        1642        1              0   \n",
       "7       364        -0.40        1642        1              0   \n",
       "8       364         0.00        1642        1              0   \n",
       "9       364        -0.79        1642        1              0   \n",
       "\n",
       "   COUPON_MATCH_DISC_x       Date  Use_coupon  MANUFACTURER DEPARTMENT  \\\n",
       "0                    0 2020-01-02       False            69    PRODUCE   \n",
       "1                    0 2020-01-02       False             2    PRODUCE   \n",
       "2                    0 2020-01-02       False            69    PRODUCE   \n",
       "3                    0 2020-01-02       False             2    PRODUCE   \n",
       "4                    0 2020-01-02       False            69    PRODUCE   \n",
       "5                    0 2020-01-02       False            69    GROCERY   \n",
       "6                    0 2020-01-02       False           321    DRUG GM   \n",
       "7                    0 2020-01-02       False           586    GROCERY   \n",
       "8                    0 2020-01-02       False          1266    GROCERY   \n",
       "9                    0 2020-01-02       False           586    GROCERY   \n",
       "\n",
       "      BRAND               COMMODITY_DESC           SUB_COMMODITY_DESC  \\\n",
       "0   Private                     POTATOES   POTATOES RUSSET (BULK&BAG)   \n",
       "1  National                       ONIONS      ONIONS SWEET (BULK&BAG)   \n",
       "2   Private      VEGETABLES - ALL OTHERS                       CELERY   \n",
       "3  National               TROPICAL FRUIT                      BANANAS   \n",
       "4   Private  ORGANICS FRUIT & VEGETABLES              ORGANIC CARROTS   \n",
       "5   Private       BAKED BREAD/BUNS/ROLLS               HAMBURGER BUNS   \n",
       "6  National              BROOMS AND MOPS      SPONGES: BATH HOUSEHOLD   \n",
       "7  National                COOKIES/CONES  TRAY PACK/CHOC CHIP COOKIES   \n",
       "8  National           PNT BTR/JELLY/JAMS                PEANUT BUTTER   \n",
       "9  National                COOKIES/CONES              GRAHAM CRACKERS   \n",
       "\n",
       "  CURR_SIZE_OF_PRODUCT  \n",
       "0                 5 LB  \n",
       "1                40 LB  \n",
       "2                       \n",
       "3                40 LB  \n",
       "4                 1 LB  \n",
       "5                12 OZ  \n",
       "6                       \n",
       "7                18 OZ  \n",
       "8                12 OZ  \n",
       "9                11 OZ  "
      ]
     },
     "execution_count": 126,
     "metadata": {},
     "output_type": "execute_result"
    }
   ],
   "source": [
    "trnx_desc.head(10)"
   ]
  },
  {
   "cell_type": "markdown",
   "id": "00700642",
   "metadata": {},
   "source": [
    "### COMMODITY_Coupon "
   ]
  },
  {
   "cell_type": "code",
   "execution_count": 127,
   "id": "2fdfa02f",
   "metadata": {},
   "outputs": [],
   "source": [
    "COMMODITY_Coupon = trnx_desc.groupby('COMMODITY_DESC').aggregate(\n",
    "    total_quantity=('QUANTITY','count'),\n",
    "    Use_coupon=('Use_coupon','sum'),\n",
    "    Coupon=('COUPON_DISC_x','sum'))"
   ]
  },
  {
   "cell_type": "code",
   "execution_count": 128,
   "id": "b2863ae8",
   "metadata": {},
   "outputs": [
    {
     "data": {
      "text/html": [
       "<div>\n",
       "<style scoped>\n",
       "    .dataframe tbody tr th:only-of-type {\n",
       "        vertical-align: middle;\n",
       "    }\n",
       "\n",
       "    .dataframe tbody tr th {\n",
       "        vertical-align: top;\n",
       "    }\n",
       "\n",
       "    .dataframe thead th {\n",
       "        text-align: right;\n",
       "    }\n",
       "</style>\n",
       "<table border=\"1\" class=\"dataframe\">\n",
       "  <thead>\n",
       "    <tr style=\"text-align: right;\">\n",
       "      <th></th>\n",
       "      <th>total_quantity</th>\n",
       "      <th>Use_coupon</th>\n",
       "      <th>Coupon</th>\n",
       "    </tr>\n",
       "    <tr>\n",
       "      <th>COMMODITY_DESC</th>\n",
       "      <th></th>\n",
       "      <th></th>\n",
       "      <th></th>\n",
       "    </tr>\n",
       "  </thead>\n",
       "  <tbody>\n",
       "    <tr>\n",
       "      <th></th>\n",
       "      <td>1303</td>\n",
       "      <td>872</td>\n",
       "      <td>-1396.0</td>\n",
       "    </tr>\n",
       "    <tr>\n",
       "      <th>(CORP USE ONLY)</th>\n",
       "      <td>12</td>\n",
       "      <td>0</td>\n",
       "      <td>0.0</td>\n",
       "    </tr>\n",
       "    <tr>\n",
       "      <th>ADULT INCONTINENCE</th>\n",
       "      <td>74</td>\n",
       "      <td>3</td>\n",
       "      <td>-1.0</td>\n",
       "    </tr>\n",
       "    <tr>\n",
       "      <th>AIR CARE</th>\n",
       "      <td>928</td>\n",
       "      <td>193</td>\n",
       "      <td>-124.0</td>\n",
       "    </tr>\n",
       "    <tr>\n",
       "      <th>ANALGESICS</th>\n",
       "      <td>681</td>\n",
       "      <td>89</td>\n",
       "      <td>-3.0</td>\n",
       "    </tr>\n",
       "    <tr>\n",
       "      <th>ANTACIDS</th>\n",
       "      <td>307</td>\n",
       "      <td>36</td>\n",
       "      <td>-7.0</td>\n",
       "    </tr>\n",
       "    <tr>\n",
       "      <th>APPAREL</th>\n",
       "      <td>138</td>\n",
       "      <td>11</td>\n",
       "      <td>0.0</td>\n",
       "    </tr>\n",
       "    <tr>\n",
       "      <th>APPLES</th>\n",
       "      <td>2001</td>\n",
       "      <td>287</td>\n",
       "      <td>0.0</td>\n",
       "    </tr>\n",
       "    <tr>\n",
       "      <th>AUDIO/VIDEO PRODUCTS</th>\n",
       "      <td>149</td>\n",
       "      <td>16</td>\n",
       "      <td>-40.0</td>\n",
       "    </tr>\n",
       "    <tr>\n",
       "      <th>AUTOMOTIVE PRODUCTS</th>\n",
       "      <td>216</td>\n",
       "      <td>25</td>\n",
       "      <td>-6.0</td>\n",
       "    </tr>\n",
       "  </tbody>\n",
       "</table>\n",
       "</div>"
      ],
      "text/plain": [
       "                      total_quantity  Use_coupon  Coupon\n",
       "COMMODITY_DESC                                          \n",
       "                                1303         872 -1396.0\n",
       "(CORP USE ONLY)                   12           0     0.0\n",
       "ADULT INCONTINENCE                74           3    -1.0\n",
       "AIR CARE                         928         193  -124.0\n",
       "ANALGESICS                       681          89    -3.0\n",
       "ANTACIDS                         307          36    -7.0\n",
       "APPAREL                          138          11     0.0\n",
       "APPLES                          2001         287     0.0\n",
       "AUDIO/VIDEO PRODUCTS             149          16   -40.0\n",
       "AUTOMOTIVE PRODUCTS              216          25    -6.0"
      ]
     },
     "execution_count": 128,
     "metadata": {},
     "output_type": "execute_result"
    }
   ],
   "source": [
    "COMMODITY_Coupon.head(10)"
   ]
  },
  {
   "cell_type": "code",
   "execution_count": 129,
   "id": "ae4c160e",
   "metadata": {},
   "outputs": [],
   "source": [
    "COMMODITY_Coupon['Coupon%']=round((COMMODITY_Coupon['Use_coupon']/COMMODITY_Coupon['total_quantity'])*100,2)"
   ]
  },
  {
   "cell_type": "code",
   "execution_count": 130,
   "id": "16bfd4fc",
   "metadata": {},
   "outputs": [
    {
     "data": {
      "text/html": [
       "<div>\n",
       "<style scoped>\n",
       "    .dataframe tbody tr th:only-of-type {\n",
       "        vertical-align: middle;\n",
       "    }\n",
       "\n",
       "    .dataframe tbody tr th {\n",
       "        vertical-align: top;\n",
       "    }\n",
       "\n",
       "    .dataframe thead th {\n",
       "        text-align: right;\n",
       "    }\n",
       "</style>\n",
       "<table border=\"1\" class=\"dataframe\">\n",
       "  <thead>\n",
       "    <tr style=\"text-align: right;\">\n",
       "      <th></th>\n",
       "      <th>total_quantity</th>\n",
       "      <th>Use_coupon</th>\n",
       "      <th>Coupon</th>\n",
       "      <th>Coupon%</th>\n",
       "    </tr>\n",
       "    <tr>\n",
       "      <th>COMMODITY_DESC</th>\n",
       "      <th></th>\n",
       "      <th></th>\n",
       "      <th></th>\n",
       "      <th></th>\n",
       "    </tr>\n",
       "  </thead>\n",
       "  <tbody>\n",
       "    <tr>\n",
       "      <th>NATURAL VITAMINS</th>\n",
       "      <td>1</td>\n",
       "      <td>1</td>\n",
       "      <td>-5.0</td>\n",
       "      <td>100.00</td>\n",
       "    </tr>\n",
       "    <tr>\n",
       "      <th></th>\n",
       "      <td>1303</td>\n",
       "      <td>872</td>\n",
       "      <td>-1396.0</td>\n",
       "      <td>66.92</td>\n",
       "    </tr>\n",
       "    <tr>\n",
       "      <th>VALENTINE</th>\n",
       "      <td>5</td>\n",
       "      <td>2</td>\n",
       "      <td>0.0</td>\n",
       "      <td>40.00</td>\n",
       "    </tr>\n",
       "    <tr>\n",
       "      <th>BABY FOODS</th>\n",
       "      <td>3664</td>\n",
       "      <td>1114</td>\n",
       "      <td>-38.0</td>\n",
       "      <td>30.40</td>\n",
       "    </tr>\n",
       "    <tr>\n",
       "      <th>RW FRESH PROCESSED MEAT</th>\n",
       "      <td>7</td>\n",
       "      <td>2</td>\n",
       "      <td>0.0</td>\n",
       "      <td>28.57</td>\n",
       "    </tr>\n",
       "    <tr>\n",
       "      <th>DIAPERS &amp; DISPOSABLES</th>\n",
       "      <td>864</td>\n",
       "      <td>231</td>\n",
       "      <td>-215.0</td>\n",
       "      <td>26.74</td>\n",
       "    </tr>\n",
       "    <tr>\n",
       "      <th>BABY HBC</th>\n",
       "      <td>817</td>\n",
       "      <td>181</td>\n",
       "      <td>-82.0</td>\n",
       "      <td>22.15</td>\n",
       "    </tr>\n",
       "    <tr>\n",
       "      <th>AIR CARE</th>\n",
       "      <td>928</td>\n",
       "      <td>193</td>\n",
       "      <td>-124.0</td>\n",
       "      <td>20.80</td>\n",
       "    </tr>\n",
       "    <tr>\n",
       "      <th>FRZN BREAKFAST FOODS</th>\n",
       "      <td>1743</td>\n",
       "      <td>347</td>\n",
       "      <td>-61.0</td>\n",
       "      <td>19.91</td>\n",
       "    </tr>\n",
       "    <tr>\n",
       "      <th>CAT LITTER</th>\n",
       "      <td>531</td>\n",
       "      <td>104</td>\n",
       "      <td>-11.0</td>\n",
       "      <td>19.59</td>\n",
       "    </tr>\n",
       "    <tr>\n",
       "      <th>FACIAL TISS/DNR NAPKIN</th>\n",
       "      <td>1237</td>\n",
       "      <td>242</td>\n",
       "      <td>-29.0</td>\n",
       "      <td>19.56</td>\n",
       "    </tr>\n",
       "    <tr>\n",
       "      <th>GLASSWARE &amp; DINNERWARE</th>\n",
       "      <td>36</td>\n",
       "      <td>7</td>\n",
       "      <td>0.0</td>\n",
       "      <td>19.44</td>\n",
       "    </tr>\n",
       "    <tr>\n",
       "      <th>LAUNDRY ADDITIVES</th>\n",
       "      <td>921</td>\n",
       "      <td>176</td>\n",
       "      <td>-25.0</td>\n",
       "      <td>19.11</td>\n",
       "    </tr>\n",
       "    <tr>\n",
       "      <th>FRUIT - SHELF STABLE</th>\n",
       "      <td>3267</td>\n",
       "      <td>611</td>\n",
       "      <td>-19.0</td>\n",
       "      <td>18.70</td>\n",
       "    </tr>\n",
       "    <tr>\n",
       "      <th>VITAMINS</th>\n",
       "      <td>334</td>\n",
       "      <td>61</td>\n",
       "      <td>-18.0</td>\n",
       "      <td>18.26</td>\n",
       "    </tr>\n",
       "    <tr>\n",
       "      <th>HOUSEHOLD CLEANG NEEDS</th>\n",
       "      <td>1962</td>\n",
       "      <td>355</td>\n",
       "      <td>-96.0</td>\n",
       "      <td>18.09</td>\n",
       "    </tr>\n",
       "    <tr>\n",
       "      <th>FD WRAPS/BAGS/TRSH BG</th>\n",
       "      <td>2358</td>\n",
       "      <td>416</td>\n",
       "      <td>-48.0</td>\n",
       "      <td>17.64</td>\n",
       "    </tr>\n",
       "    <tr>\n",
       "      <th>ORAL HYGIENE PRODUCTS</th>\n",
       "      <td>1715</td>\n",
       "      <td>302</td>\n",
       "      <td>-104.0</td>\n",
       "      <td>17.61</td>\n",
       "    </tr>\n",
       "    <tr>\n",
       "      <th>FROZEN - BOXED(GROCERY)</th>\n",
       "      <td>127</td>\n",
       "      <td>22</td>\n",
       "      <td>-14.0</td>\n",
       "      <td>17.32</td>\n",
       "    </tr>\n",
       "    <tr>\n",
       "      <th>FROZEN BREAD/DOUGH</th>\n",
       "      <td>1241</td>\n",
       "      <td>214</td>\n",
       "      <td>-62.0</td>\n",
       "      <td>17.24</td>\n",
       "    </tr>\n",
       "    <tr>\n",
       "      <th>DISHWASH DETERGENTS</th>\n",
       "      <td>1198</td>\n",
       "      <td>206</td>\n",
       "      <td>-43.0</td>\n",
       "      <td>17.20</td>\n",
       "    </tr>\n",
       "    <tr>\n",
       "      <th>PICKLE/RELISH/PKLD VEG</th>\n",
       "      <td>1350</td>\n",
       "      <td>232</td>\n",
       "      <td>-69.0</td>\n",
       "      <td>17.19</td>\n",
       "    </tr>\n",
       "    <tr>\n",
       "      <th>HAIR CARE PRODUCTS</th>\n",
       "      <td>2119</td>\n",
       "      <td>363</td>\n",
       "      <td>-79.0</td>\n",
       "      <td>17.13</td>\n",
       "    </tr>\n",
       "    <tr>\n",
       "      <th>DOG FOODS</th>\n",
       "      <td>1923</td>\n",
       "      <td>326</td>\n",
       "      <td>-64.0</td>\n",
       "      <td>16.95</td>\n",
       "    </tr>\n",
       "    <tr>\n",
       "      <th>TEAS</th>\n",
       "      <td>730</td>\n",
       "      <td>123</td>\n",
       "      <td>-19.0</td>\n",
       "      <td>16.85</td>\n",
       "    </tr>\n",
       "    <tr>\n",
       "      <th>RICE CAKES</th>\n",
       "      <td>250</td>\n",
       "      <td>42</td>\n",
       "      <td>0.0</td>\n",
       "      <td>16.80</td>\n",
       "    </tr>\n",
       "    <tr>\n",
       "      <th>CEREAL/BREAKFAST</th>\n",
       "      <td>304</td>\n",
       "      <td>51</td>\n",
       "      <td>-10.0</td>\n",
       "      <td>16.78</td>\n",
       "    </tr>\n",
       "    <tr>\n",
       "      <th>PAPER TOWELS</th>\n",
       "      <td>1775</td>\n",
       "      <td>296</td>\n",
       "      <td>-18.0</td>\n",
       "      <td>16.68</td>\n",
       "    </tr>\n",
       "    <tr>\n",
       "      <th>BATH TISSUES</th>\n",
       "      <td>2410</td>\n",
       "      <td>397</td>\n",
       "      <td>-125.0</td>\n",
       "      <td>16.47</td>\n",
       "    </tr>\n",
       "    <tr>\n",
       "      <th>CONVENIENT BRKFST/WHLSM SNACKS</th>\n",
       "      <td>3878</td>\n",
       "      <td>638</td>\n",
       "      <td>-90.0</td>\n",
       "      <td>16.45</td>\n",
       "    </tr>\n",
       "  </tbody>\n",
       "</table>\n",
       "</div>"
      ],
      "text/plain": [
       "                                total_quantity  Use_coupon  Coupon  Coupon%\n",
       "COMMODITY_DESC                                                             \n",
       "NATURAL VITAMINS                             1           1    -5.0   100.00\n",
       "                                          1303         872 -1396.0    66.92\n",
       "VALENTINE                                    5           2     0.0    40.00\n",
       "BABY FOODS                                3664        1114   -38.0    30.40\n",
       "RW FRESH PROCESSED MEAT                      7           2     0.0    28.57\n",
       "DIAPERS & DISPOSABLES                      864         231  -215.0    26.74\n",
       "BABY HBC                                   817         181   -82.0    22.15\n",
       "AIR CARE                                   928         193  -124.0    20.80\n",
       "FRZN BREAKFAST FOODS                      1743         347   -61.0    19.91\n",
       "CAT LITTER                                 531         104   -11.0    19.59\n",
       "FACIAL TISS/DNR NAPKIN                    1237         242   -29.0    19.56\n",
       "GLASSWARE & DINNERWARE                      36           7     0.0    19.44\n",
       "LAUNDRY ADDITIVES                          921         176   -25.0    19.11\n",
       "FRUIT - SHELF STABLE                      3267         611   -19.0    18.70\n",
       "VITAMINS                                   334          61   -18.0    18.26\n",
       "HOUSEHOLD CLEANG NEEDS                    1962         355   -96.0    18.09\n",
       "FD WRAPS/BAGS/TRSH BG                     2358         416   -48.0    17.64\n",
       "ORAL HYGIENE PRODUCTS                     1715         302  -104.0    17.61\n",
       "FROZEN - BOXED(GROCERY)                    127          22   -14.0    17.32\n",
       "FROZEN BREAD/DOUGH                        1241         214   -62.0    17.24\n",
       "DISHWASH DETERGENTS                       1198         206   -43.0    17.20\n",
       "PICKLE/RELISH/PKLD VEG                    1350         232   -69.0    17.19\n",
       "HAIR CARE PRODUCTS                        2119         363   -79.0    17.13\n",
       "DOG FOODS                                 1923         326   -64.0    16.95\n",
       "TEAS                                       730         123   -19.0    16.85\n",
       "RICE CAKES                                 250          42     0.0    16.80\n",
       "CEREAL/BREAKFAST                           304          51   -10.0    16.78\n",
       "PAPER TOWELS                              1775         296   -18.0    16.68\n",
       "BATH TISSUES                              2410         397  -125.0    16.47\n",
       "CONVENIENT BRKFST/WHLSM SNACKS            3878         638   -90.0    16.45"
      ]
     },
     "execution_count": 130,
     "metadata": {},
     "output_type": "execute_result"
    }
   ],
   "source": [
    "COMMODITY_Coupon.sort_values('Coupon%',ascending=False).head(30)"
   ]
  },
  {
   "cell_type": "markdown",
   "id": "03ca8edf",
   "metadata": {},
   "source": [
    "**While haircare and makeup products are the most prominent products for which coupons are created, coupons are predominantly used on drinks, cigarettes, diapers, and other items. Interestingly, bathroom products do not even rank among the top 10 products frequently redeemed with coupons.**"
   ]
  },
  {
   "cell_type": "markdown",
   "id": "f041f204",
   "metadata": {},
   "source": [
    "### TRANSACTION_RAW "
   ]
  },
  {
   "cell_type": "code",
   "execution_count": 131,
   "id": "0a1235c4",
   "metadata": {},
   "outputs": [
    {
     "data": {
      "text/html": [
       "<div>\n",
       "<style scoped>\n",
       "    .dataframe tbody tr th:only-of-type {\n",
       "        vertical-align: middle;\n",
       "    }\n",
       "\n",
       "    .dataframe tbody tr th {\n",
       "        vertical-align: top;\n",
       "    }\n",
       "\n",
       "    .dataframe thead th {\n",
       "        text-align: right;\n",
       "    }\n",
       "</style>\n",
       "<table border=\"1\" class=\"dataframe\">\n",
       "  <thead>\n",
       "    <tr style=\"text-align: right;\">\n",
       "      <th></th>\n",
       "      <th></th>\n",
       "      <th></th>\n",
       "      <th>SALES_VALUE</th>\n",
       "      <th>RETAIL_DISC</th>\n",
       "      <th>COUPON_DISC</th>\n",
       "      <th>COUPON_MATCH_DISC</th>\n",
       "    </tr>\n",
       "    <tr>\n",
       "      <th>HOUSEHOLD_KEY</th>\n",
       "      <th>WEEK_NO</th>\n",
       "      <th>DAY</th>\n",
       "      <th></th>\n",
       "      <th></th>\n",
       "      <th></th>\n",
       "      <th></th>\n",
       "    </tr>\n",
       "  </thead>\n",
       "  <tbody>\n",
       "    <tr>\n",
       "      <th rowspan=\"5\" valign=\"top\">1</th>\n",
       "      <th>8</th>\n",
       "      <th>51</th>\n",
       "      <td>78.66</td>\n",
       "      <td>-16.54</td>\n",
       "      <td>-1</td>\n",
       "      <td>0</td>\n",
       "    </tr>\n",
       "    <tr>\n",
       "      <th>10</th>\n",
       "      <th>67</th>\n",
       "      <td>41.10</td>\n",
       "      <td>-8.59</td>\n",
       "      <td>0</td>\n",
       "      <td>0</td>\n",
       "    </tr>\n",
       "    <tr>\n",
       "      <th>13</th>\n",
       "      <th>88</th>\n",
       "      <td>26.90</td>\n",
       "      <td>-6.72</td>\n",
       "      <td>0</td>\n",
       "      <td>0</td>\n",
       "    </tr>\n",
       "    <tr>\n",
       "      <th>14</th>\n",
       "      <th>94</th>\n",
       "      <td>63.43</td>\n",
       "      <td>-11.08</td>\n",
       "      <td>-2</td>\n",
       "      <td>-1</td>\n",
       "    </tr>\n",
       "    <tr>\n",
       "      <th>15</th>\n",
       "      <th>101</th>\n",
       "      <td>53.45</td>\n",
       "      <td>-16.42</td>\n",
       "      <td>0</td>\n",
       "      <td>0</td>\n",
       "    </tr>\n",
       "    <tr>\n",
       "      <th>...</th>\n",
       "      <th>...</th>\n",
       "      <th>...</th>\n",
       "      <td>...</td>\n",
       "      <td>...</td>\n",
       "      <td>...</td>\n",
       "      <td>...</td>\n",
       "    </tr>\n",
       "    <tr>\n",
       "      <th rowspan=\"5\" valign=\"top\">2500</th>\n",
       "      <th>21</th>\n",
       "      <th>145</th>\n",
       "      <td>50.23</td>\n",
       "      <td>-2.02</td>\n",
       "      <td>-3</td>\n",
       "      <td>0</td>\n",
       "    </tr>\n",
       "    <tr>\n",
       "      <th>22</th>\n",
       "      <th>150</th>\n",
       "      <td>55.03</td>\n",
       "      <td>-2.17</td>\n",
       "      <td>0</td>\n",
       "      <td>0</td>\n",
       "    </tr>\n",
       "    <tr>\n",
       "      <th rowspan=\"3\" valign=\"top\">26</th>\n",
       "      <th>174</th>\n",
       "      <td>110.30</td>\n",
       "      <td>-49.05</td>\n",
       "      <td>-1</td>\n",
       "      <td>0</td>\n",
       "    </tr>\n",
       "    <tr>\n",
       "      <th>175</th>\n",
       "      <td>10.59</td>\n",
       "      <td>0.00</td>\n",
       "      <td>-2</td>\n",
       "      <td>0</td>\n",
       "    </tr>\n",
       "    <tr>\n",
       "      <th>176</th>\n",
       "      <td>20.26</td>\n",
       "      <td>-2.51</td>\n",
       "      <td>0</td>\n",
       "      <td>0</td>\n",
       "    </tr>\n",
       "  </tbody>\n",
       "</table>\n",
       "<p>40506 rows × 4 columns</p>\n",
       "</div>"
      ],
      "text/plain": [
       "                           SALES_VALUE  RETAIL_DISC  COUPON_DISC  \\\n",
       "HOUSEHOLD_KEY WEEK_NO DAY                                          \n",
       "1             8       51         78.66       -16.54           -1   \n",
       "              10      67         41.10        -8.59            0   \n",
       "              13      88         26.90        -6.72            0   \n",
       "              14      94         63.43       -11.08           -2   \n",
       "              15      101        53.45       -16.42            0   \n",
       "...                                ...          ...          ...   \n",
       "2500          21      145        50.23        -2.02           -3   \n",
       "              22      150        55.03        -2.17            0   \n",
       "              26      174       110.30       -49.05           -1   \n",
       "                      175        10.59         0.00           -2   \n",
       "                      176        20.26        -2.51            0   \n",
       "\n",
       "                           COUPON_MATCH_DISC  \n",
       "HOUSEHOLD_KEY WEEK_NO DAY                     \n",
       "1             8       51                   0  \n",
       "              10      67                   0  \n",
       "              13      88                   0  \n",
       "              14      94                  -1  \n",
       "              15      101                  0  \n",
       "...                                      ...  \n",
       "2500          21      145                  0  \n",
       "              22      150                  0  \n",
       "              26      174                  0  \n",
       "                      175                  0  \n",
       "                      176                  0  \n",
       "\n",
       "[40506 rows x 4 columns]"
      ]
     },
     "execution_count": 131,
     "metadata": {},
     "output_type": "execute_result"
    }
   ],
   "source": [
    "TRANSACTION_RAW.groupby(['HOUSEHOLD_KEY','WEEK_NO','DAY']).aggregate({'SALES_VALUE':'sum','RETAIL_DISC':'sum',\n",
    "'COUPON_DISC' :'sum','COUPON_MATCH_DISC':'sum'})"
   ]
  },
  {
   "cell_type": "code",
   "execution_count": 132,
   "id": "4d704096",
   "metadata": {},
   "outputs": [
    {
     "data": {
      "text/html": [
       "<div>\n",
       "<style scoped>\n",
       "    .dataframe tbody tr th:only-of-type {\n",
       "        vertical-align: middle;\n",
       "    }\n",
       "\n",
       "    .dataframe tbody tr th {\n",
       "        vertical-align: top;\n",
       "    }\n",
       "\n",
       "    .dataframe thead th {\n",
       "        text-align: right;\n",
       "    }\n",
       "</style>\n",
       "<table border=\"1\" class=\"dataframe\">\n",
       "  <thead>\n",
       "    <tr style=\"text-align: right;\">\n",
       "      <th></th>\n",
       "      <th>HOUSEHOLD_KEY</th>\n",
       "      <th>BASKET_ID</th>\n",
       "      <th>DAY</th>\n",
       "      <th>PRODUCT_ID</th>\n",
       "      <th>QUANTITY</th>\n",
       "      <th>SALES_VALUE</th>\n",
       "      <th>STORE_ID</th>\n",
       "      <th>RETAIL_DISC</th>\n",
       "      <th>TRANS_TIME</th>\n",
       "      <th>WEEK_NO</th>\n",
       "      <th>COUPON_DISC</th>\n",
       "      <th>COUPON_MATCH_DISC</th>\n",
       "      <th>Date</th>\n",
       "    </tr>\n",
       "  </thead>\n",
       "  <tbody>\n",
       "    <tr>\n",
       "      <th>0</th>\n",
       "      <td>2375</td>\n",
       "      <td>26984851472</td>\n",
       "      <td>1</td>\n",
       "      <td>1004906</td>\n",
       "      <td>1</td>\n",
       "      <td>1.39</td>\n",
       "      <td>364</td>\n",
       "      <td>-0.60</td>\n",
       "      <td>1631</td>\n",
       "      <td>1</td>\n",
       "      <td>0</td>\n",
       "      <td>0</td>\n",
       "      <td>2020-01-02</td>\n",
       "    </tr>\n",
       "    <tr>\n",
       "      <th>1</th>\n",
       "      <td>2375</td>\n",
       "      <td>26984851472</td>\n",
       "      <td>1</td>\n",
       "      <td>1033142</td>\n",
       "      <td>1</td>\n",
       "      <td>0.82</td>\n",
       "      <td>364</td>\n",
       "      <td>0.00</td>\n",
       "      <td>1631</td>\n",
       "      <td>1</td>\n",
       "      <td>0</td>\n",
       "      <td>0</td>\n",
       "      <td>2020-01-02</td>\n",
       "    </tr>\n",
       "    <tr>\n",
       "      <th>2</th>\n",
       "      <td>2375</td>\n",
       "      <td>26984851472</td>\n",
       "      <td>1</td>\n",
       "      <td>1036325</td>\n",
       "      <td>1</td>\n",
       "      <td>0.99</td>\n",
       "      <td>364</td>\n",
       "      <td>-0.30</td>\n",
       "      <td>1631</td>\n",
       "      <td>1</td>\n",
       "      <td>0</td>\n",
       "      <td>0</td>\n",
       "      <td>2020-01-02</td>\n",
       "    </tr>\n",
       "    <tr>\n",
       "      <th>3</th>\n",
       "      <td>2375</td>\n",
       "      <td>26984851472</td>\n",
       "      <td>1</td>\n",
       "      <td>1082185</td>\n",
       "      <td>1</td>\n",
       "      <td>1.21</td>\n",
       "      <td>364</td>\n",
       "      <td>0.00</td>\n",
       "      <td>1631</td>\n",
       "      <td>1</td>\n",
       "      <td>0</td>\n",
       "      <td>0</td>\n",
       "      <td>2020-01-02</td>\n",
       "    </tr>\n",
       "    <tr>\n",
       "      <th>4</th>\n",
       "      <td>2375</td>\n",
       "      <td>26984851472</td>\n",
       "      <td>1</td>\n",
       "      <td>8160430</td>\n",
       "      <td>1</td>\n",
       "      <td>1.50</td>\n",
       "      <td>364</td>\n",
       "      <td>-0.39</td>\n",
       "      <td>1631</td>\n",
       "      <td>1</td>\n",
       "      <td>0</td>\n",
       "      <td>0</td>\n",
       "      <td>2020-01-02</td>\n",
       "    </tr>\n",
       "  </tbody>\n",
       "</table>\n",
       "</div>"
      ],
      "text/plain": [
       "   HOUSEHOLD_KEY    BASKET_ID  DAY  PRODUCT_ID  QUANTITY  SALES_VALUE  \\\n",
       "0           2375  26984851472    1     1004906         1         1.39   \n",
       "1           2375  26984851472    1     1033142         1         0.82   \n",
       "2           2375  26984851472    1     1036325         1         0.99   \n",
       "3           2375  26984851472    1     1082185         1         1.21   \n",
       "4           2375  26984851472    1     8160430         1         1.50   \n",
       "\n",
       "   STORE_ID  RETAIL_DISC  TRANS_TIME  WEEK_NO  COUPON_DISC  COUPON_MATCH_DISC  \\\n",
       "0       364        -0.60        1631        1            0                  0   \n",
       "1       364         0.00        1631        1            0                  0   \n",
       "2       364        -0.30        1631        1            0                  0   \n",
       "3       364         0.00        1631        1            0                  0   \n",
       "4       364        -0.39        1631        1            0                  0   \n",
       "\n",
       "        Date  \n",
       "0 2020-01-02  \n",
       "1 2020-01-02  \n",
       "2 2020-01-02  \n",
       "3 2020-01-02  \n",
       "4 2020-01-02  "
      ]
     },
     "execution_count": 132,
     "metadata": {},
     "output_type": "execute_result"
    }
   ],
   "source": [
    "TRANSACTION_RAW.head()"
   ]
  },
  {
   "cell_type": "code",
   "execution_count": 133,
   "id": "f4660e0b",
   "metadata": {},
   "outputs": [
    {
     "data": {
      "text/html": [
       "<div>\n",
       "<style scoped>\n",
       "    .dataframe tbody tr th:only-of-type {\n",
       "        vertical-align: middle;\n",
       "    }\n",
       "\n",
       "    .dataframe tbody tr th {\n",
       "        vertical-align: top;\n",
       "    }\n",
       "\n",
       "    .dataframe thead th {\n",
       "        text-align: right;\n",
       "    }\n",
       "</style>\n",
       "<table border=\"1\" class=\"dataframe\">\n",
       "  <thead>\n",
       "    <tr style=\"text-align: right;\">\n",
       "      <th></th>\n",
       "      <th>SALES_VALUE</th>\n",
       "      <th>RETAIL_DISC</th>\n",
       "      <th>COUPON_DISC</th>\n",
       "    </tr>\n",
       "    <tr>\n",
       "      <th>Date</th>\n",
       "      <th></th>\n",
       "      <th></th>\n",
       "      <th></th>\n",
       "    </tr>\n",
       "  </thead>\n",
       "  <tbody>\n",
       "    <tr>\n",
       "      <th>2020</th>\n",
       "      <td>1359551.73</td>\n",
       "      <td>-248978.11</td>\n",
       "      <td>-6693.0</td>\n",
       "    </tr>\n",
       "  </tbody>\n",
       "</table>\n",
       "</div>"
      ],
      "text/plain": [
       "      SALES_VALUE  RETAIL_DISC  COUPON_DISC\n",
       "Date                                       \n",
       "2020   1359551.73   -248978.11      -6693.0"
      ]
     },
     "execution_count": 133,
     "metadata": {},
     "output_type": "execute_result"
    }
   ],
   "source": [
    "TRANSACTION_RAW.groupby(TRANSACTION_RAW['Date'].dt.year).aggregate({'SALES_VALUE':'sum','RETAIL_DISC':'sum',\n",
    "'COUPON_DISC':'sum'})"
   ]
  },
  {
   "cell_type": "markdown",
   "id": "56ab1fcf",
   "metadata": {},
   "source": [
    "**Sales Value increases when Retail Discount and Coupon Discount increases**"
   ]
  },
  {
   "cell_type": "markdown",
   "id": "facafd66",
   "metadata": {},
   "source": [
    "# Droping the columns"
   ]
  },
  {
   "cell_type": "code",
   "execution_count": 134,
   "id": "0ee527d9",
   "metadata": {},
   "outputs": [],
   "source": [
    "from datetime import datetime"
   ]
  },
  {
   "cell_type": "code",
   "execution_count": 135,
   "id": "f6651092",
   "metadata": {},
   "outputs": [],
   "source": [
    "CAMPAIGN_DESC_RAW.drop(['START_DAY','END_DAY'],axis=1,inplace=True)"
   ]
  },
  {
   "cell_type": "code",
   "execution_count": 136,
   "id": "c529e616",
   "metadata": {},
   "outputs": [
    {
     "data": {
      "text/html": [
       "<div>\n",
       "<style scoped>\n",
       "    .dataframe tbody tr th:only-of-type {\n",
       "        vertical-align: middle;\n",
       "    }\n",
       "\n",
       "    .dataframe tbody tr th {\n",
       "        vertical-align: top;\n",
       "    }\n",
       "\n",
       "    .dataframe thead th {\n",
       "        text-align: right;\n",
       "    }\n",
       "</style>\n",
       "<table border=\"1\" class=\"dataframe\">\n",
       "  <thead>\n",
       "    <tr style=\"text-align: right;\">\n",
       "      <th></th>\n",
       "      <th>DESCRIPTION</th>\n",
       "      <th>CAMPAIGN</th>\n",
       "      <th>Start_date</th>\n",
       "      <th>End_date</th>\n",
       "      <th>Campaign_Duration</th>\n",
       "      <th>durations_days</th>\n",
       "      <th>Start_month</th>\n",
       "      <th>End_month</th>\n",
       "      <th>Start_Year</th>\n",
       "      <th>End_Year</th>\n",
       "    </tr>\n",
       "  </thead>\n",
       "  <tbody>\n",
       "    <tr>\n",
       "      <th>0</th>\n",
       "      <td>TypeB</td>\n",
       "      <td>24</td>\n",
       "      <td>2021-10-21</td>\n",
       "      <td>2021-12-20</td>\n",
       "      <td>60</td>\n",
       "      <td>60 days</td>\n",
       "      <td>10</td>\n",
       "      <td>12</td>\n",
       "      <td>2021</td>\n",
       "      <td>2021</td>\n",
       "    </tr>\n",
       "    <tr>\n",
       "      <th>1</th>\n",
       "      <td>TypeC</td>\n",
       "      <td>15</td>\n",
       "      <td>2021-07-01</td>\n",
       "      <td>2021-12-09</td>\n",
       "      <td>161</td>\n",
       "      <td>161 days</td>\n",
       "      <td>07</td>\n",
       "      <td>12</td>\n",
       "      <td>2021</td>\n",
       "      <td>2021</td>\n",
       "    </tr>\n",
       "    <tr>\n",
       "      <th>2</th>\n",
       "      <td>TypeB</td>\n",
       "      <td>25</td>\n",
       "      <td>2021-10-21</td>\n",
       "      <td>2021-11-22</td>\n",
       "      <td>32</td>\n",
       "      <td>32 days</td>\n",
       "      <td>10</td>\n",
       "      <td>11</td>\n",
       "      <td>2021</td>\n",
       "      <td>2021</td>\n",
       "    </tr>\n",
       "  </tbody>\n",
       "</table>\n",
       "</div>"
      ],
      "text/plain": [
       "  DESCRIPTION  CAMPAIGN Start_date   End_date  Campaign_Duration  \\\n",
       "0       TypeB        24 2021-10-21 2021-12-20                 60   \n",
       "1       TypeC        15 2021-07-01 2021-12-09                161   \n",
       "2       TypeB        25 2021-10-21 2021-11-22                 32   \n",
       "\n",
       "  durations_days Start_month End_month Start_Year End_Year  \n",
       "0        60 days          10        12       2021     2021  \n",
       "1       161 days          07        12       2021     2021  \n",
       "2        32 days          10        11       2021     2021  "
      ]
     },
     "execution_count": 136,
     "metadata": {},
     "output_type": "execute_result"
    }
   ],
   "source": [
    "CAMPAIGN_DESC_RAW.head(3)"
   ]
  },
  {
   "cell_type": "code",
   "execution_count": 137,
   "id": "2878e20a",
   "metadata": {},
   "outputs": [],
   "source": [
    "CAMPAIGN_DESC_RAW['Start_date'] = pd.to_datetime(CAMPAIGN_DESC_RAW['Start_date']).apply(lambda x: x.date())"
   ]
  },
  {
   "cell_type": "code",
   "execution_count": 138,
   "id": "3f76873d",
   "metadata": {},
   "outputs": [
    {
     "data": {
      "text/plain": [
       "pandas.core.series.Series"
      ]
     },
     "execution_count": 138,
     "metadata": {},
     "output_type": "execute_result"
    }
   ],
   "source": [
    "type(CAMPAIGN_DESC_RAW['Start_date'])"
   ]
  },
  {
   "cell_type": "code",
   "execution_count": 139,
   "id": "64936f30",
   "metadata": {},
   "outputs": [
    {
     "data": {
      "text/plain": [
       "0     2021-10-21\n",
       "1     2021-07-01\n",
       "2     2021-10-21\n",
       "3     2021-09-07\n",
       "4     2021-10-08\n",
       "5     2021-09-16\n",
       "6     2021-09-16\n",
       "7     2021-08-10\n",
       "8     2021-08-26\n",
       "9     2021-07-29\n",
       "10    2021-06-15\n",
       "11    2021-07-15\n",
       "12    2021-05-19\n",
       "13    2021-04-22\n",
       "14    2021-04-22\n",
       "15    2021-04-08\n",
       "16    2021-03-11\n",
       "17    2021-02-16\n",
       "18    2021-02-02\n",
       "19    2021-01-28\n",
       "20    2020-12-22\n",
       "21    2021-01-12\n",
       "22    2021-01-07\n",
       "23    2020-12-12\n",
       "24    2020-12-17\n",
       "25    2020-11-19\n",
       "26    2020-10-08\n",
       "27    2020-09-16\n",
       "28    2020-08-25\n",
       "29    2020-08-12\n",
       "Name: Start_date, dtype: object"
      ]
     },
     "execution_count": 139,
     "metadata": {},
     "output_type": "execute_result"
    }
   ],
   "source": [
    "CAMPAIGN_DESC_RAW['Start_date'] "
   ]
  },
  {
   "cell_type": "code",
   "execution_count": 140,
   "id": "4e5cae8e",
   "metadata": {},
   "outputs": [],
   "source": [
    "CAMPAIGN_DESC_RAW['End_date'] = pd.to_datetime(CAMPAIGN_DESC_RAW['End_date']).apply(lambda x: x.date())"
   ]
  },
  {
   "cell_type": "code",
   "execution_count": 141,
   "id": "78fd4126",
   "metadata": {},
   "outputs": [
    {
     "data": {
      "text/plain": [
       "pandas.core.series.Series"
      ]
     },
     "execution_count": 141,
     "metadata": {},
     "output_type": "execute_result"
    }
   ],
   "source": [
    "type(CAMPAIGN_DESC_RAW['End_date'])"
   ]
  },
  {
   "cell_type": "code",
   "execution_count": 142,
   "id": "c8d65fcc",
   "metadata": {},
   "outputs": [
    {
     "data": {
      "text/plain": [
       "DESCRIPTION                   object\n",
       "CAMPAIGN                        int8\n",
       "Start_date                    object\n",
       "End_date                      object\n",
       "Campaign_Duration              int16\n",
       "durations_days       timedelta64[ns]\n",
       "Start_month                   object\n",
       "End_month                     object\n",
       "Start_Year                    object\n",
       "End_Year                      object\n",
       "dtype: object"
      ]
     },
     "execution_count": 142,
     "metadata": {},
     "output_type": "execute_result"
    }
   ],
   "source": [
    "CAMPAIGN_DESC_RAW.dtypes"
   ]
  },
  {
   "cell_type": "code",
   "execution_count": 166,
   "id": "8798ae61",
   "metadata": {},
   "outputs": [],
   "source": [
    "CAMPAIGN_DESC_RAW = CAMPAIGN_DESC_RAW.drop('durations_days', axis=1)"
   ]
  },
  {
   "cell_type": "code",
   "execution_count": 143,
   "id": "8dd24e18",
   "metadata": {},
   "outputs": [],
   "source": [
    "COUPON_REDEMPT_RAW.drop(['DAY'],axis=1,inplace=True)"
   ]
  },
  {
   "cell_type": "code",
   "execution_count": 144,
   "id": "d8dca8c3",
   "metadata": {},
   "outputs": [
    {
     "data": {
      "text/html": [
       "<div>\n",
       "<style scoped>\n",
       "    .dataframe tbody tr th:only-of-type {\n",
       "        vertical-align: middle;\n",
       "    }\n",
       "\n",
       "    .dataframe tbody tr th {\n",
       "        vertical-align: top;\n",
       "    }\n",
       "\n",
       "    .dataframe thead th {\n",
       "        text-align: right;\n",
       "    }\n",
       "</style>\n",
       "<table border=\"1\" class=\"dataframe\">\n",
       "  <thead>\n",
       "    <tr style=\"text-align: right;\">\n",
       "      <th></th>\n",
       "      <th>HOUSEHOLD_KEY</th>\n",
       "      <th>COUPON_UPC</th>\n",
       "      <th>CAMPAIGN</th>\n",
       "      <th>Date</th>\n",
       "    </tr>\n",
       "  </thead>\n",
       "  <tbody>\n",
       "    <tr>\n",
       "      <th>0</th>\n",
       "      <td>1</td>\n",
       "      <td>10000085364</td>\n",
       "      <td>8</td>\n",
       "      <td>2021-02-25</td>\n",
       "    </tr>\n",
       "    <tr>\n",
       "      <th>1</th>\n",
       "      <td>1</td>\n",
       "      <td>51700010076</td>\n",
       "      <td>8</td>\n",
       "      <td>2021-02-25</td>\n",
       "    </tr>\n",
       "    <tr>\n",
       "      <th>2</th>\n",
       "      <td>1</td>\n",
       "      <td>54200000033</td>\n",
       "      <td>8</td>\n",
       "      <td>2021-03-03</td>\n",
       "    </tr>\n",
       "  </tbody>\n",
       "</table>\n",
       "</div>"
      ],
      "text/plain": [
       "   HOUSEHOLD_KEY   COUPON_UPC  CAMPAIGN       Date\n",
       "0              1  10000085364         8 2021-02-25\n",
       "1              1  51700010076         8 2021-02-25\n",
       "2              1  54200000033         8 2021-03-03"
      ]
     },
     "execution_count": 144,
     "metadata": {},
     "output_type": "execute_result"
    }
   ],
   "source": [
    "COUPON_REDEMPT_RAW.head(3)"
   ]
  },
  {
   "cell_type": "code",
   "execution_count": 145,
   "id": "7582eaf7",
   "metadata": {},
   "outputs": [],
   "source": [
    "COUPON_REDEMPT_RAW['Date']=pd.to_datetime(COUPON_REDEMPT_RAW['Date']).apply(lambda x: x.date())"
   ]
  },
  {
   "cell_type": "code",
   "execution_count": 146,
   "id": "500cb0d4",
   "metadata": {},
   "outputs": [
    {
     "data": {
      "text/plain": [
       "HOUSEHOLD_KEY     int16\n",
       "COUPON_UPC        int64\n",
       "CAMPAIGN           int8\n",
       "Date             object\n",
       "dtype: object"
      ]
     },
     "execution_count": 146,
     "metadata": {},
     "output_type": "execute_result"
    }
   ],
   "source": [
    "COUPON_REDEMPT_RAW.dtypes"
   ]
  },
  {
   "cell_type": "code",
   "execution_count": 147,
   "id": "4552dd91",
   "metadata": {},
   "outputs": [],
   "source": [
    "TRANSACTION_RAW.drop(['DAY','WEEK_NO'],axis=1,inplace=True)"
   ]
  },
  {
   "cell_type": "code",
   "execution_count": 148,
   "id": "615bfffa",
   "metadata": {},
   "outputs": [
    {
     "data": {
      "text/html": [
       "<div>\n",
       "<style scoped>\n",
       "    .dataframe tbody tr th:only-of-type {\n",
       "        vertical-align: middle;\n",
       "    }\n",
       "\n",
       "    .dataframe tbody tr th {\n",
       "        vertical-align: top;\n",
       "    }\n",
       "\n",
       "    .dataframe thead th {\n",
       "        text-align: right;\n",
       "    }\n",
       "</style>\n",
       "<table border=\"1\" class=\"dataframe\">\n",
       "  <thead>\n",
       "    <tr style=\"text-align: right;\">\n",
       "      <th></th>\n",
       "      <th>HOUSEHOLD_KEY</th>\n",
       "      <th>BASKET_ID</th>\n",
       "      <th>PRODUCT_ID</th>\n",
       "      <th>QUANTITY</th>\n",
       "      <th>SALES_VALUE</th>\n",
       "      <th>STORE_ID</th>\n",
       "      <th>RETAIL_DISC</th>\n",
       "      <th>TRANS_TIME</th>\n",
       "      <th>COUPON_DISC</th>\n",
       "      <th>COUPON_MATCH_DISC</th>\n",
       "      <th>Date</th>\n",
       "    </tr>\n",
       "  </thead>\n",
       "  <tbody>\n",
       "    <tr>\n",
       "      <th>0</th>\n",
       "      <td>2375</td>\n",
       "      <td>26984851472</td>\n",
       "      <td>1004906</td>\n",
       "      <td>1</td>\n",
       "      <td>1.39</td>\n",
       "      <td>364</td>\n",
       "      <td>-0.60</td>\n",
       "      <td>1631</td>\n",
       "      <td>0</td>\n",
       "      <td>0</td>\n",
       "      <td>2020-01-02</td>\n",
       "    </tr>\n",
       "    <tr>\n",
       "      <th>1</th>\n",
       "      <td>2375</td>\n",
       "      <td>26984851472</td>\n",
       "      <td>1033142</td>\n",
       "      <td>1</td>\n",
       "      <td>0.82</td>\n",
       "      <td>364</td>\n",
       "      <td>0.00</td>\n",
       "      <td>1631</td>\n",
       "      <td>0</td>\n",
       "      <td>0</td>\n",
       "      <td>2020-01-02</td>\n",
       "    </tr>\n",
       "    <tr>\n",
       "      <th>2</th>\n",
       "      <td>2375</td>\n",
       "      <td>26984851472</td>\n",
       "      <td>1036325</td>\n",
       "      <td>1</td>\n",
       "      <td>0.99</td>\n",
       "      <td>364</td>\n",
       "      <td>-0.30</td>\n",
       "      <td>1631</td>\n",
       "      <td>0</td>\n",
       "      <td>0</td>\n",
       "      <td>2020-01-02</td>\n",
       "    </tr>\n",
       "    <tr>\n",
       "      <th>3</th>\n",
       "      <td>2375</td>\n",
       "      <td>26984851472</td>\n",
       "      <td>1082185</td>\n",
       "      <td>1</td>\n",
       "      <td>1.21</td>\n",
       "      <td>364</td>\n",
       "      <td>0.00</td>\n",
       "      <td>1631</td>\n",
       "      <td>0</td>\n",
       "      <td>0</td>\n",
       "      <td>2020-01-02</td>\n",
       "    </tr>\n",
       "    <tr>\n",
       "      <th>4</th>\n",
       "      <td>2375</td>\n",
       "      <td>26984851472</td>\n",
       "      <td>8160430</td>\n",
       "      <td>1</td>\n",
       "      <td>1.50</td>\n",
       "      <td>364</td>\n",
       "      <td>-0.39</td>\n",
       "      <td>1631</td>\n",
       "      <td>0</td>\n",
       "      <td>0</td>\n",
       "      <td>2020-01-02</td>\n",
       "    </tr>\n",
       "  </tbody>\n",
       "</table>\n",
       "</div>"
      ],
      "text/plain": [
       "   HOUSEHOLD_KEY    BASKET_ID  PRODUCT_ID  QUANTITY  SALES_VALUE  STORE_ID  \\\n",
       "0           2375  26984851472     1004906         1         1.39       364   \n",
       "1           2375  26984851472     1033142         1         0.82       364   \n",
       "2           2375  26984851472     1036325         1         0.99       364   \n",
       "3           2375  26984851472     1082185         1         1.21       364   \n",
       "4           2375  26984851472     8160430         1         1.50       364   \n",
       "\n",
       "   RETAIL_DISC  TRANS_TIME  COUPON_DISC  COUPON_MATCH_DISC       Date  \n",
       "0        -0.60        1631            0                  0 2020-01-02  \n",
       "1         0.00        1631            0                  0 2020-01-02  \n",
       "2        -0.30        1631            0                  0 2020-01-02  \n",
       "3         0.00        1631            0                  0 2020-01-02  \n",
       "4        -0.39        1631            0                  0 2020-01-02  "
      ]
     },
     "execution_count": 148,
     "metadata": {},
     "output_type": "execute_result"
    }
   ],
   "source": [
    "TRANSACTION_RAW.head()"
   ]
  },
  {
   "cell_type": "code",
   "execution_count": 149,
   "id": "bb36d69f",
   "metadata": {},
   "outputs": [],
   "source": [
    "TRANSACTION_RAW['Date']=pd.to_datetime(TRANSACTION_RAW['Date']).apply(lambda x: x.date())"
   ]
  },
  {
   "cell_type": "code",
   "execution_count": 150,
   "id": "dcf1e477",
   "metadata": {},
   "outputs": [
    {
     "data": {
      "text/plain": [
       "HOUSEHOLD_KEY          int16\n",
       "BASKET_ID              int64\n",
       "PRODUCT_ID             int32\n",
       "QUANTITY               int32\n",
       "SALES_VALUE          float64\n",
       "STORE_ID               int16\n",
       "RETAIL_DISC          float64\n",
       "TRANS_TIME             int16\n",
       "COUPON_DISC             int8\n",
       "COUPON_MATCH_DISC       int8\n",
       "Date                  object\n",
       "dtype: object"
      ]
     },
     "execution_count": 150,
     "metadata": {},
     "output_type": "execute_result"
    }
   ],
   "source": [
    "TRANSACTION_RAW.dtypes"
   ]
  },
  {
   "cell_type": "code",
   "execution_count": 151,
   "id": "7dd3b7e0",
   "metadata": {},
   "outputs": [
    {
     "data": {
      "text/html": [
       "<div>\n",
       "<style scoped>\n",
       "    .dataframe tbody tr th:only-of-type {\n",
       "        vertical-align: middle;\n",
       "    }\n",
       "\n",
       "    .dataframe tbody tr th {\n",
       "        vertical-align: top;\n",
       "    }\n",
       "\n",
       "    .dataframe thead th {\n",
       "        text-align: right;\n",
       "    }\n",
       "</style>\n",
       "<table border=\"1\" class=\"dataframe\">\n",
       "  <thead>\n",
       "    <tr style=\"text-align: right;\">\n",
       "      <th></th>\n",
       "      <th>HOUSEHOLD_KEY</th>\n",
       "      <th>BASKET_ID</th>\n",
       "      <th>PRODUCT_ID</th>\n",
       "      <th>QUANTITY</th>\n",
       "      <th>SALES_VALUE</th>\n",
       "      <th>STORE_ID</th>\n",
       "      <th>RETAIL_DISC</th>\n",
       "      <th>TRANS_TIME</th>\n",
       "      <th>COUPON_DISC</th>\n",
       "      <th>COUPON_MATCH_DISC</th>\n",
       "      <th>Date</th>\n",
       "    </tr>\n",
       "  </thead>\n",
       "  <tbody>\n",
       "    <tr>\n",
       "      <th>0</th>\n",
       "      <td>2375</td>\n",
       "      <td>26984851472</td>\n",
       "      <td>1004906</td>\n",
       "      <td>1</td>\n",
       "      <td>1.39</td>\n",
       "      <td>364</td>\n",
       "      <td>-0.60</td>\n",
       "      <td>1631</td>\n",
       "      <td>0</td>\n",
       "      <td>0</td>\n",
       "      <td>2020-01-02</td>\n",
       "    </tr>\n",
       "    <tr>\n",
       "      <th>1</th>\n",
       "      <td>2375</td>\n",
       "      <td>26984851472</td>\n",
       "      <td>1033142</td>\n",
       "      <td>1</td>\n",
       "      <td>0.82</td>\n",
       "      <td>364</td>\n",
       "      <td>0.00</td>\n",
       "      <td>1631</td>\n",
       "      <td>0</td>\n",
       "      <td>0</td>\n",
       "      <td>2020-01-02</td>\n",
       "    </tr>\n",
       "    <tr>\n",
       "      <th>2</th>\n",
       "      <td>2375</td>\n",
       "      <td>26984851472</td>\n",
       "      <td>1036325</td>\n",
       "      <td>1</td>\n",
       "      <td>0.99</td>\n",
       "      <td>364</td>\n",
       "      <td>-0.30</td>\n",
       "      <td>1631</td>\n",
       "      <td>0</td>\n",
       "      <td>0</td>\n",
       "      <td>2020-01-02</td>\n",
       "    </tr>\n",
       "    <tr>\n",
       "      <th>3</th>\n",
       "      <td>2375</td>\n",
       "      <td>26984851472</td>\n",
       "      <td>1082185</td>\n",
       "      <td>1</td>\n",
       "      <td>1.21</td>\n",
       "      <td>364</td>\n",
       "      <td>0.00</td>\n",
       "      <td>1631</td>\n",
       "      <td>0</td>\n",
       "      <td>0</td>\n",
       "      <td>2020-01-02</td>\n",
       "    </tr>\n",
       "    <tr>\n",
       "      <th>4</th>\n",
       "      <td>2375</td>\n",
       "      <td>26984851472</td>\n",
       "      <td>8160430</td>\n",
       "      <td>1</td>\n",
       "      <td>1.50</td>\n",
       "      <td>364</td>\n",
       "      <td>-0.39</td>\n",
       "      <td>1631</td>\n",
       "      <td>0</td>\n",
       "      <td>0</td>\n",
       "      <td>2020-01-02</td>\n",
       "    </tr>\n",
       "    <tr>\n",
       "      <th>5</th>\n",
       "      <td>2375</td>\n",
       "      <td>26984851516</td>\n",
       "      <td>826249</td>\n",
       "      <td>2</td>\n",
       "      <td>1.98</td>\n",
       "      <td>364</td>\n",
       "      <td>-0.60</td>\n",
       "      <td>1642</td>\n",
       "      <td>0</td>\n",
       "      <td>0</td>\n",
       "      <td>2020-01-02</td>\n",
       "    </tr>\n",
       "    <tr>\n",
       "      <th>6</th>\n",
       "      <td>2375</td>\n",
       "      <td>26984851516</td>\n",
       "      <td>1043142</td>\n",
       "      <td>1</td>\n",
       "      <td>1.57</td>\n",
       "      <td>364</td>\n",
       "      <td>-0.68</td>\n",
       "      <td>1642</td>\n",
       "      <td>0</td>\n",
       "      <td>0</td>\n",
       "      <td>2020-01-02</td>\n",
       "    </tr>\n",
       "    <tr>\n",
       "      <th>7</th>\n",
       "      <td>2375</td>\n",
       "      <td>26984851516</td>\n",
       "      <td>1085983</td>\n",
       "      <td>1</td>\n",
       "      <td>2.99</td>\n",
       "      <td>364</td>\n",
       "      <td>-0.40</td>\n",
       "      <td>1642</td>\n",
       "      <td>0</td>\n",
       "      <td>0</td>\n",
       "      <td>2020-01-02</td>\n",
       "    </tr>\n",
       "    <tr>\n",
       "      <th>8</th>\n",
       "      <td>2375</td>\n",
       "      <td>26984851516</td>\n",
       "      <td>1102651</td>\n",
       "      <td>1</td>\n",
       "      <td>1.89</td>\n",
       "      <td>364</td>\n",
       "      <td>0.00</td>\n",
       "      <td>1642</td>\n",
       "      <td>0</td>\n",
       "      <td>0</td>\n",
       "      <td>2020-01-02</td>\n",
       "    </tr>\n",
       "    <tr>\n",
       "      <th>9</th>\n",
       "      <td>2375</td>\n",
       "      <td>26984851516</td>\n",
       "      <td>6423775</td>\n",
       "      <td>1</td>\n",
       "      <td>2.00</td>\n",
       "      <td>364</td>\n",
       "      <td>-0.79</td>\n",
       "      <td>1642</td>\n",
       "      <td>0</td>\n",
       "      <td>0</td>\n",
       "      <td>2020-01-02</td>\n",
       "    </tr>\n",
       "  </tbody>\n",
       "</table>\n",
       "</div>"
      ],
      "text/plain": [
       "   HOUSEHOLD_KEY    BASKET_ID  PRODUCT_ID  QUANTITY  SALES_VALUE  STORE_ID  \\\n",
       "0           2375  26984851472     1004906         1         1.39       364   \n",
       "1           2375  26984851472     1033142         1         0.82       364   \n",
       "2           2375  26984851472     1036325         1         0.99       364   \n",
       "3           2375  26984851472     1082185         1         1.21       364   \n",
       "4           2375  26984851472     8160430         1         1.50       364   \n",
       "5           2375  26984851516      826249         2         1.98       364   \n",
       "6           2375  26984851516     1043142         1         1.57       364   \n",
       "7           2375  26984851516     1085983         1         2.99       364   \n",
       "8           2375  26984851516     1102651         1         1.89       364   \n",
       "9           2375  26984851516     6423775         1         2.00       364   \n",
       "\n",
       "   RETAIL_DISC  TRANS_TIME  COUPON_DISC  COUPON_MATCH_DISC        Date  \n",
       "0        -0.60        1631            0                  0  2020-01-02  \n",
       "1         0.00        1631            0                  0  2020-01-02  \n",
       "2        -0.30        1631            0                  0  2020-01-02  \n",
       "3         0.00        1631            0                  0  2020-01-02  \n",
       "4        -0.39        1631            0                  0  2020-01-02  \n",
       "5        -0.60        1642            0                  0  2020-01-02  \n",
       "6        -0.68        1642            0                  0  2020-01-02  \n",
       "7        -0.40        1642            0                  0  2020-01-02  \n",
       "8         0.00        1642            0                  0  2020-01-02  \n",
       "9        -0.79        1642            0                  0  2020-01-02  "
      ]
     },
     "execution_count": 151,
     "metadata": {},
     "output_type": "execute_result"
    }
   ],
   "source": [
    "TRANSACTION_RAW.head(10)"
   ]
  },
  {
   "cell_type": "markdown",
   "id": "173a8550",
   "metadata": {},
   "source": [
    "**Now loading the table to Db**"
   ]
  },
  {
   "cell_type": "code",
   "execution_count": 152,
   "id": "3e006f5a",
   "metadata": {},
   "outputs": [],
   "source": [
    "from sqlalchemy import create_engine\n",
    "from sqlalchemy.engine import URL\n",
    "import snowflake.connector as snowCtx\n",
    "from snowflake.connector.pandas_tools import write_pandas\n",
    "import pandas as pd\n",
    "import getpass"
   ]
  },
  {
   "cell_type": "code",
   "execution_count": 153,
   "id": "e14bddfe",
   "metadata": {},
   "outputs": [
    {
     "name": "stdout",
     "output_type": "stream",
     "text": [
      "Your Snowflake Password: ········\n"
     ]
    }
   ],
   "source": [
    "conn = snowflake.connector.connect(\n",
    "        user = 'PROJECT2',\n",
    "        ## password = getpass.getpass('Your Snowflake Password: '),\n",
    "        password='Subhajit@9',\n",
    "        ##  account = https://qdevimk-uf95771.snowflakecomputing.com\n",
    "        account = 'qdevimk-uf95771',\n",
    "        database='RETAILS',\n",
    "        schema='PUBLIC',\n",
    "        warehouse='COMPUTE_WH',\n",
    "  )"
   ]
  },
  {
   "cell_type": "code",
   "execution_count": 154,
   "id": "97a398d1",
   "metadata": {},
   "outputs": [],
   "source": [
    "cur=conn.cursor()"
   ]
  },
  {
   "cell_type": "code",
   "execution_count": 155,
   "id": "e43c23d3",
   "metadata": {},
   "outputs": [
    {
     "data": {
      "text/plain": [
       "<snowflake.connector.cursor.SnowflakeCursor at 0x199a6025b20>"
      ]
     },
     "execution_count": 155,
     "metadata": {},
     "output_type": "execute_result"
    }
   ],
   "source": [
    "cur.execute(''' CREATE OR REPLACE TABLE COUPON_REDEMPT_NEW\n",
    "(HOUSEHOLD_KEY NUMBER(38,0),\n",
    "COUPON_UPC NUMBER(38,0),\n",
    "CAMPAIGN NUMBER(38,0),\n",
    "Date Date\n",
    ")''')"
   ]
  },
  {
   "cell_type": "code",
   "execution_count": 156,
   "id": "1ba6cdc1",
   "metadata": {},
   "outputs": [
    {
     "data": {
      "text/plain": [
       "<snowflake.connector.cursor.SnowflakeCursor at 0x199a6025b20>"
      ]
     },
     "execution_count": 156,
     "metadata": {},
     "output_type": "execute_result"
    }
   ],
   "source": [
    "cur.execute('''CREATE OR REPLACE TABLE TRANSACTION_NEW\n",
    "(HOUSEHOLD_KEY NUMBER(38,0),\n",
    "BASKET_ID NUMBER(38,0),\n",
    "PRODUCT_ID NUMBER(38,0),\n",
    "QUANTITY NUMBER(38,0),\n",
    "SALES_VALUE FLOAT,\n",
    "STORE_ID NUMBER(38,0),\n",
    "RETAIL_DISC FLOAT,\n",
    "TRANS_TIME NUMBER(38,0),\n",
    "COUPON_DISC FLOAT,\n",
    "COUPON_MATCH_DISC FLOAT,\n",
    "Date Date\n",
    ")\n",
    "''')"
   ]
  },
  {
   "cell_type": "code",
   "execution_count": 161,
   "id": "31580e76",
   "metadata": {},
   "outputs": [
    {
     "data": {
      "text/plain": [
       "<snowflake.connector.cursor.SnowflakeCursor at 0x199a6025b20>"
      ]
     },
     "execution_count": 161,
     "metadata": {},
     "output_type": "execute_result"
    }
   ],
   "source": [
    "cur.execute('''\n",
    "CREATE OR REPLACE TABLE CAMPAIGN_DESC_NEW\n",
    "(DESCRIPTION VARCHAR(10),\n",
    "CAMPAIGN NUMBER(38,0),\n",
    "Start_date date,\n",
    "End_date  date,\n",
    "Campaign_Duration NUMBER(38,0),\n",
    "Start_month VARCHAR(10),\n",
    "End_month VARCHAR(10),\n",
    "Start_Year INT,\n",
    "End_Year INT)''')"
   ]
  },
  {
   "cell_type": "code",
   "execution_count": 167,
   "id": "3122fedc",
   "metadata": {},
   "outputs": [
    {
     "name": "stdout",
     "output_type": "stream",
     "text": [
      "True,1,30\n"
     ]
    }
   ],
   "source": [
    "success, nchunks, nrows, _ = write_pandas(conn, CAMPAIGN_DESC_RAW,'CAMPAIGN_DESC_NEW',quote_identifiers=False)\n",
    "print(str(success)+','+str(nchunks)+','+str(nrows))"
   ]
  },
  {
   "cell_type": "code",
   "execution_count": 163,
   "id": "594baa06",
   "metadata": {},
   "outputs": [
    {
     "name": "stdout",
     "output_type": "stream",
     "text": [
      "True,1,2318\n"
     ]
    }
   ],
   "source": [
    "success, nchunks, nrows, _ = write_pandas(conn, COUPON_REDEMPT_RAW,'COUPON_REDEMPT_NEW',quote_identifiers=False)\n",
    "print(str(success)+','+str(nchunks)+','+str(nrows))"
   ]
  },
  {
   "cell_type": "code",
   "execution_count": 164,
   "id": "87da7bd1",
   "metadata": {},
   "outputs": [
    {
     "name": "stdout",
     "output_type": "stream",
     "text": [
      "True,1,450416\n"
     ]
    }
   ],
   "source": [
    "success, nchunks, nrows, _ = write_pandas(conn,TRANSACTION_RAW ,'TRANSACTION_NEW',quote_identifiers=False)\n",
    "print(str(success)+','+str(nchunks)+','+str(nrows))"
   ]
  },
  {
   "cell_type": "code",
   "execution_count": 168,
   "id": "66272c10",
   "metadata": {},
   "outputs": [],
   "source": [
    "cur.close()\n",
    "conn.close()"
   ]
  },
  {
   "cell_type": "code",
   "execution_count": null,
   "id": "6db806a2",
   "metadata": {},
   "outputs": [],
   "source": [
    "##CAMPAIGN_DESC_CLEANED = CAMPAIGN_DESC_RAW.copy()"
   ]
  },
  {
   "cell_type": "code",
   "execution_count": null,
   "id": "e754f13c",
   "metadata": {},
   "outputs": [],
   "source": [
    "##from sqlalchemy import create_engine"
   ]
  },
  {
   "cell_type": "code",
   "execution_count": null,
   "id": "527cd516",
   "metadata": {},
   "outputs": [],
   "source": [
    "##connection_string = f\"snowflake://{user}:{password}@{account}/{database}/{schema}?warehouse={warehouse}\""
   ]
  },
  {
   "cell_type": "code",
   "execution_count": null,
   "id": "0d9a0096",
   "metadata": {},
   "outputs": [],
   "source": [
    "##engine = create_engine(connection_string)"
   ]
  },
  {
   "cell_type": "code",
   "execution_count": null,
   "id": "03fb8809",
   "metadata": {},
   "outputs": [],
   "source": [
    "##cur = conn.cursor()"
   ]
  },
  {
   "cell_type": "code",
   "execution_count": null,
   "id": "795ad57c",
   "metadata": {},
   "outputs": [],
   "source": [
    "##CAMPAIGN_DESC_RAW.to_sql(con=engine,name=\"CAMPAIGN_DESC_New\",if_exists=\"append\",index=False)"
   ]
  },
  {
   "cell_type": "code",
   "execution_count": null,
   "id": "042f7ef8",
   "metadata": {},
   "outputs": [],
   "source": [
    "##COUPON_REDEMPT_RAW.to_sql(name=\"COUPON_REDEMPT_New\",con=engine,if_exists=\"replace\",index=False)"
   ]
  },
  {
   "cell_type": "code",
   "execution_count": null,
   "id": "fb9b2063",
   "metadata": {},
   "outputs": [],
   "source": [
    "##TRANSACTION_RAW.to_sql(name=\"TRANSACTION_New\",con=engine,if_exists=\"replace\",index=False)"
   ]
  },
  {
   "cell_type": "code",
   "execution_count": null,
   "id": "66825f2e",
   "metadata": {},
   "outputs": [],
   "source": [
    "##TRANSACTION_RAW.shape"
   ]
  },
  {
   "cell_type": "code",
   "execution_count": null,
   "id": "36b45ac3",
   "metadata": {},
   "outputs": [],
   "source": [
    "##TRANSACTION_RAW.to_csv('TRANSACTION.csv',index=False)"
   ]
  },
  {
   "cell_type": "code",
   "execution_count": null,
   "id": "49bf614c",
   "metadata": {},
   "outputs": [],
   "source": [
    "##chunk_size = 10000\n",
    "##for chunk in pd.read_csv(\"TRANSACTION.csv\", chunksize=chunk_size):\n",
    "    ##chunk.to_sql('TRANSACTION_New',con= engine,if_exists='append', index=False)"
   ]
  },
  {
   "cell_type": "code",
   "execution_count": null,
   "id": "0e4c6d22",
   "metadata": {},
   "outputs": [],
   "source": [
    "##chunk_size = 16000"
   ]
  },
  {
   "cell_type": "code",
   "execution_count": null,
   "id": "ee4f2ab9",
   "metadata": {},
   "outputs": [],
   "source": [
    "##chunks = [TRANSACTION_RAW[i:i+chunk_size] for i in range(0, len(TRANSACTION_RAW), chunk_size)]"
   ]
  },
  {
   "cell_type": "code",
   "execution_count": null,
   "id": "8091c28a",
   "metadata": {},
   "outputs": [],
   "source": [
    "##for chunk in chunks:\n",
    "    ##chunk.to_sql(name=\"TRANSACTION_New\", con=engine, if_exists='append', index=False)\n",
    "    "
   ]
  },
  {
   "cell_type": "code",
   "execution_count": null,
   "id": "05336705",
   "metadata": {},
   "outputs": [],
   "source": [
    "##engine.dispose()"
   ]
  },
  {
   "cell_type": "code",
   "execution_count": null,
   "id": "b20a95c5",
   "metadata": {},
   "outputs": [],
   "source": [
    "##programmingerror: (snowflake.connector.errors.programmingerror) 001042 (xx000): \n",
    "        ##sql compilation error: compilation memory exhausted\n",
    "    \n",
    "##(snowflake.connector.errors.ProgrammingError) 001795 (42601): SQL compilation error: error line 1 at position 187\n",
    "##maximum number of expressions in a list exceeded, expected at most 16,384, got 100,000    "
   ]
  },
  {
   "cell_type": "code",
   "execution_count": null,
   "id": "bceac47a",
   "metadata": {},
   "outputs": [],
   "source": []
  },
  {
   "cell_type": "code",
   "execution_count": null,
   "id": "42e3fef7",
   "metadata": {},
   "outputs": [],
   "source": []
  },
  {
   "cell_type": "code",
   "execution_count": null,
   "id": "9f1d56ca",
   "metadata": {},
   "outputs": [],
   "source": []
  },
  {
   "cell_type": "code",
   "execution_count": null,
   "id": "87d14622",
   "metadata": {},
   "outputs": [],
   "source": []
  }
 ],
 "metadata": {
  "kernelspec": {
   "display_name": "Python 3 (ipykernel)",
   "language": "python",
   "name": "python3"
  },
  "language_info": {
   "codemirror_mode": {
    "name": "ipython",
    "version": 3
   },
   "file_extension": ".py",
   "mimetype": "text/x-python",
   "name": "python",
   "nbconvert_exporter": "python",
   "pygments_lexer": "ipython3",
   "version": "3.9.13"
  }
 },
 "nbformat": 4,
 "nbformat_minor": 5
}
